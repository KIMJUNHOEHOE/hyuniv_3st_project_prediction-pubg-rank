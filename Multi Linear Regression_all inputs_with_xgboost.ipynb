{
 "cells": [
  {
   "cell_type": "code",
   "execution_count": 7,
   "metadata": {},
   "outputs": [],
   "source": [
    "import numpy as np # linear algebra\n",
    "import pandas as pd \n",
    "import seaborn as sns\n",
    "import xgboost\n",
    "from sklearn.model_selection import train_test_split\n",
    "from tqdm import tqdm_notebook\n",
    "import warnings\n",
    "warnings.filterwarnings(\"ignore\")\n",
    "import os"
   ]
  },
  {
   "cell_type": "code",
   "execution_count": 4,
   "metadata": {},
   "outputs": [
    {
     "data": {
      "text/plain": [
       "['.ipynb_checkpoints',\n",
       " 'Correlation.ipynb',\n",
       " 'data',\n",
       " 'Multi Linear Regression_all inputs.ipynb',\n",
       " 'Multi Linear Regression_all inputs_with_minmaxscaler.ipynb',\n",
       " 'Multi Linear Regression_all inputs_with_stdnormalized.ipynb',\n",
       " 'Multi Linear Regression_all inputs_with_xgboost.ipynb',\n",
       " 'result']"
      ]
     },
     "execution_count": 4,
     "metadata": {},
     "output_type": "execute_result"
    }
   ],
   "source": [
    "os.listdir(\".\")"
   ]
  },
  {
   "cell_type": "code",
   "execution_count": 8,
   "metadata": {},
   "outputs": [],
   "source": [
    "data = pd.read_csv('./data/train_V2.csv')\n",
    "train_df, test_df = train_test_split(data, train_size = 0.7)"
   ]
  },
  {
   "cell_type": "code",
   "execution_count": 9,
   "metadata": {},
   "outputs": [
    {
     "name": "stdout",
     "output_type": "stream",
     "text": [
      "False\n",
      "False\n"
     ]
    }
   ],
   "source": [
    "# null값 확인 및 \n",
    "# inplace=False로 하면 기존 혹은 새로운 변수에 할당해야 하고, inplace = True 하면 해당변수에 적용됨\n",
    "# na가 포함된 행을 제거하는 것은 데이터 소실이 크기 때문에 inplace=False가 default\n",
    "train_df.dropna(inplace = True)\n",
    "print(train_df.isnull().any().any())\n",
    "test_df.dropna(inplace = True)\n",
    "print(test_df.isnull().any().any())"
   ]
  },
  {
   "cell_type": "code",
   "execution_count": 10,
   "metadata": {},
   "outputs": [],
   "source": [
    "# 회귀분석을 하기 위해 문자열을 범주값으로 변환\n",
    "matchTyp = {'squad-fpp': 0, 'duo': 1, 'solo-fpp': 2, 'squad': 3, 'duo-fpp': 4, 'solo': 5,\n",
    "       'normal-squad-fpp': 6, 'crashfpp': 7, 'flaretpp': 8, 'normal-solo-fpp': 9,\n",
    "       'flarefpp': 10, 'normal-duo-fpp': 11, 'normal-duo': 12, 'normal-squad': 13,\n",
    "       'crashtpp': 14, 'normal-solo': 15 }\n",
    "\n",
    "train_df['matchType'] = train_df['matchType'].replace(matchTyp)\n",
    "test_df['matchType'] = test_df['matchType'].replace(matchTyp)"
   ]
  },
  {
   "cell_type": "code",
   "execution_count": 15,
   "metadata": {},
   "outputs": [],
   "source": [
    "# drop함수와 dropna 함수는 데이터 소실 우려가 있기 때문에 할당하거나, inplace=True 매개변수를 가져야 정정되도록 default설정\n",
    "x_train_df = train_df.drop([\"Id\", \"groupId\", \"matchId\", \"winPlacePerc\"], axis = 1)\n",
    "y_train_df = train_df[\"winPlacePerc\"]\n",
    "noId_test_df = test_df.drop([\"Id\", \"groupId\", \"matchId\",'winPlacePerc'], axis = 1)"
   ]
  },
  {
   "cell_type": "code",
   "execution_count": null,
   "metadata": {},
   "outputs": [],
   "source": [
    "# xgboost를 이용한 XGBRegressor\n",
    "model = xgboost.XGBRegressor(max_depth=17, gamma=0.3, learning_rate= 0.1)\n",
    "model.fit(x_train_df,y_train_df) # model 객체에 결과 할당됨"
   ]
  },
  {
   "cell_type": "code",
   "execution_count": null,
   "metadata": {},
   "outputs": [],
   "source": [
    "predict = model.predict(noId_test_df) # 우리의 test data set에 모델 적용"
   ]
  },
  {
   "cell_type": "code",
   "execution_count": null,
   "metadata": {},
   "outputs": [],
   "source": [
    "test_id = test_df['Id']\n",
    "test_winPlacePerc = test_df['winPlacePerc']\n",
    "y_predict_df = pd.DataFrame(y_predict,index = test_id.index, columns=['predict'])\n",
    "diff = pd.DataFrame(test_df['winPlacePerc']-y_predict_df['predict'],\n",
    "                   columns=['diff'])\n",
    "\n",
    "mae = sum(abs(diff['diff']))/diff['diff'].count() # Mean absolute error\n",
    "\n",
    "result = pd.DataFrame({'Id':test_id['Id'],'winPlacePerc':test_winPlacePerc['winPlacePerc'], \n",
    "                       'predict':y_predict_df['predict'],'diff':diff['diff'],'MAE':mae})\n",
    "result.to_csv('./result/Multi_Linear_Regression_all_inputs_with_xgboost.csv',sep=',', encoding='utf-8')\n",
    "print(result.head())\n",
    "print('Mae\\t : ', mae)"
   ]
  },
  {
   "cell_type": "markdown",
   "metadata": {},
   "source": [
    "### 문제\n",
    "> - 시간이 너무 오래 걸린다..."
   ]
  },
  {
   "cell_type": "code",
   "execution_count": null,
   "metadata": {},
   "outputs": [],
   "source": []
  }
 ],
 "metadata": {
  "kernelspec": {
   "display_name": "Python 3",
   "language": "python",
   "name": "python3"
  },
  "language_info": {
   "codemirror_mode": {
    "name": "ipython",
    "version": 3
   },
   "file_extension": ".py",
   "mimetype": "text/x-python",
   "name": "python",
   "nbconvert_exporter": "python",
   "pygments_lexer": "ipython3",
   "version": "3.6.7"
  }
 },
 "nbformat": 4,
 "nbformat_minor": 2
}
