{
 "cells": [
  {
   "cell_type": "code",
   "execution_count": 2,
   "metadata": {},
   "outputs": [
    {
     "name": "stderr",
     "output_type": "stream",
     "text": [
      "C:\\Users\\JunHweKim\\Anaconda3\\envs\\py36\\lib\\site-packages\\sklearn\\ensemble\\weight_boosting.py:29: DeprecationWarning: numpy.core.umath_tests is an internal NumPy module and should not be imported. It will be removed in a future NumPy release.\n",
      "  from numpy.core.umath_tests import inner1d\n"
     ]
    }
   ],
   "source": [
    "import xgboost as xgb\n",
    "import numpy as np\n",
    "import pandas as pd\n",
    "import matplotlib.pyplot as plt\n",
    "import seaborn as sns\n",
    "from sklearn.model_selection import train_test_split\n",
    "import sklearn.preprocessing\n",
    "from sklearn.ensemble import RandomForestRegressor\n",
    "from sklearn.linear_model import LinearRegression\n",
    "from sklearn.datasets import make_regression\n",
    "from sklearn.metrics import mean_squared_error,mean_absolute_error\n",
    "import warnings\n",
    "warnings.filterwarnings(\"ignore\")\n",
    "from tqdm import tqdm_notebook\n",
    "import sklearn.preprocessing"
   ]
  },
  {
   "cell_type": "code",
   "execution_count": 3,
   "metadata": {},
   "outputs": [],
   "source": [
    "# dataframe display 옵션\n",
    "pd.set_option('display.max_columns' , 30)\n",
    "pd.set_option('display.width', None)"
   ]
  },
  {
   "cell_type": "code",
   "execution_count": 5,
   "metadata": {},
   "outputs": [],
   "source": [
    "data = pd.read_csv('./data/final3/final3_squad_Data.csv', \n",
    "                   dtype={                  \n",
    "                            'matchType': 'int8',\n",
    "                            'match_size': 'int16',\n",
    "                            'assists_ratio': 'float32',\n",
    "                            'boosts_ratio': 'float32',\n",
    "                            'headshotKills_ratio': 'float32',\n",
    "                            'heals_ratio': 'float32',\n",
    "                            'kills_ratio': 'float32',\n",
    "                            'killStreaks_ratio': 'float32',\n",
    "                            'longestKill_ratio': 'float32',\n",
    "                            'rideDistance_ratio': 'float32',\n",
    "                            'swimDistance_ratio': 'float32',\n",
    "                            'walkDistance_ratio': 'float32',\n",
    "                            'weaponsAcquired_ratio': 'float32',\n",
    "                            'headshotKillrate_ratio': 'float32',\n",
    "                            'DBNOs_ratio': 'float32',\n",
    "                            'revives_ratio': 'float32',\n",
    "                            'winPlacePerc': 'float32'\n",
    "                   })"
   ]
  },
  {
   "cell_type": "code",
   "execution_count": 28,
   "metadata": {},
   "outputs": [
    {
     "data": {
      "text/plain": [
       "Index(['Id', 'groupId', 'matchId', 'matchType', 'match_size', 'assists_ratio',\n",
       "       'boosts_ratio', 'headshotKills_ratio', 'heals_ratio', 'kills_ratio',\n",
       "       'killStreaks_ratio', 'longestKill_ratio', 'rideDistance_ratio',\n",
       "       'swimDistance_ratio', 'walkDistance_ratio', 'weaponsAcquired_ratio',\n",
       "       'headshotKillrate_ratio', 'DBNOs_ratio', 'revives_ratio',\n",
       "       'winPlacePerc'],\n",
       "      dtype='object')"
      ]
     },
     "execution_count": 28,
     "metadata": {},
     "output_type": "execute_result"
    }
   ],
   "source": [
    "data.columns"
   ]
  },
  {
   "cell_type": "code",
   "execution_count": 6,
   "metadata": {},
   "outputs": [],
   "source": [
    "slic_data = data.drop(columns=['Id','matchId','groupId','matchType'], axis=1)"
   ]
  },
  {
   "cell_type": "code",
   "execution_count": 30,
   "metadata": {},
   "outputs": [
    {
     "data": {
      "text/html": [
       "<div>\n",
       "<style scoped>\n",
       "    .dataframe tbody tr th:only-of-type {\n",
       "        vertical-align: middle;\n",
       "    }\n",
       "\n",
       "    .dataframe tbody tr th {\n",
       "        vertical-align: top;\n",
       "    }\n",
       "\n",
       "    .dataframe thead th {\n",
       "        text-align: right;\n",
       "    }\n",
       "</style>\n",
       "<table border=\"1\" class=\"dataframe\">\n",
       "  <thead>\n",
       "    <tr style=\"text-align: right;\">\n",
       "      <th></th>\n",
       "      <th>match_size</th>\n",
       "      <th>assists_ratio</th>\n",
       "      <th>boosts_ratio</th>\n",
       "      <th>headshotKills_ratio</th>\n",
       "      <th>heals_ratio</th>\n",
       "      <th>kills_ratio</th>\n",
       "      <th>killStreaks_ratio</th>\n",
       "      <th>longestKill_ratio</th>\n",
       "      <th>rideDistance_ratio</th>\n",
       "      <th>swimDistance_ratio</th>\n",
       "      <th>walkDistance_ratio</th>\n",
       "      <th>weaponsAcquired_ratio</th>\n",
       "      <th>headshotKillrate_ratio</th>\n",
       "      <th>DBNOs_ratio</th>\n",
       "      <th>revives_ratio</th>\n",
       "      <th>winPlacePerc</th>\n",
       "    </tr>\n",
       "  </thead>\n",
       "  <tbody>\n",
       "    <tr>\n",
       "      <th>count</th>\n",
       "      <td>2.276337e+06</td>\n",
       "      <td>2.276337e+06</td>\n",
       "      <td>2.276337e+06</td>\n",
       "      <td>2.276337e+06</td>\n",
       "      <td>2.276337e+06</td>\n",
       "      <td>2.276337e+06</td>\n",
       "      <td>2.276337e+06</td>\n",
       "      <td>2.276337e+06</td>\n",
       "      <td>2.276337e+06</td>\n",
       "      <td>2.276337e+06</td>\n",
       "      <td>2.276337e+06</td>\n",
       "      <td>2.276337e+06</td>\n",
       "      <td>2.276337e+06</td>\n",
       "      <td>2.276337e+06</td>\n",
       "      <td>2.276337e+06</td>\n",
       "      <td>2.276337e+06</td>\n",
       "    </tr>\n",
       "    <tr>\n",
       "      <th>mean</th>\n",
       "      <td>9.473852e+01</td>\n",
       "      <td>9.023539e-01</td>\n",
       "      <td>9.084159e-01</td>\n",
       "      <td>8.974936e-01</td>\n",
       "      <td>9.118612e-01</td>\n",
       "      <td>9.069356e-01</td>\n",
       "      <td>9.456120e-01</td>\n",
       "      <td>8.919916e-01</td>\n",
       "      <td>9.381741e-01</td>\n",
       "      <td>7.604511e-01</td>\n",
       "      <td>9.464942e-01</td>\n",
       "      <td>9.773367e-01</td>\n",
       "      <td>7.830723e-01</td>\n",
       "      <td>9.290596e-01</td>\n",
       "      <td>9.245993e-01</td>\n",
       "      <td>4.435143e-01</td>\n",
       "    </tr>\n",
       "    <tr>\n",
       "      <th>std</th>\n",
       "      <td>4.382512e+00</td>\n",
       "      <td>1.348270e+00</td>\n",
       "      <td>1.134464e+00</td>\n",
       "      <td>1.392043e+00</td>\n",
       "      <td>1.238522e+00</td>\n",
       "      <td>9.802330e-01</td>\n",
       "      <td>8.105638e-01</td>\n",
       "      <td>1.296971e+00</td>\n",
       "      <td>2.399287e+00</td>\n",
       "      <td>3.401667e+00</td>\n",
       "      <td>9.011078e-01</td>\n",
       "      <td>4.696212e-01</td>\n",
       "      <td>1.150660e+00</td>\n",
       "      <td>8.273711e-01</td>\n",
       "      <td>1.390087e+00</td>\n",
       "      <td>3.065954e-01</td>\n",
       "    </tr>\n",
       "    <tr>\n",
       "      <th>min</th>\n",
       "      <td>5.000000e+00</td>\n",
       "      <td>0.000000e+00</td>\n",
       "      <td>0.000000e+00</td>\n",
       "      <td>0.000000e+00</td>\n",
       "      <td>0.000000e+00</td>\n",
       "      <td>0.000000e+00</td>\n",
       "      <td>0.000000e+00</td>\n",
       "      <td>0.000000e+00</td>\n",
       "      <td>0.000000e+00</td>\n",
       "      <td>0.000000e+00</td>\n",
       "      <td>0.000000e+00</td>\n",
       "      <td>0.000000e+00</td>\n",
       "      <td>0.000000e+00</td>\n",
       "      <td>0.000000e+00</td>\n",
       "      <td>0.000000e+00</td>\n",
       "      <td>0.000000e+00</td>\n",
       "    </tr>\n",
       "    <tr>\n",
       "      <th>25%</th>\n",
       "      <td>9.300000e+01</td>\n",
       "      <td>0.000000e+00</td>\n",
       "      <td>0.000000e+00</td>\n",
       "      <td>0.000000e+00</td>\n",
       "      <td>0.000000e+00</td>\n",
       "      <td>1.995565e-01</td>\n",
       "      <td>3.096774e-01</td>\n",
       "      <td>3.719709e-02</td>\n",
       "      <td>0.000000e+00</td>\n",
       "      <td>0.000000e+00</td>\n",
       "      <td>1.649814e-01</td>\n",
       "      <td>6.086956e-01</td>\n",
       "      <td>0.000000e+00</td>\n",
       "      <td>3.304647e-01</td>\n",
       "      <td>0.000000e+00</td>\n",
       "      <td>1.724000e-01</td>\n",
       "    </tr>\n",
       "    <tr>\n",
       "      <th>50%</th>\n",
       "      <td>9.600000e+01</td>\n",
       "      <td>0.000000e+00</td>\n",
       "      <td>4.318182e-01</td>\n",
       "      <td>0.000000e+00</td>\n",
       "      <td>4.057971e-01</td>\n",
       "      <td>5.875000e-01</td>\n",
       "      <td>8.196721e-01</td>\n",
       "      <td>3.319237e-01</td>\n",
       "      <td>0.000000e+00</td>\n",
       "      <td>0.000000e+00</td>\n",
       "      <td>6.199538e-01</td>\n",
       "      <td>9.679012e-01</td>\n",
       "      <td>0.000000e+00</td>\n",
       "      <td>7.432950e-01</td>\n",
       "      <td>0.000000e+00</td>\n",
       "      <td>4.138000e-01</td>\n",
       "    </tr>\n",
       "    <tr>\n",
       "      <th>75%</th>\n",
       "      <td>9.800000e+01</td>\n",
       "      <td>1.347222e+00</td>\n",
       "      <td>1.454545e+00</td>\n",
       "      <td>1.397059e+00</td>\n",
       "      <td>1.348148e+00</td>\n",
       "      <td>1.324138e+00</td>\n",
       "      <td>1.454082e+00</td>\n",
       "      <td>1.193905e+00</td>\n",
       "      <td>8.016714e-01</td>\n",
       "      <td>0.000000e+00</td>\n",
       "      <td>1.598574e+00</td>\n",
       "      <td>1.311037e+00</td>\n",
       "      <td>1.318182e+00</td>\n",
       "      <td>1.280899e+00</td>\n",
       "      <td>1.515625e+00</td>\n",
       "      <td>7.037000e-01</td>\n",
       "    </tr>\n",
       "    <tr>\n",
       "      <th>max</th>\n",
       "      <td>1.000000e+02</td>\n",
       "      <td>1.583333e+01</td>\n",
       "      <td>1.000000e+01</td>\n",
       "      <td>1.942857e+01</td>\n",
       "      <td>1.540000e+01</td>\n",
       "      <td>7.166667e+00</td>\n",
       "      <td>5.222222e+00</td>\n",
       "      <td>1.453955e+01</td>\n",
       "      <td>9.900000e+01</td>\n",
       "      <td>1.000000e+02</td>\n",
       "      <td>5.727858e+00</td>\n",
       "      <td>3.353612e+00</td>\n",
       "      <td>1.350000e+01</td>\n",
       "      <td>6.600000e+00</td>\n",
       "      <td>2.325000e+01</td>\n",
       "      <td>1.000000e+00</td>\n",
       "    </tr>\n",
       "  </tbody>\n",
       "</table>\n",
       "</div>"
      ],
      "text/plain": [
       "         match_size  assists_ratio  boosts_ratio  headshotKills_ratio  \\\n",
       "count  2.276337e+06   2.276337e+06  2.276337e+06         2.276337e+06   \n",
       "mean   9.473852e+01   9.023539e-01  9.084159e-01         8.974936e-01   \n",
       "std    4.382512e+00   1.348270e+00  1.134464e+00         1.392043e+00   \n",
       "min    5.000000e+00   0.000000e+00  0.000000e+00         0.000000e+00   \n",
       "25%    9.300000e+01   0.000000e+00  0.000000e+00         0.000000e+00   \n",
       "50%    9.600000e+01   0.000000e+00  4.318182e-01         0.000000e+00   \n",
       "75%    9.800000e+01   1.347222e+00  1.454545e+00         1.397059e+00   \n",
       "max    1.000000e+02   1.583333e+01  1.000000e+01         1.942857e+01   \n",
       "\n",
       "        heals_ratio   kills_ratio  killStreaks_ratio  longestKill_ratio  \\\n",
       "count  2.276337e+06  2.276337e+06       2.276337e+06       2.276337e+06   \n",
       "mean   9.118612e-01  9.069356e-01       9.456120e-01       8.919916e-01   \n",
       "std    1.238522e+00  9.802330e-01       8.105638e-01       1.296971e+00   \n",
       "min    0.000000e+00  0.000000e+00       0.000000e+00       0.000000e+00   \n",
       "25%    0.000000e+00  1.995565e-01       3.096774e-01       3.719709e-02   \n",
       "50%    4.057971e-01  5.875000e-01       8.196721e-01       3.319237e-01   \n",
       "75%    1.348148e+00  1.324138e+00       1.454082e+00       1.193905e+00   \n",
       "max    1.540000e+01  7.166667e+00       5.222222e+00       1.453955e+01   \n",
       "\n",
       "       rideDistance_ratio  swimDistance_ratio  walkDistance_ratio  \\\n",
       "count        2.276337e+06        2.276337e+06        2.276337e+06   \n",
       "mean         9.381741e-01        7.604511e-01        9.464942e-01   \n",
       "std          2.399287e+00        3.401667e+00        9.011078e-01   \n",
       "min          0.000000e+00        0.000000e+00        0.000000e+00   \n",
       "25%          0.000000e+00        0.000000e+00        1.649814e-01   \n",
       "50%          0.000000e+00        0.000000e+00        6.199538e-01   \n",
       "75%          8.016714e-01        0.000000e+00        1.598574e+00   \n",
       "max          9.900000e+01        1.000000e+02        5.727858e+00   \n",
       "\n",
       "       weaponsAcquired_ratio  headshotKillrate_ratio   DBNOs_ratio  \\\n",
       "count           2.276337e+06            2.276337e+06  2.276337e+06   \n",
       "mean            9.773367e-01            7.830723e-01  9.290596e-01   \n",
       "std             4.696212e-01            1.150660e+00  8.273711e-01   \n",
       "min             0.000000e+00            0.000000e+00  0.000000e+00   \n",
       "25%             6.086956e-01            0.000000e+00  3.304647e-01   \n",
       "50%             9.679012e-01            0.000000e+00  7.432950e-01   \n",
       "75%             1.311037e+00            1.318182e+00  1.280899e+00   \n",
       "max             3.353612e+00            1.350000e+01  6.600000e+00   \n",
       "\n",
       "       revives_ratio  winPlacePerc  \n",
       "count   2.276337e+06  2.276337e+06  \n",
       "mean    9.245993e-01  4.435143e-01  \n",
       "std     1.390087e+00  3.065954e-01  \n",
       "min     0.000000e+00  0.000000e+00  \n",
       "25%     0.000000e+00  1.724000e-01  \n",
       "50%     0.000000e+00  4.138000e-01  \n",
       "75%     1.515625e+00  7.037000e-01  \n",
       "max     2.325000e+01  1.000000e+00  "
      ]
     },
     "execution_count": 30,
     "metadata": {},
     "output_type": "execute_result"
    }
   ],
   "source": [
    "slic_data.describe()"
   ]
  },
  {
   "cell_type": "code",
   "execution_count": 7,
   "metadata": {},
   "outputs": [
    {
     "name": "stdout",
     "output_type": "stream",
     "text": [
      "(1593435, 15) (682902, 15) (1593435,) (682902,)\n"
     ]
    }
   ],
   "source": [
    "train_df, test_df = train_test_split(slic_data, train_size = 0.7)\n",
    "\n",
    "train_y = np.array(train_df['winPlacePerc'])\n",
    "train_x = train_df.drop(columns=['winPlacePerc'], axis=1)\n",
    "\n",
    "test_y = np.array(test_df['winPlacePerc'])\n",
    "test_x = test_df.drop(columns=['winPlacePerc'], axis=1)\n",
    "print(train_x.shape, test_x.shape, train_y.shape, test_y.shape)"
   ]
  },
  {
   "cell_type": "code",
   "execution_count": 8,
   "metadata": {},
   "outputs": [
    {
     "name": "stdout",
     "output_type": "stream",
     "text": [
      "False\n",
      "False\n"
     ]
    }
   ],
   "source": [
    "train_df.dropna(inplace = True)\n",
    "print(train_df.isnull().any().any())\n",
    "test_df.dropna(inplace = True)\n",
    "print(test_df.isnull().any().any())"
   ]
  },
  {
   "cell_type": "code",
   "execution_count": 9,
   "metadata": {},
   "outputs": [
    {
     "data": {
      "text/plain": [
       "0.8575112370139143"
      ]
     },
     "execution_count": 9,
     "metadata": {},
     "output_type": "execute_result"
    }
   ],
   "source": [
    "reg = LinearRegression(normalize=True).fit(train_x, train_y)\n",
    "reg.score(train_x, train_y)"
   ]
  },
  {
   "cell_type": "code",
   "execution_count": 10,
   "metadata": {},
   "outputs": [
    {
     "name": "stdout",
     "output_type": "stream",
     "text": [
      "mae train:  0.090051435\n",
      "mae test:  0.090116315\n"
     ]
    }
   ],
   "source": [
    "print('mae train: ', mean_absolute_error(reg.predict(train_x), train_y))\n",
    "print('mae test: ', mean_absolute_error(reg.predict(test_x), test_y))"
   ]
  },
  {
   "cell_type": "code",
   "execution_count": null,
   "metadata": {},
   "outputs": [],
   "source": [
    "from sklearn.neural_network import MLPRegressor\n",
    "\n",
    "models = [\n",
    "    LinearRegression(), \n",
    "    MLPRegressor(hidden_layer_sizes=[512, 4], alpha=0.005, random_state=42),\n",
    "    MLPRegressor(hidden_layer_sizes=[48, 4], max_iter=5000, alpha=0.005, random_state=42), \n",
    "    MLPRegressor(hidden_layer_sizes=[512, 4], max_iter=5000, alpha=0.005, random_state=42), \n",
    "    MLPRegressor(hidden_layer_sizes=[1024, 4], max_iter=5000, alpha=0.005, random_state=42),\n",
    "    MLPRegressor(hidden_layer_sizes=[1024, 512, 4], max_iter=5000, alpha=0.005, random_state=42),\n",
    "]\n",
    "\n",
    "for m in models:\n",
    "    m.fit(train_x, train_y)\n",
    "    print('model: ', m)\n",
    "    print('mae train: ', mean_absolute_error(mlp.predict(train_x), train_y))\n",
    "    print('mae test: ', mean_absolute_error(mlp.predict(test_x), test_y))\n",
    "\n"
   ]
  },
  {
   "cell_type": "code",
   "execution_count": 12,
   "metadata": {},
   "outputs": [
    {
     "name": "stdout",
     "output_type": "stream",
     "text": [
      "mae train:  0.07791096012226606\n",
      "mae test:  0.07792234332384404\n"
     ]
    }
   ],
   "source": []
  },
  {
   "cell_type": "code",
   "execution_count": null,
   "metadata": {},
   "outputs": [],
   "source": []
  }
 ],
 "metadata": {
  "kernelspec": {
   "display_name": "Python 3",
   "language": "python",
   "name": "python3"
  },
  "language_info": {
   "codemirror_mode": {
    "name": "ipython",
    "version": 3
   },
   "file_extension": ".py",
   "mimetype": "text/x-python",
   "name": "python",
   "nbconvert_exporter": "python",
   "pygments_lexer": "ipython3",
   "version": "3.6.6"
  }
 },
 "nbformat": 4,
 "nbformat_minor": 2
}
