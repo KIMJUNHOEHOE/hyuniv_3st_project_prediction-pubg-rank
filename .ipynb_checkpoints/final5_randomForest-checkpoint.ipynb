{
 "cells": [
  {
   "cell_type": "code",
   "execution_count": 5,
   "metadata": {},
   "outputs": [
    {
     "name": "stderr",
     "output_type": "stream",
     "text": [
      "C:\\Users\\JunHweKim\\Anaconda3\\envs\\py36\\lib\\site-packages\\sklearn\\ensemble\\weight_boosting.py:29: DeprecationWarning: numpy.core.umath_tests is an internal NumPy module and should not be imported. It will be removed in a future NumPy release.\n",
      "  from numpy.core.umath_tests import inner1d\n"
     ]
    }
   ],
   "source": [
    "import tensorflow as tf\n",
    "import numpy as np\n",
    "import pandas as pd\n",
    "import matplotlib.pyplot as plt\n",
    "import seaborn as sns\n",
    "from sklearn.model_selection import train_test_split\n",
    "import sklearn.preprocessing\n",
    "from sklearn.ensemble import RandomForestRegressor\n",
    "from sklearn.datasets import make_regression\n",
    "from sklearn.metrics import mean_squared_error,mean_absolute_error\n",
    "import warnings\n",
    "warnings.filterwarnings(\"ignore\")\n",
    "from tqdm import tqdm_notebook"
   ]
  },
  {
   "cell_type": "code",
   "execution_count": 6,
   "metadata": {},
   "outputs": [],
   "source": [
    "# dataframe display 옵션\n",
    "pd.set_option('display.max_columns' , 30)\n",
    "pd.set_option('display.width', None)"
   ]
  },
  {
   "cell_type": "code",
   "execution_count": 7,
   "metadata": {},
   "outputs": [],
   "source": [
    "raw_data = pd.read_csv('./data/final5/final5_solo_Data.csv',  dtype={         \n",
    "\n",
    "                    'matchType': 'int8',\n",
    "\t\t\t\t\t'assists_mean'   :  'float32',\n",
    "\t\t\t\t\t'boosts_mean'   :  'float32',\n",
    "\t\t\t\t\t'headshotKills_mean'   :  'float32',\n",
    "\t\t\t\t\t'heals_mean'   :  'float32',\n",
    "\t\t\t\t\t'kills_mean'   :  'float32',\n",
    "\t\t\t\t\t'killStreaks_mean'   :  'float32',\n",
    "\t\t\t\t\t'weaponsAcquired_mean'   :  'float32',\n",
    "\t\t\t\t\t'longestKill_mean_log'   :  'float32',\n",
    "\t\t\t\t\t'rideDistance_mean_log'   :  'float32',\n",
    "\t\t\t\t\t'swimDistance_mean_log'   :  'float32',\n",
    "\t\t\t\t\t'walkDistance_mean_log'   :  'float32',\n",
    "\t\t\t\t\t'match_size': 'int16',\n",
    "\t\t\t\t\t'assists_ratio': 'float32',\n",
    "\t\t\t\t\t'boosts_ratio': 'float32',\n",
    "\t\t\t\t\t'headshotKills_ratio': 'float32',\n",
    "\t\t\t\t\t'heals_ratio': 'float32',\n",
    "\t\t\t\t\t'kills_ratio': 'float32',\n",
    "\t\t\t\t\t'killStreaks_ratio': 'float32',\n",
    "\t\t\t\t\t'longestKill_ratio': 'float32',\n",
    "\t\t\t\t\t'rideDistance_ratio': 'float32',\n",
    "\t\t\t\t\t'swimDistance_ratio': 'float32',\n",
    "\t\t\t\t\t'walkDistance_ratio': 'float32',\n",
    "\t\t\t\t\t'weaponsAcquired_ratio': 'float32',\n",
    "\t\t\t\t\t'headshotKillrate_ratio': 'float32',\n",
    "\t\t\t\t\t'winPlacePerc': 'float32'\n",
    "\n",
    "                })"
   ]
  },
  {
   "cell_type": "code",
   "execution_count": 8,
   "metadata": {
    "scrolled": true
   },
   "outputs": [
    {
     "data": {
      "text/html": [
       "<div>\n",
       "<style scoped>\n",
       "    .dataframe tbody tr th:only-of-type {\n",
       "        vertical-align: middle;\n",
       "    }\n",
       "\n",
       "    .dataframe tbody tr th {\n",
       "        vertical-align: top;\n",
       "    }\n",
       "\n",
       "    .dataframe thead th {\n",
       "        text-align: right;\n",
       "    }\n",
       "</style>\n",
       "<table border=\"1\" class=\"dataframe\">\n",
       "  <thead>\n",
       "    <tr style=\"text-align: right;\">\n",
       "      <th></th>\n",
       "      <th>matchType</th>\n",
       "      <th>assists_mean</th>\n",
       "      <th>boosts_mean</th>\n",
       "      <th>headshotKills_mean</th>\n",
       "      <th>heals_mean</th>\n",
       "      <th>kills_mean</th>\n",
       "      <th>killStreaks_mean</th>\n",
       "      <th>weaponsAcquired_mean</th>\n",
       "      <th>longestKill_mean_log</th>\n",
       "      <th>rideDistance_mean_log</th>\n",
       "      <th>swimDistance_mean_log</th>\n",
       "      <th>walkDistance_mean_log</th>\n",
       "      <th>match_size</th>\n",
       "      <th>headshotKillrate_mean</th>\n",
       "      <th>assists_ratio</th>\n",
       "      <th>boosts_ratio</th>\n",
       "      <th>headshotKills_ratio</th>\n",
       "      <th>heals_ratio</th>\n",
       "      <th>kills_ratio</th>\n",
       "      <th>killStreaks_ratio</th>\n",
       "      <th>longestKill_ratio</th>\n",
       "      <th>rideDistance_ratio</th>\n",
       "      <th>swimDistance_ratio</th>\n",
       "      <th>walkDistance_ratio</th>\n",
       "      <th>weaponsAcquired_ratio</th>\n",
       "      <th>headshotKillrate_ratio</th>\n",
       "      <th>winPlacePerc</th>\n",
       "    </tr>\n",
       "  </thead>\n",
       "  <tbody>\n",
       "    <tr>\n",
       "      <th>count</th>\n",
       "      <td>699377.0</td>\n",
       "      <td>699377.000000</td>\n",
       "      <td>699377.000000</td>\n",
       "      <td>699377.000000</td>\n",
       "      <td>699377.000000</td>\n",
       "      <td>699377.000000</td>\n",
       "      <td>699377.000000</td>\n",
       "      <td>699377.000000</td>\n",
       "      <td>699377.000000</td>\n",
       "      <td>699377.000000</td>\n",
       "      <td>699377.000000</td>\n",
       "      <td>699377.000000</td>\n",
       "      <td>699377.000000</td>\n",
       "      <td>699377.000000</td>\n",
       "      <td>699377.000000</td>\n",
       "      <td>699377.000000</td>\n",
       "      <td>699377.000000</td>\n",
       "      <td>699377.000000</td>\n",
       "      <td>699377.000000</td>\n",
       "      <td>699377.000000</td>\n",
       "      <td>699377.000000</td>\n",
       "      <td>699377.000000</td>\n",
       "      <td>699377.000000</td>\n",
       "      <td>699377.000000</td>\n",
       "      <td>699377.000000</td>\n",
       "      <td>699377.000000</td>\n",
       "      <td>699376.000000</td>\n",
       "    </tr>\n",
       "    <tr>\n",
       "      <th>mean</th>\n",
       "      <td>1.0</td>\n",
       "      <td>0.050203</td>\n",
       "      <td>0.978547</td>\n",
       "      <td>0.220130</td>\n",
       "      <td>0.900145</td>\n",
       "      <td>0.853230</td>\n",
       "      <td>0.458980</td>\n",
       "      <td>3.486662</td>\n",
       "      <td>1.413859</td>\n",
       "      <td>1.369509</td>\n",
       "      <td>0.206240</td>\n",
       "      <td>5.754859</td>\n",
       "      <td>94.158121</td>\n",
       "      <td>0.110137</td>\n",
       "      <td>0.877201</td>\n",
       "      <td>0.922382</td>\n",
       "      <td>0.894295</td>\n",
       "      <td>0.907031</td>\n",
       "      <td>0.918155</td>\n",
       "      <td>0.960258</td>\n",
       "      <td>0.906918</td>\n",
       "      <td>0.935917</td>\n",
       "      <td>0.788742</td>\n",
       "      <td>0.957700</td>\n",
       "      <td>0.983585</td>\n",
       "      <td>0.415609</td>\n",
       "      <td>0.477225</td>\n",
       "    </tr>\n",
       "    <tr>\n",
       "      <th>std</th>\n",
       "      <td>0.0</td>\n",
       "      <td>0.216877</td>\n",
       "      <td>1.656345</td>\n",
       "      <td>0.546041</td>\n",
       "      <td>1.975541</td>\n",
       "      <td>1.330206</td>\n",
       "      <td>0.534062</td>\n",
       "      <td>2.267696</td>\n",
       "      <td>1.766629</td>\n",
       "      <td>2.877573</td>\n",
       "      <td>0.877543</td>\n",
       "      <td>1.913381</td>\n",
       "      <td>9.204865</td>\n",
       "      <td>0.271372</td>\n",
       "      <td>4.363016</td>\n",
       "      <td>1.565907</td>\n",
       "      <td>2.238199</td>\n",
       "      <td>1.979098</td>\n",
       "      <td>1.428162</td>\n",
       "      <td>1.126237</td>\n",
       "      <td>1.838378</td>\n",
       "      <td>3.579238</td>\n",
       "      <td>5.116230</td>\n",
       "      <td>1.055237</td>\n",
       "      <td>0.629136</td>\n",
       "      <td>1.047714</td>\n",
       "      <td>0.294851</td>\n",
       "    </tr>\n",
       "    <tr>\n",
       "      <th>min</th>\n",
       "      <td>1.0</td>\n",
       "      <td>0.000000</td>\n",
       "      <td>0.000000</td>\n",
       "      <td>0.000000</td>\n",
       "      <td>0.000000</td>\n",
       "      <td>0.000000</td>\n",
       "      <td>0.000000</td>\n",
       "      <td>0.000000</td>\n",
       "      <td>0.000000</td>\n",
       "      <td>0.000000</td>\n",
       "      <td>0.000000</td>\n",
       "      <td>0.000000</td>\n",
       "      <td>1.000000</td>\n",
       "      <td>0.000000</td>\n",
       "      <td>0.000000</td>\n",
       "      <td>0.000000</td>\n",
       "      <td>0.000000</td>\n",
       "      <td>0.000000</td>\n",
       "      <td>0.000000</td>\n",
       "      <td>0.000000</td>\n",
       "      <td>0.000000</td>\n",
       "      <td>0.000000</td>\n",
       "      <td>0.000000</td>\n",
       "      <td>0.000000</td>\n",
       "      <td>0.000000</td>\n",
       "      <td>0.000000</td>\n",
       "      <td>0.000000</td>\n",
       "    </tr>\n",
       "    <tr>\n",
       "      <th>25%</th>\n",
       "      <td>1.0</td>\n",
       "      <td>0.000000</td>\n",
       "      <td>0.000000</td>\n",
       "      <td>0.000000</td>\n",
       "      <td>0.000000</td>\n",
       "      <td>0.000000</td>\n",
       "      <td>0.000000</td>\n",
       "      <td>2.000000</td>\n",
       "      <td>0.000000</td>\n",
       "      <td>0.000000</td>\n",
       "      <td>0.000000</td>\n",
       "      <td>4.587108</td>\n",
       "      <td>94.000000</td>\n",
       "      <td>0.000000</td>\n",
       "      <td>0.000000</td>\n",
       "      <td>0.000000</td>\n",
       "      <td>0.000000</td>\n",
       "      <td>0.000000</td>\n",
       "      <td>0.000000</td>\n",
       "      <td>0.000000</td>\n",
       "      <td>0.000000</td>\n",
       "      <td>0.000000</td>\n",
       "      <td>0.000000</td>\n",
       "      <td>0.109486</td>\n",
       "      <td>0.527473</td>\n",
       "      <td>0.000000</td>\n",
       "      <td>0.221100</td>\n",
       "    </tr>\n",
       "    <tr>\n",
       "      <th>50%</th>\n",
       "      <td>1.0</td>\n",
       "      <td>0.000000</td>\n",
       "      <td>0.000000</td>\n",
       "      <td>0.000000</td>\n",
       "      <td>0.000000</td>\n",
       "      <td>0.000000</td>\n",
       "      <td>0.000000</td>\n",
       "      <td>3.000000</td>\n",
       "      <td>0.000000</td>\n",
       "      <td>0.000000</td>\n",
       "      <td>0.000000</td>\n",
       "      <td>6.156555</td>\n",
       "      <td>96.000000</td>\n",
       "      <td>0.000000</td>\n",
       "      <td>0.000000</td>\n",
       "      <td>0.000000</td>\n",
       "      <td>0.000000</td>\n",
       "      <td>0.000000</td>\n",
       "      <td>0.000000</td>\n",
       "      <td>0.000000</td>\n",
       "      <td>0.000000</td>\n",
       "      <td>0.000000</td>\n",
       "      <td>0.000000</td>\n",
       "      <td>0.511597</td>\n",
       "      <td>0.926752</td>\n",
       "      <td>0.000000</td>\n",
       "      <td>0.469100</td>\n",
       "    </tr>\n",
       "    <tr>\n",
       "      <th>75%</th>\n",
       "      <td>1.0</td>\n",
       "      <td>0.000000</td>\n",
       "      <td>1.000000</td>\n",
       "      <td>0.000000</td>\n",
       "      <td>1.000000</td>\n",
       "      <td>1.000000</td>\n",
       "      <td>1.000000</td>\n",
       "      <td>5.000000</td>\n",
       "      <td>3.011606</td>\n",
       "      <td>0.000000</td>\n",
       "      <td>0.000000</td>\n",
       "      <td>7.326466</td>\n",
       "      <td>97.000000</td>\n",
       "      <td>0.000000</td>\n",
       "      <td>0.000000</td>\n",
       "      <td>1.253333</td>\n",
       "      <td>0.000000</td>\n",
       "      <td>1.033708</td>\n",
       "      <td>1.114943</td>\n",
       "      <td>2.062500</td>\n",
       "      <td>0.934645</td>\n",
       "      <td>0.000000</td>\n",
       "      <td>0.000000</td>\n",
       "      <td>1.570616</td>\n",
       "      <td>1.361702</td>\n",
       "      <td>0.000000</td>\n",
       "      <td>0.731200</td>\n",
       "    </tr>\n",
       "    <tr>\n",
       "      <th>max</th>\n",
       "      <td>1.0</td>\n",
       "      <td>1.000000</td>\n",
       "      <td>9.000000</td>\n",
       "      <td>4.000000</td>\n",
       "      <td>17.000000</td>\n",
       "      <td>9.000000</td>\n",
       "      <td>2.000000</td>\n",
       "      <td>12.000000</td>\n",
       "      <td>5.703449</td>\n",
       "      <td>9.101084</td>\n",
       "      <td>5.688330</td>\n",
       "      <td>8.511980</td>\n",
       "      <td>100.000000</td>\n",
       "      <td>1.000000</td>\n",
       "      <td>100.000000</td>\n",
       "      <td>25.526316</td>\n",
       "      <td>28.000000</td>\n",
       "      <td>33.739132</td>\n",
       "      <td>11.675675</td>\n",
       "      <td>5.684210</td>\n",
       "      <td>19.827480</td>\n",
       "      <td>99.000000</td>\n",
       "      <td>100.000008</td>\n",
       "      <td>17.000000</td>\n",
       "      <td>4.600000</td>\n",
       "      <td>14.500000</td>\n",
       "      <td>1.000000</td>\n",
       "    </tr>\n",
       "  </tbody>\n",
       "</table>\n",
       "</div>"
      ],
      "text/plain": [
       "       matchType   assists_mean    boosts_mean  headshotKills_mean  \\\n",
       "count   699377.0  699377.000000  699377.000000       699377.000000   \n",
       "mean         1.0       0.050203       0.978547            0.220130   \n",
       "std          0.0       0.216877       1.656345            0.546041   \n",
       "min          1.0       0.000000       0.000000            0.000000   \n",
       "25%          1.0       0.000000       0.000000            0.000000   \n",
       "50%          1.0       0.000000       0.000000            0.000000   \n",
       "75%          1.0       0.000000       1.000000            0.000000   \n",
       "max          1.0       1.000000       9.000000            4.000000   \n",
       "\n",
       "          heals_mean     kills_mean  killStreaks_mean  weaponsAcquired_mean  \\\n",
       "count  699377.000000  699377.000000     699377.000000         699377.000000   \n",
       "mean        0.900145       0.853230          0.458980              3.486662   \n",
       "std         1.975541       1.330206          0.534062              2.267696   \n",
       "min         0.000000       0.000000          0.000000              0.000000   \n",
       "25%         0.000000       0.000000          0.000000              2.000000   \n",
       "50%         0.000000       0.000000          0.000000              3.000000   \n",
       "75%         1.000000       1.000000          1.000000              5.000000   \n",
       "max        17.000000       9.000000          2.000000             12.000000   \n",
       "\n",
       "       longestKill_mean_log  rideDistance_mean_log  swimDistance_mean_log  \\\n",
       "count         699377.000000          699377.000000          699377.000000   \n",
       "mean               1.413859               1.369509               0.206240   \n",
       "std                1.766629               2.877573               0.877543   \n",
       "min                0.000000               0.000000               0.000000   \n",
       "25%                0.000000               0.000000               0.000000   \n",
       "50%                0.000000               0.000000               0.000000   \n",
       "75%                3.011606               0.000000               0.000000   \n",
       "max                5.703449               9.101084               5.688330   \n",
       "\n",
       "       walkDistance_mean_log     match_size  headshotKillrate_mean  \\\n",
       "count          699377.000000  699377.000000          699377.000000   \n",
       "mean                5.754859      94.158121               0.110137   \n",
       "std                 1.913381       9.204865               0.271372   \n",
       "min                 0.000000       1.000000               0.000000   \n",
       "25%                 4.587108      94.000000               0.000000   \n",
       "50%                 6.156555      96.000000               0.000000   \n",
       "75%                 7.326466      97.000000               0.000000   \n",
       "max                 8.511980     100.000000               1.000000   \n",
       "\n",
       "       assists_ratio   boosts_ratio  headshotKills_ratio    heals_ratio  \\\n",
       "count  699377.000000  699377.000000        699377.000000  699377.000000   \n",
       "mean        0.877201       0.922382             0.894295       0.907031   \n",
       "std         4.363016       1.565907             2.238199       1.979098   \n",
       "min         0.000000       0.000000             0.000000       0.000000   \n",
       "25%         0.000000       0.000000             0.000000       0.000000   \n",
       "50%         0.000000       0.000000             0.000000       0.000000   \n",
       "75%         0.000000       1.253333             0.000000       1.033708   \n",
       "max       100.000000      25.526316            28.000000      33.739132   \n",
       "\n",
       "         kills_ratio  killStreaks_ratio  longestKill_ratio  \\\n",
       "count  699377.000000      699377.000000      699377.000000   \n",
       "mean        0.918155           0.960258           0.906918   \n",
       "std         1.428162           1.126237           1.838378   \n",
       "min         0.000000           0.000000           0.000000   \n",
       "25%         0.000000           0.000000           0.000000   \n",
       "50%         0.000000           0.000000           0.000000   \n",
       "75%         1.114943           2.062500           0.934645   \n",
       "max        11.675675           5.684210          19.827480   \n",
       "\n",
       "       rideDistance_ratio  swimDistance_ratio  walkDistance_ratio  \\\n",
       "count       699377.000000       699377.000000       699377.000000   \n",
       "mean             0.935917            0.788742            0.957700   \n",
       "std              3.579238            5.116230            1.055237   \n",
       "min              0.000000            0.000000            0.000000   \n",
       "25%              0.000000            0.000000            0.109486   \n",
       "50%              0.000000            0.000000            0.511597   \n",
       "75%              0.000000            0.000000            1.570616   \n",
       "max             99.000000          100.000008           17.000000   \n",
       "\n",
       "       weaponsAcquired_ratio  headshotKillrate_ratio   winPlacePerc  \n",
       "count          699377.000000           699377.000000  699376.000000  \n",
       "mean                0.983585                0.415609       0.477225  \n",
       "std                 0.629136                1.047714       0.294851  \n",
       "min                 0.000000                0.000000       0.000000  \n",
       "25%                 0.527473                0.000000       0.221100  \n",
       "50%                 0.926752                0.000000       0.469100  \n",
       "75%                 1.361702                0.000000       0.731200  \n",
       "max                 4.600000               14.500000       1.000000  "
      ]
     },
     "execution_count": 8,
     "metadata": {},
     "output_type": "execute_result"
    }
   ],
   "source": [
    "raw_data.describe()"
   ]
  },
  {
   "cell_type": "code",
   "execution_count": 9,
   "metadata": {},
   "outputs": [],
   "source": [
    "#data = raw_data[raw_data['matchType']==1]\n",
    "data = raw_data.copy()"
   ]
  },
  {
   "cell_type": "code",
   "execution_count": 10,
   "metadata": {},
   "outputs": [
    {
     "data": {
      "text/html": [
       "<div>\n",
       "<style scoped>\n",
       "    .dataframe tbody tr th:only-of-type {\n",
       "        vertical-align: middle;\n",
       "    }\n",
       "\n",
       "    .dataframe tbody tr th {\n",
       "        vertical-align: top;\n",
       "    }\n",
       "\n",
       "    .dataframe thead th {\n",
       "        text-align: right;\n",
       "    }\n",
       "</style>\n",
       "<table border=\"1\" class=\"dataframe\">\n",
       "  <thead>\n",
       "    <tr style=\"text-align: right;\">\n",
       "      <th></th>\n",
       "      <th>assists_mean</th>\n",
       "      <th>boosts_mean</th>\n",
       "      <th>headshotKills_mean</th>\n",
       "      <th>heals_mean</th>\n",
       "      <th>kills_mean</th>\n",
       "      <th>killStreaks_mean</th>\n",
       "      <th>weaponsAcquired_mean</th>\n",
       "      <th>longestKill_mean_log</th>\n",
       "      <th>rideDistance_mean_log</th>\n",
       "      <th>swimDistance_mean_log</th>\n",
       "      <th>walkDistance_mean_log</th>\n",
       "      <th>match_size</th>\n",
       "      <th>headshotKillrate_mean</th>\n",
       "      <th>assists_ratio</th>\n",
       "      <th>boosts_ratio</th>\n",
       "      <th>headshotKills_ratio</th>\n",
       "      <th>heals_ratio</th>\n",
       "      <th>kills_ratio</th>\n",
       "      <th>killStreaks_ratio</th>\n",
       "      <th>longestKill_ratio</th>\n",
       "      <th>rideDistance_ratio</th>\n",
       "      <th>swimDistance_ratio</th>\n",
       "      <th>walkDistance_ratio</th>\n",
       "      <th>weaponsAcquired_ratio</th>\n",
       "      <th>headshotKillrate_ratio</th>\n",
       "      <th>winPlacePerc</th>\n",
       "    </tr>\n",
       "  </thead>\n",
       "  <tbody>\n",
       "    <tr>\n",
       "      <th>0</th>\n",
       "      <td>0.0</td>\n",
       "      <td>0.0</td>\n",
       "      <td>0.0</td>\n",
       "      <td>0.0</td>\n",
       "      <td>1.0</td>\n",
       "      <td>1.0</td>\n",
       "      <td>2.0</td>\n",
       "      <td>4.08648</td>\n",
       "      <td>0.0</td>\n",
       "      <td>0.0</td>\n",
       "      <td>3.926912</td>\n",
       "      <td>97</td>\n",
       "      <td>0.0</td>\n",
       "      <td>0.0</td>\n",
       "      <td>0.0</td>\n",
       "      <td>0.0</td>\n",
       "      <td>0.0</td>\n",
       "      <td>1.065934</td>\n",
       "      <td>2.020833</td>\n",
       "      <td>2.592667</td>\n",
       "      <td>0.0</td>\n",
       "      <td>0.0</td>\n",
       "      <td>0.06145</td>\n",
       "      <td>0.591463</td>\n",
       "      <td>0.0</td>\n",
       "      <td>0.1875</td>\n",
       "    </tr>\n",
       "  </tbody>\n",
       "</table>\n",
       "</div>"
      ],
      "text/plain": [
       "   assists_mean  boosts_mean  headshotKills_mean  heals_mean  kills_mean  \\\n",
       "0           0.0          0.0                 0.0         0.0         1.0   \n",
       "\n",
       "   killStreaks_mean  weaponsAcquired_mean  longestKill_mean_log  \\\n",
       "0               1.0                   2.0               4.08648   \n",
       "\n",
       "   rideDistance_mean_log  swimDistance_mean_log  walkDistance_mean_log  \\\n",
       "0                    0.0                    0.0               3.926912   \n",
       "\n",
       "   match_size  headshotKillrate_mean  assists_ratio  boosts_ratio  \\\n",
       "0          97                    0.0            0.0           0.0   \n",
       "\n",
       "   headshotKills_ratio  heals_ratio  kills_ratio  killStreaks_ratio  \\\n",
       "0                  0.0          0.0     1.065934           2.020833   \n",
       "\n",
       "   longestKill_ratio  rideDistance_ratio  swimDistance_ratio  \\\n",
       "0           2.592667                 0.0                 0.0   \n",
       "\n",
       "   walkDistance_ratio  weaponsAcquired_ratio  headshotKillrate_ratio  \\\n",
       "0             0.06145               0.591463                     0.0   \n",
       "\n",
       "   winPlacePerc  \n",
       "0        0.1875  "
      ]
     },
     "execution_count": 10,
     "metadata": {},
     "output_type": "execute_result"
    }
   ],
   "source": [
    "slic_data = data.copy()\n",
    "#headshotfills & headshotkillrate\n",
    "slic_data = slic_data.drop(columns=[\"Id\",'matchId','groupId', 'matchType'], axis=1)\n",
    "slic_data.head(1)"
   ]
  },
  {
   "cell_type": "code",
   "execution_count": 11,
   "metadata": {},
   "outputs": [
    {
     "name": "stdout",
     "output_type": "stream",
     "text": [
      "False\n",
      "False\n",
      "(489562, 25) (209814, 25) (489562,) (209814,)\n"
     ]
    }
   ],
   "source": [
    "train_df, test_df = train_test_split(slic_data, train_size = 0.7)\n",
    "\n",
    "#train_df = reduce_mem_usage(train_df)\n",
    "#test_df = reduce_mem_usage(test_df)\n",
    "train_df.dropna(inplace = True)\n",
    "print(train_df.isnull().any().any())\n",
    "test_df.dropna(inplace = True)\n",
    "\n",
    "print(test_df.isnull().any().any())\n",
    "train_y = np.array(train_df['winPlacePerc'])\n",
    "train_x = train_df.drop(columns=['winPlacePerc'], axis=1)\n",
    "\n",
    "test_y = np.array(test_df['winPlacePerc'])\n",
    "test_x = test_df.drop(columns=['winPlacePerc'], axis=1)\n",
    "print(train_x.shape, test_x.shape, train_y.shape, test_y.shape)"
   ]
  },
  {
   "cell_type": "code",
   "execution_count": 12,
   "metadata": {
    "scrolled": true
   },
   "outputs": [
    {
     "name": "stdout",
     "output_type": "stream",
     "text": [
      "False\n",
      "False\n"
     ]
    }
   ],
   "source": [
    "train_df.dropna(inplace = True)\n",
    "print(train_df.isnull().any().any())\n",
    "test_df.dropna(inplace = True)\n",
    "print(test_df.isnull().any().any())"
   ]
  },
  {
   "cell_type": "code",
   "execution_count": 28,
   "metadata": {},
   "outputs": [],
   "source": [
    "regr = RandomForestRegressor(n_estimators=100, min_samples_leaf=1, max_features=0.3, n_jobs=-1)\n",
    "# n_estimators : 트리 개수(default=10)\n",
    "# min_samples_leaf : leaf 노드의 최소 개수\n",
    "# max_features : If float -> int(max_features * n_features)\n",
    "#                트리 feature 개수 설정\n",
    "# n_jobs : 성능 관련 파라미터(-1: using all processors)"
   ]
  },
  {
   "cell_type": "code",
   "execution_count": 29,
   "metadata": {
    "scrolled": true
   },
   "outputs": [
    {
     "ename": "JoblibMemoryError",
     "evalue": "JoblibMemoryError\n___________________________________________________________________________\nMultiprocessing exception:\n...........................................................................\nC:\\Users\\JunHweKim\\Anaconda3\\envs\\py36\\lib\\runpy.py in _run_module_as_main(mod_name='ipykernel_launcher', alter_argv=1)\n    188         sys.exit(msg)\n    189     main_globals = sys.modules[\"__main__\"].__dict__\n    190     if alter_argv:\n    191         sys.argv[0] = mod_spec.origin\n    192     return _run_code(code, main_globals, None,\n--> 193                      \"__main__\", mod_spec)\n        mod_spec = ModuleSpec(name='ipykernel_launcher', loader=<_f...py36\\\\lib\\\\site-packages\\\\ipykernel_launcher.py')\n    194 \n    195 def run_module(mod_name, init_globals=None,\n    196                run_name=None, alter_sys=False):\n    197     \"\"\"Execute a module's code without importing it\n\n...........................................................................\nC:\\Users\\JunHweKim\\Anaconda3\\envs\\py36\\lib\\runpy.py in _run_code(code=<code object <module> at 0x000001707B0A5F60, fil...lib\\site-packages\\ipykernel_launcher.py\", line 5>, run_globals={'__annotations__': {}, '__builtins__': <module 'builtins' (built-in)>, '__cached__': r'C:\\Users\\JunHweKim\\Anaconda3\\envs\\py36\\lib\\site-...ges\\__pycache__\\ipykernel_launcher.cpython-36.pyc', '__doc__': 'Entry point for launching an IPython kernel.\\n\\nTh...orts until\\nafter removing the cwd from sys.path.\\n', '__file__': r'C:\\Users\\JunHweKim\\Anaconda3\\envs\\py36\\lib\\site-packages\\ipykernel_launcher.py', '__loader__': <_frozen_importlib_external.SourceFileLoader object>, '__name__': '__main__', '__package__': '', '__spec__': ModuleSpec(name='ipykernel_launcher', loader=<_f...py36\\\\lib\\\\site-packages\\\\ipykernel_launcher.py'), 'app': <module 'ipykernel.kernelapp' from 'C:\\\\Users\\\\J...36\\\\lib\\\\site-packages\\\\ipykernel\\\\kernelapp.py'>, ...}, init_globals=None, mod_name='__main__', mod_spec=ModuleSpec(name='ipykernel_launcher', loader=<_f...py36\\\\lib\\\\site-packages\\\\ipykernel_launcher.py'), pkg_name='', script_name=None)\n     80                        __cached__ = cached,\n     81                        __doc__ = None,\n     82                        __loader__ = loader,\n     83                        __package__ = pkg_name,\n     84                        __spec__ = mod_spec)\n---> 85     exec(code, run_globals)\n        code = <code object <module> at 0x000001707B0A5F60, fil...lib\\site-packages\\ipykernel_launcher.py\", line 5>\n        run_globals = {'__annotations__': {}, '__builtins__': <module 'builtins' (built-in)>, '__cached__': r'C:\\Users\\JunHweKim\\Anaconda3\\envs\\py36\\lib\\site-...ges\\__pycache__\\ipykernel_launcher.cpython-36.pyc', '__doc__': 'Entry point for launching an IPython kernel.\\n\\nTh...orts until\\nafter removing the cwd from sys.path.\\n', '__file__': r'C:\\Users\\JunHweKim\\Anaconda3\\envs\\py36\\lib\\site-packages\\ipykernel_launcher.py', '__loader__': <_frozen_importlib_external.SourceFileLoader object>, '__name__': '__main__', '__package__': '', '__spec__': ModuleSpec(name='ipykernel_launcher', loader=<_f...py36\\\\lib\\\\site-packages\\\\ipykernel_launcher.py'), 'app': <module 'ipykernel.kernelapp' from 'C:\\\\Users\\\\J...36\\\\lib\\\\site-packages\\\\ipykernel\\\\kernelapp.py'>, ...}\n     86     return run_globals\n     87 \n     88 def _run_module_code(code, init_globals=None,\n     89                     mod_name=None, mod_spec=None,\n\n...........................................................................\nC:\\Users\\JunHweKim\\Anaconda3\\envs\\py36\\lib\\site-packages\\ipykernel_launcher.py in <module>()\n     11     # This is added back by InteractiveShellApp.init_path()\n     12     if sys.path[0] == '':\n     13         del sys.path[0]\n     14 \n     15     from ipykernel import kernelapp as app\n---> 16     app.launch_new_instance()\n\n...........................................................................\nC:\\Users\\JunHweKim\\Anaconda3\\envs\\py36\\lib\\site-packages\\traitlets\\config\\application.py in launch_instance(cls=<class 'ipykernel.kernelapp.IPKernelApp'>, argv=None, **kwargs={})\n    653 \n    654         If a global instance already exists, this reinitializes and starts it\n    655         \"\"\"\n    656         app = cls.instance(**kwargs)\n    657         app.initialize(argv)\n--> 658         app.start()\n        app.start = <bound method IPKernelApp.start of <ipykernel.kernelapp.IPKernelApp object>>\n    659 \n    660 #-----------------------------------------------------------------------------\n    661 # utility functions, for convenience\n    662 #-----------------------------------------------------------------------------\n\n...........................................................................\nC:\\Users\\JunHweKim\\Anaconda3\\envs\\py36\\lib\\site-packages\\ipykernel\\kernelapp.py in start(self=<ipykernel.kernelapp.IPKernelApp object>)\n    492         if self.poller is not None:\n    493             self.poller.start()\n    494         self.kernel.start()\n    495         self.io_loop = ioloop.IOLoop.current()\n    496         try:\n--> 497             self.io_loop.start()\n        self.io_loop.start = <bound method BaseAsyncIOLoop.start of <tornado.platform.asyncio.AsyncIOMainLoop object>>\n    498         except KeyboardInterrupt:\n    499             pass\n    500 \n    501 launch_new_instance = IPKernelApp.launch_instance\n\n...........................................................................\nC:\\Users\\JunHweKim\\Anaconda3\\envs\\py36\\lib\\site-packages\\tornado\\platform\\asyncio.py in start(self=<tornado.platform.asyncio.AsyncIOMainLoop object>)\n    127         except (RuntimeError, AssertionError):\n    128             old_loop = None\n    129         try:\n    130             self._setup_logging()\n    131             asyncio.set_event_loop(self.asyncio_loop)\n--> 132             self.asyncio_loop.run_forever()\n        self.asyncio_loop.run_forever = <bound method BaseEventLoop.run_forever of <_Win...EventLoop running=True closed=False debug=False>>\n    133         finally:\n    134             asyncio.set_event_loop(old_loop)\n    135 \n    136     def stop(self):\n\n...........................................................................\nC:\\Users\\JunHweKim\\Anaconda3\\envs\\py36\\lib\\asyncio\\base_events.py in run_forever(self=<_WindowsSelectorEventLoop running=True closed=False debug=False>)\n    417             sys.set_asyncgen_hooks(firstiter=self._asyncgen_firstiter_hook,\n    418                                    finalizer=self._asyncgen_finalizer_hook)\n    419         try:\n    420             events._set_running_loop(self)\n    421             while True:\n--> 422                 self._run_once()\n        self._run_once = <bound method BaseEventLoop._run_once of <_Windo...EventLoop running=True closed=False debug=False>>\n    423                 if self._stopping:\n    424                     break\n    425         finally:\n    426             self._stopping = False\n\n...........................................................................\nC:\\Users\\JunHweKim\\Anaconda3\\envs\\py36\\lib\\asyncio\\base_events.py in _run_once(self=<_WindowsSelectorEventLoop running=True closed=False debug=False>)\n   1429                         logger.warning('Executing %s took %.3f seconds',\n   1430                                        _format_handle(handle), dt)\n   1431                 finally:\n   1432                     self._current_handle = None\n   1433             else:\n-> 1434                 handle._run()\n        handle._run = <bound method Handle._run of <Handle BaseAsyncIOLoop._handle_events(1152, 1)>>\n   1435         handle = None  # Needed to break cycles when an exception occurs.\n   1436 \n   1437     def _set_coroutine_wrapper(self, enabled):\n   1438         try:\n\n...........................................................................\nC:\\Users\\JunHweKim\\Anaconda3\\envs\\py36\\lib\\asyncio\\events.py in _run(self=<Handle BaseAsyncIOLoop._handle_events(1152, 1)>)\n    140             self._callback = None\n    141             self._args = None\n    142 \n    143     def _run(self):\n    144         try:\n--> 145             self._callback(*self._args)\n        self._callback = <bound method BaseAsyncIOLoop._handle_events of <tornado.platform.asyncio.AsyncIOMainLoop object>>\n        self._args = (1152, 1)\n    146         except Exception as exc:\n    147             cb = _format_callback_source(self._callback, self._args)\n    148             msg = 'Exception in callback {}'.format(cb)\n    149             context = {\n\n...........................................................................\nC:\\Users\\JunHweKim\\Anaconda3\\envs\\py36\\lib\\site-packages\\tornado\\platform\\asyncio.py in _handle_events(self=<tornado.platform.asyncio.AsyncIOMainLoop object>, fd=1152, events=1)\n    117             self.writers.remove(fd)\n    118         del self.handlers[fd]\n    119 \n    120     def _handle_events(self, fd, events):\n    121         fileobj, handler_func = self.handlers[fd]\n--> 122         handler_func(fileobj, events)\n        handler_func = <function wrap.<locals>.null_wrapper>\n        fileobj = <zmq.sugar.socket.Socket object>\n        events = 1\n    123 \n    124     def start(self):\n    125         try:\n    126             old_loop = asyncio.get_event_loop()\n\n...........................................................................\nC:\\Users\\JunHweKim\\Anaconda3\\envs\\py36\\lib\\site-packages\\tornado\\stack_context.py in null_wrapper(*args=(<zmq.sugar.socket.Socket object>, 1), **kwargs={})\n    295         # Fast path when there are no active contexts.\n    296         def null_wrapper(*args, **kwargs):\n    297             try:\n    298                 current_state = _state.contexts\n    299                 _state.contexts = cap_contexts[0]\n--> 300                 return fn(*args, **kwargs)\n        args = (<zmq.sugar.socket.Socket object>, 1)\n        kwargs = {}\n    301             finally:\n    302                 _state.contexts = current_state\n    303         null_wrapper._wrapped = True\n    304         return null_wrapper\n\n...........................................................................\nC:\\Users\\JunHweKim\\Anaconda3\\envs\\py36\\lib\\site-packages\\zmq\\eventloop\\zmqstream.py in _handle_events(self=<zmq.eventloop.zmqstream.ZMQStream object>, fd=<zmq.sugar.socket.Socket object>, events=1)\n    445             return\n    446         zmq_events = self.socket.EVENTS\n    447         try:\n    448             # dispatch events:\n    449             if zmq_events & zmq.POLLIN and self.receiving():\n--> 450                 self._handle_recv()\n        self._handle_recv = <bound method ZMQStream._handle_recv of <zmq.eventloop.zmqstream.ZMQStream object>>\n    451                 if not self.socket:\n    452                     return\n    453             if zmq_events & zmq.POLLOUT and self.sending():\n    454                 self._handle_send()\n\n...........................................................................\nC:\\Users\\JunHweKim\\Anaconda3\\envs\\py36\\lib\\site-packages\\zmq\\eventloop\\zmqstream.py in _handle_recv(self=<zmq.eventloop.zmqstream.ZMQStream object>)\n    475             else:\n    476                 raise\n    477         else:\n    478             if self._recv_callback:\n    479                 callback = self._recv_callback\n--> 480                 self._run_callback(callback, msg)\n        self._run_callback = <bound method ZMQStream._run_callback of <zmq.eventloop.zmqstream.ZMQStream object>>\n        callback = <function wrap.<locals>.null_wrapper>\n        msg = [<zmq.sugar.frame.Frame object>, <zmq.sugar.frame.Frame object>, <zmq.sugar.frame.Frame object>, <zmq.sugar.frame.Frame object>, <zmq.sugar.frame.Frame object>, <zmq.sugar.frame.Frame object>, <zmq.sugar.frame.Frame object>]\n    481         \n    482 \n    483     def _handle_send(self):\n    484         \"\"\"Handle a send event.\"\"\"\n\n...........................................................................\nC:\\Users\\JunHweKim\\Anaconda3\\envs\\py36\\lib\\site-packages\\zmq\\eventloop\\zmqstream.py in _run_callback(self=<zmq.eventloop.zmqstream.ZMQStream object>, callback=<function wrap.<locals>.null_wrapper>, *args=([<zmq.sugar.frame.Frame object>, <zmq.sugar.frame.Frame object>, <zmq.sugar.frame.Frame object>, <zmq.sugar.frame.Frame object>, <zmq.sugar.frame.Frame object>, <zmq.sugar.frame.Frame object>, <zmq.sugar.frame.Frame object>],), **kwargs={})\n    427         close our socket.\"\"\"\n    428         try:\n    429             # Use a NullContext to ensure that all StackContexts are run\n    430             # inside our blanket exception handler rather than outside.\n    431             with stack_context.NullContext():\n--> 432                 callback(*args, **kwargs)\n        callback = <function wrap.<locals>.null_wrapper>\n        args = ([<zmq.sugar.frame.Frame object>, <zmq.sugar.frame.Frame object>, <zmq.sugar.frame.Frame object>, <zmq.sugar.frame.Frame object>, <zmq.sugar.frame.Frame object>, <zmq.sugar.frame.Frame object>, <zmq.sugar.frame.Frame object>],)\n        kwargs = {}\n    433         except:\n    434             gen_log.error(\"Uncaught exception in ZMQStream callback\",\n    435                           exc_info=True)\n    436             # Re-raise the exception so that IOLoop.handle_callback_exception\n\n...........................................................................\nC:\\Users\\JunHweKim\\Anaconda3\\envs\\py36\\lib\\site-packages\\tornado\\stack_context.py in null_wrapper(*args=([<zmq.sugar.frame.Frame object>, <zmq.sugar.frame.Frame object>, <zmq.sugar.frame.Frame object>, <zmq.sugar.frame.Frame object>, <zmq.sugar.frame.Frame object>, <zmq.sugar.frame.Frame object>, <zmq.sugar.frame.Frame object>],), **kwargs={})\n    295         # Fast path when there are no active contexts.\n    296         def null_wrapper(*args, **kwargs):\n    297             try:\n    298                 current_state = _state.contexts\n    299                 _state.contexts = cap_contexts[0]\n--> 300                 return fn(*args, **kwargs)\n        args = ([<zmq.sugar.frame.Frame object>, <zmq.sugar.frame.Frame object>, <zmq.sugar.frame.Frame object>, <zmq.sugar.frame.Frame object>, <zmq.sugar.frame.Frame object>, <zmq.sugar.frame.Frame object>, <zmq.sugar.frame.Frame object>],)\n        kwargs = {}\n    301             finally:\n    302                 _state.contexts = current_state\n    303         null_wrapper._wrapped = True\n    304         return null_wrapper\n\n...........................................................................\nC:\\Users\\JunHweKim\\Anaconda3\\envs\\py36\\lib\\site-packages\\ipykernel\\kernelbase.py in dispatcher(msg=[<zmq.sugar.frame.Frame object>, <zmq.sugar.frame.Frame object>, <zmq.sugar.frame.Frame object>, <zmq.sugar.frame.Frame object>, <zmq.sugar.frame.Frame object>, <zmq.sugar.frame.Frame object>, <zmq.sugar.frame.Frame object>])\n    278         if self.control_stream:\n    279             self.control_stream.on_recv(self.dispatch_control, copy=False)\n    280 \n    281         def make_dispatcher(stream):\n    282             def dispatcher(msg):\n--> 283                 return self.dispatch_shell(stream, msg)\n        msg = [<zmq.sugar.frame.Frame object>, <zmq.sugar.frame.Frame object>, <zmq.sugar.frame.Frame object>, <zmq.sugar.frame.Frame object>, <zmq.sugar.frame.Frame object>, <zmq.sugar.frame.Frame object>, <zmq.sugar.frame.Frame object>]\n    284             return dispatcher\n    285 \n    286         for s in self.shell_streams:\n    287             s.on_recv(make_dispatcher(s), copy=False)\n\n...........................................................................\nC:\\Users\\JunHweKim\\Anaconda3\\envs\\py36\\lib\\site-packages\\ipykernel\\kernelbase.py in dispatch_shell(self=<ipykernel.ipkernel.IPythonKernel object>, stream=<zmq.eventloop.zmqstream.ZMQStream object>, msg={'buffers': [], 'content': {'allow_stdin': True, 'code': '%%time\\nregr.fit(train_x, train_y)', 'silent': False, 'stop_on_error': True, 'store_history': True, 'user_expressions': {}}, 'header': {'date': datetime.datetime(2018, 11, 22, 10, 39, 47, 135230, tzinfo=tzutc()), 'msg_id': 'dfe8cc7018bf44938399aad0f6e45abc', 'msg_type': 'execute_request', 'session': '7f3085c0b75b4dba86ace1713247eae6', 'username': 'username', 'version': '5.2'}, 'metadata': {}, 'msg_id': 'dfe8cc7018bf44938399aad0f6e45abc', 'msg_type': 'execute_request', 'parent_header': {}})\n    228             self.log.warning(\"Unknown message type: %r\", msg_type)\n    229         else:\n    230             self.log.debug(\"%s: %s\", msg_type, msg)\n    231             self.pre_handler_hook()\n    232             try:\n--> 233                 handler(stream, idents, msg)\n        handler = <bound method Kernel.execute_request of <ipykernel.ipkernel.IPythonKernel object>>\n        stream = <zmq.eventloop.zmqstream.ZMQStream object>\n        idents = [b'7f3085c0b75b4dba86ace1713247eae6']\n        msg = {'buffers': [], 'content': {'allow_stdin': True, 'code': '%%time\\nregr.fit(train_x, train_y)', 'silent': False, 'stop_on_error': True, 'store_history': True, 'user_expressions': {}}, 'header': {'date': datetime.datetime(2018, 11, 22, 10, 39, 47, 135230, tzinfo=tzutc()), 'msg_id': 'dfe8cc7018bf44938399aad0f6e45abc', 'msg_type': 'execute_request', 'session': '7f3085c0b75b4dba86ace1713247eae6', 'username': 'username', 'version': '5.2'}, 'metadata': {}, 'msg_id': 'dfe8cc7018bf44938399aad0f6e45abc', 'msg_type': 'execute_request', 'parent_header': {}}\n    234             except Exception:\n    235                 self.log.error(\"Exception in message handler:\", exc_info=True)\n    236             finally:\n    237                 self.post_handler_hook()\n\n...........................................................................\nC:\\Users\\JunHweKim\\Anaconda3\\envs\\py36\\lib\\site-packages\\ipykernel\\kernelbase.py in execute_request(self=<ipykernel.ipkernel.IPythonKernel object>, stream=<zmq.eventloop.zmqstream.ZMQStream object>, ident=[b'7f3085c0b75b4dba86ace1713247eae6'], parent={'buffers': [], 'content': {'allow_stdin': True, 'code': '%%time\\nregr.fit(train_x, train_y)', 'silent': False, 'stop_on_error': True, 'store_history': True, 'user_expressions': {}}, 'header': {'date': datetime.datetime(2018, 11, 22, 10, 39, 47, 135230, tzinfo=tzutc()), 'msg_id': 'dfe8cc7018bf44938399aad0f6e45abc', 'msg_type': 'execute_request', 'session': '7f3085c0b75b4dba86ace1713247eae6', 'username': 'username', 'version': '5.2'}, 'metadata': {}, 'msg_id': 'dfe8cc7018bf44938399aad0f6e45abc', 'msg_type': 'execute_request', 'parent_header': {}})\n    394         if not silent:\n    395             self.execution_count += 1\n    396             self._publish_execute_input(code, parent, self.execution_count)\n    397 \n    398         reply_content = self.do_execute(code, silent, store_history,\n--> 399                                         user_expressions, allow_stdin)\n        user_expressions = {}\n        allow_stdin = True\n    400 \n    401         # Flush output before sending the reply.\n    402         sys.stdout.flush()\n    403         sys.stderr.flush()\n\n...........................................................................\nC:\\Users\\JunHweKim\\Anaconda3\\envs\\py36\\lib\\site-packages\\ipykernel\\ipkernel.py in do_execute(self=<ipykernel.ipkernel.IPythonKernel object>, code='%%time\\nregr.fit(train_x, train_y)', silent=False, store_history=True, user_expressions={}, allow_stdin=True)\n    203 \n    204         self._forward_input(allow_stdin)\n    205 \n    206         reply_content = {}\n    207         try:\n--> 208             res = shell.run_cell(code, store_history=store_history, silent=silent)\n        res = undefined\n        shell.run_cell = <bound method ZMQInteractiveShell.run_cell of <ipykernel.zmqshell.ZMQInteractiveShell object>>\n        code = '%%time\\nregr.fit(train_x, train_y)'\n        store_history = True\n        silent = False\n    209         finally:\n    210             self._restore_input()\n    211 \n    212         if res.error_before_exec is not None:\n\n...........................................................................\nC:\\Users\\JunHweKim\\Anaconda3\\envs\\py36\\lib\\site-packages\\ipykernel\\zmqshell.py in run_cell(self=<ipykernel.zmqshell.ZMQInteractiveShell object>, *args=('%%time\\nregr.fit(train_x, train_y)',), **kwargs={'silent': False, 'store_history': True})\n    532             )\n    533         self.payload_manager.write_payload(payload)\n    534 \n    535     def run_cell(self, *args, **kwargs):\n    536         self._last_traceback = None\n--> 537         return super(ZMQInteractiveShell, self).run_cell(*args, **kwargs)\n        self.run_cell = <bound method ZMQInteractiveShell.run_cell of <ipykernel.zmqshell.ZMQInteractiveShell object>>\n        args = ('%%time\\nregr.fit(train_x, train_y)',)\n        kwargs = {'silent': False, 'store_history': True}\n    538 \n    539     def _showtraceback(self, etype, evalue, stb):\n    540         # try to preserve ordering of tracebacks and print statements\n    541         sys.stdout.flush()\n\n...........................................................................\nC:\\Users\\JunHweKim\\Anaconda3\\envs\\py36\\lib\\site-packages\\IPython\\core\\interactiveshell.py in run_cell(self=<ipykernel.zmqshell.ZMQInteractiveShell object>, raw_cell='%%time\\nregr.fit(train_x, train_y)', store_history=True, silent=False, shell_futures=True)\n   2657         -------\n   2658         result : :class:`ExecutionResult`\n   2659         \"\"\"\n   2660         try:\n   2661             result = self._run_cell(\n-> 2662                 raw_cell, store_history, silent, shell_futures)\n        raw_cell = '%%time\\nregr.fit(train_x, train_y)'\n        store_history = True\n        silent = False\n        shell_futures = True\n   2663         finally:\n   2664             self.events.trigger('post_execute')\n   2665             if not silent:\n   2666                 self.events.trigger('post_run_cell', result)\n\n...........................................................................\nC:\\Users\\JunHweKim\\Anaconda3\\envs\\py36\\lib\\site-packages\\IPython\\core\\interactiveshell.py in _run_cell(self=<ipykernel.zmqshell.ZMQInteractiveShell object>, raw_cell='%%time\\nregr.fit(train_x, train_y)', store_history=True, silent=False, shell_futures=True)\n   2780                 self.displayhook.exec_result = result\n   2781 \n   2782                 # Execute the user code\n   2783                 interactivity = 'none' if silent else self.ast_node_interactivity\n   2784                 has_raised = self.run_ast_nodes(code_ast.body, cell_name,\n-> 2785                    interactivity=interactivity, compiler=compiler, result=result)\n        interactivity = 'last_expr'\n        compiler = <IPython.core.compilerop.CachingCompiler object>\n   2786                 \n   2787                 self.last_execution_succeeded = not has_raised\n   2788                 self.last_execution_result = result\n   2789 \n\n...........................................................................\nC:\\Users\\JunHweKim\\Anaconda3\\envs\\py36\\lib\\site-packages\\IPython\\core\\interactiveshell.py in run_ast_nodes(self=<ipykernel.zmqshell.ZMQInteractiveShell object>, nodelist=[<_ast.Expr object>], cell_name='<ipython-input-29-613d76f1db56>', interactivity='last', compiler=<IPython.core.compilerop.CachingCompiler object>, result=<ExecutionResult object at 17005b6ca90, executio...rue silent=False shell_futures=True> result=None>)\n   2902                     return True\n   2903 \n   2904             for i, node in enumerate(to_run_interactive):\n   2905                 mod = ast.Interactive([node])\n   2906                 code = compiler(mod, cell_name, \"single\")\n-> 2907                 if self.run_code(code, result):\n        self.run_code = <bound method InteractiveShell.run_code of <ipykernel.zmqshell.ZMQInteractiveShell object>>\n        code = <code object <module> at 0x000001707D54C780, file \"<ipython-input-29-613d76f1db56>\", line 1>\n        result = <ExecutionResult object at 17005b6ca90, executio...rue silent=False shell_futures=True> result=None>\n   2908                     return True\n   2909 \n   2910             # Flush softspace\n   2911             if softspace(sys.stdout, 0):\n\n...........................................................................\nC:\\Users\\JunHweKim\\Anaconda3\\envs\\py36\\lib\\site-packages\\IPython\\core\\interactiveshell.py in run_code(self=<ipykernel.zmqshell.ZMQInteractiveShell object>, code_obj=<code object <module> at 0x000001707D54C780, file \"<ipython-input-29-613d76f1db56>\", line 1>, result=<ExecutionResult object at 17005b6ca90, executio...rue silent=False shell_futures=True> result=None>)\n   2956         outflag = True  # happens in more places, so it's easier as default\n   2957         try:\n   2958             try:\n   2959                 self.hooks.pre_run_code_hook()\n   2960                 #rprint('Running code', repr(code_obj)) # dbg\n-> 2961                 exec(code_obj, self.user_global_ns, self.user_ns)\n        code_obj = <code object <module> at 0x000001707D54C780, file \"<ipython-input-29-613d76f1db56>\", line 1>\n        self.user_global_ns = {'In': ['', \"raw_data = pd.read_csv('./data/final4/final4_sol...\\t\\t\\t\\t'winPlacePerc': 'float32'\\n\\n                })\", 'raw_data.describe()', \"#data = raw_data[raw_data['matchType']==1]\\ndata = raw_data.copy()\", \"slic_data = data.copy()\\n#headshotfills & headsho...groupId', 'matchType'], axis=1)\\nslic_data.head(1)\", 'import tensorflow as tf\\nimport numpy as np\\nimpor...warnings(\"ignore\")\\nfrom tqdm import tqdm_notebook', \"# dataframe display 옵션\\npd.set_option('display.ma...lumns' , 30)\\npd.set_option('display.width', None)\", \"raw_data = pd.read_csv('./data/final4/final4_sol...\\t\\t\\t\\t'winPlacePerc': 'float32'\\n\\n                })\", 'raw_data.describe()', \"#data = raw_data[raw_data['matchType']==1]\\ndata = raw_data.copy()\", \"slic_data = data.copy()\\n#headshotfills & headsho...groupId', 'matchType'], axis=1)\\nslic_data.head(1)\", 'train_df, test_df = train_test_split(slic_data, ...shape, test_x.shape, train_y.shape, test_y.shape)', 'train_df.dropna(inplace = True)\\nprint(train_df.i...place = True)\\nprint(test_df.isnull().any().any())', 'regr = RandomForestRegressor(n_estimators=80, mi...정\\n# n_jobs : 성능 관련 파라미터(-1: using all processors)', \"get_ipython().run_cell_magic('time', '', 'regr.fit(train_x, train_y)')\", \"print('mae train: ', mean_absolute_error(regr.pr...ean_absolute_error(regr.predict(test_x), test_y))\", 'regr = RandomForestRegressor(n_estimators=80, mi...정\\n# n_jobs : 성능 관련 파라미터(-1: using all processors)', \"get_ipython().run_cell_magic('time', '', 'regr.fit(train_x, train_y)')\", \"print('mae train: ', mean_absolute_error(regr.pr...ean_absolute_error(regr.predict(test_x), test_y))\", 'regr = RandomForestRegressor(n_estimators=100, m...정\\n# n_jobs : 성능 관련 파라미터(-1: using all processors)', ...], 'Out': {8:        matchType   assists_mean    boosts_mean  ...4.600000               14.500000       1.000000  , 10:    assists_mean  boosts_mean  headshotKills_mean...      0.0   \n\n   winPlacePerc  \n0        0.1875  , 14: RandomForestRegressor(bootstrap=True, criterion=..., random_state=None, verbose=0, warm_start=False), 17: RandomForestRegressor(bootstrap=True, criterion=..., random_state=None, verbose=0, warm_start=False), 20: RandomForestRegressor(bootstrap=True, criterion=..., random_state=None, verbose=0, warm_start=False), 23: RandomForestRegressor(bootstrap=True, criterion=..., random_state=None, verbose=0, warm_start=False), 26: RandomForestRegressor(bootstrap=True, criterion=..., random_state=None, verbose=0, warm_start=False)}, 'RandomForestRegressor': <class 'sklearn.ensemble.forest.RandomForestRegressor'>, '_': RandomForestRegressor(bootstrap=True, criterion=..., random_state=None, verbose=0, warm_start=False), '_10':    assists_mean  boosts_mean  headshotKills_mean...      0.0   \n\n   winPlacePerc  \n0        0.1875  , '_14': RandomForestRegressor(bootstrap=True, criterion=..., random_state=None, verbose=0, warm_start=False), '_17': RandomForestRegressor(bootstrap=True, criterion=..., random_state=None, verbose=0, warm_start=False), '_20': RandomForestRegressor(bootstrap=True, criterion=..., random_state=None, verbose=0, warm_start=False), '_23': RandomForestRegressor(bootstrap=True, criterion=..., random_state=None, verbose=0, warm_start=False), '_26': RandomForestRegressor(bootstrap=True, criterion=..., random_state=None, verbose=0, warm_start=False), ...}\n        self.user_ns = {'In': ['', \"raw_data = pd.read_csv('./data/final4/final4_sol...\\t\\t\\t\\t'winPlacePerc': 'float32'\\n\\n                })\", 'raw_data.describe()', \"#data = raw_data[raw_data['matchType']==1]\\ndata = raw_data.copy()\", \"slic_data = data.copy()\\n#headshotfills & headsho...groupId', 'matchType'], axis=1)\\nslic_data.head(1)\", 'import tensorflow as tf\\nimport numpy as np\\nimpor...warnings(\"ignore\")\\nfrom tqdm import tqdm_notebook', \"# dataframe display 옵션\\npd.set_option('display.ma...lumns' , 30)\\npd.set_option('display.width', None)\", \"raw_data = pd.read_csv('./data/final4/final4_sol...\\t\\t\\t\\t'winPlacePerc': 'float32'\\n\\n                })\", 'raw_data.describe()', \"#data = raw_data[raw_data['matchType']==1]\\ndata = raw_data.copy()\", \"slic_data = data.copy()\\n#headshotfills & headsho...groupId', 'matchType'], axis=1)\\nslic_data.head(1)\", 'train_df, test_df = train_test_split(slic_data, ...shape, test_x.shape, train_y.shape, test_y.shape)', 'train_df.dropna(inplace = True)\\nprint(train_df.i...place = True)\\nprint(test_df.isnull().any().any())', 'regr = RandomForestRegressor(n_estimators=80, mi...정\\n# n_jobs : 성능 관련 파라미터(-1: using all processors)', \"get_ipython().run_cell_magic('time', '', 'regr.fit(train_x, train_y)')\", \"print('mae train: ', mean_absolute_error(regr.pr...ean_absolute_error(regr.predict(test_x), test_y))\", 'regr = RandomForestRegressor(n_estimators=80, mi...정\\n# n_jobs : 성능 관련 파라미터(-1: using all processors)', \"get_ipython().run_cell_magic('time', '', 'regr.fit(train_x, train_y)')\", \"print('mae train: ', mean_absolute_error(regr.pr...ean_absolute_error(regr.predict(test_x), test_y))\", 'regr = RandomForestRegressor(n_estimators=100, m...정\\n# n_jobs : 성능 관련 파라미터(-1: using all processors)', ...], 'Out': {8:        matchType   assists_mean    boosts_mean  ...4.600000               14.500000       1.000000  , 10:    assists_mean  boosts_mean  headshotKills_mean...      0.0   \n\n   winPlacePerc  \n0        0.1875  , 14: RandomForestRegressor(bootstrap=True, criterion=..., random_state=None, verbose=0, warm_start=False), 17: RandomForestRegressor(bootstrap=True, criterion=..., random_state=None, verbose=0, warm_start=False), 20: RandomForestRegressor(bootstrap=True, criterion=..., random_state=None, verbose=0, warm_start=False), 23: RandomForestRegressor(bootstrap=True, criterion=..., random_state=None, verbose=0, warm_start=False), 26: RandomForestRegressor(bootstrap=True, criterion=..., random_state=None, verbose=0, warm_start=False)}, 'RandomForestRegressor': <class 'sklearn.ensemble.forest.RandomForestRegressor'>, '_': RandomForestRegressor(bootstrap=True, criterion=..., random_state=None, verbose=0, warm_start=False), '_10':    assists_mean  boosts_mean  headshotKills_mean...      0.0   \n\n   winPlacePerc  \n0        0.1875  , '_14': RandomForestRegressor(bootstrap=True, criterion=..., random_state=None, verbose=0, warm_start=False), '_17': RandomForestRegressor(bootstrap=True, criterion=..., random_state=None, verbose=0, warm_start=False), '_20': RandomForestRegressor(bootstrap=True, criterion=..., random_state=None, verbose=0, warm_start=False), '_23': RandomForestRegressor(bootstrap=True, criterion=..., random_state=None, verbose=0, warm_start=False), '_26': RandomForestRegressor(bootstrap=True, criterion=..., random_state=None, verbose=0, warm_start=False), ...}\n   2962             finally:\n   2963                 # Reset our crash handler in place\n   2964                 sys.excepthook = old_excepthook\n   2965         except SystemExit as e:\n\n...........................................................................\nC:\\Users\\JunHweKim\\PUBG\\<ipython-input-29-613d76f1db56> in <module>()\n----> 1 get_ipython().run_cell_magic('time', '', 'regr.fit(train_x, train_y)')\n\n...........................................................................\nC:\\Users\\JunHweKim\\Anaconda3\\envs\\py36\\lib\\site-packages\\IPython\\core\\interactiveshell.py in run_cell_magic(self=<ipykernel.zmqshell.ZMQInteractiveShell object>, magic_name='time', line='', cell='regr.fit(train_x, train_y)')\n   2162             # This will need to be updated if the internal calling logic gets\n   2163             # refactored, or else we'll be expanding the wrong variables.\n   2164             stack_depth = 2\n   2165             magic_arg_s = self.var_expand(line, stack_depth)\n   2166             with self.builtin_trap:\n-> 2167                 result = fn(magic_arg_s, cell)\n        result = undefined\n        fn = <bound method ExecutionMagics.time of <IPython.core.magics.execution.ExecutionMagics object>>\n        magic_arg_s = ''\n        cell = 'regr.fit(train_x, train_y)'\n   2168             return result\n   2169 \n   2170     def find_line_magic(self, magic_name):\n   2171         \"\"\"Find and return a line magic by name.\n\n...........................................................................\nC:\\Users\\JunHweKim\\PUBG\\<decorator-gen-63> in time(self=<IPython.core.magics.execution.ExecutionMagics object>, line='', cell='regr.fit(train_x, train_y)', local_ns=None)\n\n...........................................................................\nC:\\Users\\JunHweKim\\Anaconda3\\envs\\py36\\lib\\site-packages\\IPython\\core\\magic.py in <lambda>(f=<function ExecutionMagics.time>, *a=(<IPython.core.magics.execution.ExecutionMagics object>, '', 'regr.fit(train_x, train_y)', None), **k={})\n    182     validate_type(magic_kind)\n    183 \n    184     # This is a closure to capture the magic_kind.  We could also use a class,\n    185     # but it's overkill for just that one bit of state.\n    186     def magic_deco(arg):\n--> 187         call = lambda f, *a, **k: f(*a, **k)\n        f = <function ExecutionMagics.time>\n        a = (<IPython.core.magics.execution.ExecutionMagics object>, '', 'regr.fit(train_x, train_y)', None)\n        k = {}\n    188 \n    189         if callable(arg):\n    190             # \"Naked\" decorator call (just @foo, no args)\n    191             func = arg\n\n...........................................................................\nC:\\Users\\JunHweKim\\Anaconda3\\envs\\py36\\lib\\site-packages\\IPython\\core\\magics\\execution.py in time(self=<IPython.core.magics.execution.ExecutionMagics object>, line='', cell='regr.fit(train_x, train_y)', local_ns=None)\n   1224         # time execution\n   1225         wall_st = wtime()\n   1226         if mode=='eval':\n   1227             st = clock2()\n   1228             try:\n-> 1229                 out = eval(code, glob, local_ns)\n        out = undefined\n        code = <code object <module> at 0x0000017005B47DB0, file \"<timed eval>\", line 1>\n        glob = {'In': ['', \"raw_data = pd.read_csv('./data/final4/final4_sol...\\t\\t\\t\\t'winPlacePerc': 'float32'\\n\\n                })\", 'raw_data.describe()', \"#data = raw_data[raw_data['matchType']==1]\\ndata = raw_data.copy()\", \"slic_data = data.copy()\\n#headshotfills & headsho...groupId', 'matchType'], axis=1)\\nslic_data.head(1)\", 'import tensorflow as tf\\nimport numpy as np\\nimpor...warnings(\"ignore\")\\nfrom tqdm import tqdm_notebook', \"# dataframe display 옵션\\npd.set_option('display.ma...lumns' , 30)\\npd.set_option('display.width', None)\", \"raw_data = pd.read_csv('./data/final4/final4_sol...\\t\\t\\t\\t'winPlacePerc': 'float32'\\n\\n                })\", 'raw_data.describe()', \"#data = raw_data[raw_data['matchType']==1]\\ndata = raw_data.copy()\", \"slic_data = data.copy()\\n#headshotfills & headsho...groupId', 'matchType'], axis=1)\\nslic_data.head(1)\", 'train_df, test_df = train_test_split(slic_data, ...shape, test_x.shape, train_y.shape, test_y.shape)', 'train_df.dropna(inplace = True)\\nprint(train_df.i...place = True)\\nprint(test_df.isnull().any().any())', 'regr = RandomForestRegressor(n_estimators=80, mi...정\\n# n_jobs : 성능 관련 파라미터(-1: using all processors)', \"get_ipython().run_cell_magic('time', '', 'regr.fit(train_x, train_y)')\", \"print('mae train: ', mean_absolute_error(regr.pr...ean_absolute_error(regr.predict(test_x), test_y))\", 'regr = RandomForestRegressor(n_estimators=80, mi...정\\n# n_jobs : 성능 관련 파라미터(-1: using all processors)', \"get_ipython().run_cell_magic('time', '', 'regr.fit(train_x, train_y)')\", \"print('mae train: ', mean_absolute_error(regr.pr...ean_absolute_error(regr.predict(test_x), test_y))\", 'regr = RandomForestRegressor(n_estimators=100, m...정\\n# n_jobs : 성능 관련 파라미터(-1: using all processors)', ...], 'Out': {8:        matchType   assists_mean    boosts_mean  ...4.600000               14.500000       1.000000  , 10:    assists_mean  boosts_mean  headshotKills_mean...      0.0   \n\n   winPlacePerc  \n0        0.1875  , 14: RandomForestRegressor(bootstrap=True, criterion=..., random_state=None, verbose=0, warm_start=False), 17: RandomForestRegressor(bootstrap=True, criterion=..., random_state=None, verbose=0, warm_start=False), 20: RandomForestRegressor(bootstrap=True, criterion=..., random_state=None, verbose=0, warm_start=False), 23: RandomForestRegressor(bootstrap=True, criterion=..., random_state=None, verbose=0, warm_start=False), 26: RandomForestRegressor(bootstrap=True, criterion=..., random_state=None, verbose=0, warm_start=False)}, 'RandomForestRegressor': <class 'sklearn.ensemble.forest.RandomForestRegressor'>, '_': RandomForestRegressor(bootstrap=True, criterion=..., random_state=None, verbose=0, warm_start=False), '_10':    assists_mean  boosts_mean  headshotKills_mean...      0.0   \n\n   winPlacePerc  \n0        0.1875  , '_14': RandomForestRegressor(bootstrap=True, criterion=..., random_state=None, verbose=0, warm_start=False), '_17': RandomForestRegressor(bootstrap=True, criterion=..., random_state=None, verbose=0, warm_start=False), '_20': RandomForestRegressor(bootstrap=True, criterion=..., random_state=None, verbose=0, warm_start=False), '_23': RandomForestRegressor(bootstrap=True, criterion=..., random_state=None, verbose=0, warm_start=False), '_26': RandomForestRegressor(bootstrap=True, criterion=..., random_state=None, verbose=0, warm_start=False), ...}\n        local_ns = None\n   1230             except:\n   1231                 self.shell.showtraceback()\n   1232                 return\n   1233             end = clock2()\n\n...........................................................................\nC:\\Users\\JunHweKim\\PUBG\\<timed eval> in <module>()\n\n...........................................................................\nC:\\Users\\JunHweKim\\Anaconda3\\envs\\py36\\lib\\site-packages\\sklearn\\ensemble\\forest.py in fit(self=RandomForestRegressor(bootstrap=True, criterion=..., random_state=None, verbose=0, warm_start=False), X=array([[0.        , 5.        , 0.        , ...,... 0.5882353 ,\n        0.        ]], dtype=float32), y=array([[0.9896    ],\n       [0.50559998],\n      ...9999],\n       [0.81910002],\n       [0.29789999]]), sample_weight=None)\n    323             trees = Parallel(n_jobs=self.n_jobs, verbose=self.verbose,\n    324                              backend=\"threading\")(\n    325                 delayed(_parallel_build_trees)(\n    326                     t, self, X, y, sample_weight, i, len(trees),\n    327                     verbose=self.verbose, class_weight=self.class_weight)\n--> 328                 for i, t in enumerate(trees))\n        i = 99\n    329 \n    330             # Collect newly grown trees\n    331             self.estimators_.extend(trees)\n    332 \n\n...........................................................................\nC:\\Users\\JunHweKim\\Anaconda3\\envs\\py36\\lib\\site-packages\\sklearn\\externals\\joblib\\parallel.py in __call__(self=Parallel(n_jobs=-1), iterable=<generator object BaseForest.fit.<locals>.<genexpr>>)\n    784             if pre_dispatch == \"all\" or n_jobs == 1:\n    785                 # The iterable was consumed all at once by the above for loop.\n    786                 # No need to wait for async callbacks to trigger to\n    787                 # consumption.\n    788                 self._iterating = False\n--> 789             self.retrieve()\n        self.retrieve = <bound method Parallel.retrieve of Parallel(n_jobs=-1)>\n    790             # Make sure that we get a last message telling us we are done\n    791             elapsed_time = time.time() - self._start_time\n    792             self._print('Done %3i out of %3i | elapsed: %s finished',\n    793                         (len(self._output), len(self._output),\n\n---------------------------------------------------------------------------\nSub-process traceback:\n---------------------------------------------------------------------------\nMemoryError                                        Thu Nov 22 19:41:39 2018\nPID: 15684  Python 3.6.6: C:\\Users\\JunHweKim\\Anaconda3\\envs\\py36\\python.exe\n...........................................................................\nC:\\Users\\JunHweKim\\Anaconda3\\envs\\py36\\lib\\site-packages\\sklearn\\externals\\joblib\\parallel.py in __call__(self=<sklearn.externals.joblib.parallel.BatchedCalls object>)\n    126     def __init__(self, iterator_slice):\n    127         self.items = list(iterator_slice)\n    128         self._size = len(self.items)\n    129 \n    130     def __call__(self):\n--> 131         return [func(*args, **kwargs) for func, args, kwargs in self.items]\n        self.items = [(<function _parallel_build_trees>, (DecisionTreeRegressor(criterion='mse', max_depth...t=False, random_state=638324832, splitter='best'), RandomForestRegressor(bootstrap=True, criterion=..., random_state=None, verbose=0, warm_start=False), array([[0.        , 5.        , 0.        , ...,... 0.5882353 ,\n        0.        ]], dtype=float32), array([[0.9896    ],\n       [0.50559998],\n      ...9999],\n       [0.81910002],\n       [0.29789999]]), None, 98, 100), {'class_weight': None, 'verbose': 0})]\n    132 \n    133     def __len__(self):\n    134         return self._size\n    135 \n\n...........................................................................\nC:\\Users\\JunHweKim\\Anaconda3\\envs\\py36\\lib\\site-packages\\sklearn\\externals\\joblib\\parallel.py in <listcomp>(.0=<list_iterator object>)\n    126     def __init__(self, iterator_slice):\n    127         self.items = list(iterator_slice)\n    128         self._size = len(self.items)\n    129 \n    130     def __call__(self):\n--> 131         return [func(*args, **kwargs) for func, args, kwargs in self.items]\n        func = <function _parallel_build_trees>\n        args = (DecisionTreeRegressor(criterion='mse', max_depth...t=False, random_state=638324832, splitter='best'), RandomForestRegressor(bootstrap=True, criterion=..., random_state=None, verbose=0, warm_start=False), array([[0.        , 5.        , 0.        , ...,... 0.5882353 ,\n        0.        ]], dtype=float32), array([[0.9896    ],\n       [0.50559998],\n      ...9999],\n       [0.81910002],\n       [0.29789999]]), None, 98, 100)\n        kwargs = {'class_weight': None, 'verbose': 0}\n    132 \n    133     def __len__(self):\n    134         return self._size\n    135 \n\n...........................................................................\nC:\\Users\\JunHweKim\\Anaconda3\\envs\\py36\\lib\\site-packages\\sklearn\\ensemble\\forest.py in _parallel_build_trees(tree=DecisionTreeRegressor(criterion='mse', max_depth...t=False, random_state=638324832, splitter='best'), forest=RandomForestRegressor(bootstrap=True, criterion=..., random_state=None, verbose=0, warm_start=False), X=array([[0.        , 5.        , 0.        , ...,... 0.5882353 ,\n        0.        ]], dtype=float32), y=array([[0.9896    ],\n       [0.50559998],\n      ...9999],\n       [0.81910002],\n       [0.29789999]]), sample_weight=None, tree_idx=98, n_trees=100, verbose=0, class_weight=None)\n    116                 warnings.simplefilter('ignore', DeprecationWarning)\n    117                 curr_sample_weight *= compute_sample_weight('auto', y, indices)\n    118         elif class_weight == 'balanced_subsample':\n    119             curr_sample_weight *= compute_sample_weight('balanced', y, indices)\n    120 \n--> 121         tree.fit(X, y, sample_weight=curr_sample_weight, check_input=False)\n        tree.fit = <bound method DecisionTreeRegressor.fit of Decis...=False, random_state=638324832, splitter='best')>\n        X = array([[0.        , 5.        , 0.        , ...,... 0.5882353 ,\n        0.        ]], dtype=float32)\n        y = array([[0.9896    ],\n       [0.50559998],\n      ...9999],\n       [0.81910002],\n       [0.29789999]])\n        sample_weight = None\n        curr_sample_weight = array([1., 1., 3., ..., 0., 2., 1.])\n    122     else:\n    123         tree.fit(X, y, sample_weight=sample_weight, check_input=False)\n    124 \n    125     return tree\n\n...........................................................................\nC:\\Users\\JunHweKim\\Anaconda3\\envs\\py36\\lib\\site-packages\\sklearn\\tree\\tree.py in fit(self=DecisionTreeRegressor(criterion='mse', max_depth...t=False, random_state=638324832, splitter='best'), X=array([[0.        , 5.        , 0.        , ...,... 0.5882353 ,\n        0.        ]], dtype=float32), y=array([[0.9896    ],\n       [0.50559998],\n      ...9999],\n       [0.81910002],\n       [0.29789999]]), sample_weight=array([1., 1., 3., ..., 0., 2., 1.]), check_input=False, X_idx_sorted=None)\n   1119 \n   1120         super(DecisionTreeRegressor, self).fit(\n   1121             X, y,\n   1122             sample_weight=sample_weight,\n   1123             check_input=check_input,\n-> 1124             X_idx_sorted=X_idx_sorted)\n        X_idx_sorted = None\n   1125         return self\n   1126 \n   1127 \n   1128 class ExtraTreeClassifier(DecisionTreeClassifier):\n\n...........................................................................\nC:\\Users\\JunHweKim\\Anaconda3\\envs\\py36\\lib\\site-packages\\sklearn\\tree\\tree.py in fit(self=DecisionTreeRegressor(criterion='mse', max_depth...t=False, random_state=638324832, splitter='best'), X=array([[0.        , 5.        , 0.        , ...,... 0.5882353 ,\n        0.        ]], dtype=float32), y=array([[0.9896    ],\n       [0.50559998],\n      ...9999],\n       [0.81910002],\n       [0.29789999]]), sample_weight=array([1., 1., 3., ..., 0., 2., 1.]), check_input=False, X_idx_sorted=None)\n    357                                            max_depth,\n    358                                            max_leaf_nodes,\n    359                                            self.min_impurity_decrease,\n    360                                            min_impurity_split)\n    361 \n--> 362         builder.build(self.tree_, X, y, sample_weight, X_idx_sorted)\n        builder.build = <built-in method build of sklearn.tree._tree.DepthFirstTreeBuilder object>\n        self.tree_ = <sklearn.tree._tree.Tree object>\n        X = array([[0.        , 5.        , 0.        , ...,... 0.5882353 ,\n        0.        ]], dtype=float32)\n        y = array([[0.9896    ],\n       [0.50559998],\n      ...9999],\n       [0.81910002],\n       [0.29789999]])\n        sample_weight = array([1., 1., 3., ..., 0., 2., 1.])\n        X_idx_sorted = None\n    363 \n    364         if self.n_outputs_ == 1:\n    365             self.n_classes_ = self.n_classes_[0]\n    366             self.classes_ = self.classes_[0]\n\n...........................................................................\nC:\\Users\\JunHweKim\\Anaconda3\\envs\\py36\\lib\\site-packages\\sklearn\\tree\\_tree.cp36-win_amd64.pyd in sklearn.tree._tree.DepthFirstTreeBuilder.build()\n\n...........................................................................\nC:\\Users\\JunHweKim\\Anaconda3\\envs\\py36\\lib\\site-packages\\sklearn\\tree\\_tree.cp36-win_amd64.pyd in sklearn.tree._tree.DepthFirstTreeBuilder.build()\n\n...........................................................................\nC:\\Users\\JunHweKim\\Anaconda3\\envs\\py36\\lib\\site-packages\\sklearn\\tree\\_tree.cp36-win_amd64.pyd in sklearn.tree._tree.Tree._add_node()\n\n...........................................................................\nC:\\Users\\JunHweKim\\Anaconda3\\envs\\py36\\lib\\site-packages\\sklearn\\tree\\_tree.cp36-win_amd64.pyd in sklearn.tree._tree.Tree._resize_c()\n\n...........................................................................\nC:\\Users\\JunHweKim\\Anaconda3\\envs\\py36\\lib\\site-packages\\sklearn\\tree\\_utils.cp36-win_amd64.pyd in sklearn.tree._utils.safe_realloc()\n\nMemoryError: could not allocate 58720256 bytes\n___________________________________________________________________________",
     "output_type": "error",
     "traceback": [
      "\u001b[1;31m---------------------------------------------------------------------------\u001b[0m",
      "\u001b[1;31mMemoryError\u001b[0m                               Traceback (most recent call last)",
      "\u001b[1;32m~\\Anaconda3\\envs\\py36\\lib\\site-packages\\sklearn\\externals\\joblib\\_parallel_backends.py\u001b[0m in \u001b[0;36m__call__\u001b[1;34m(self, *args, **kwargs)\u001b[0m\n\u001b[0;32m    349\u001b[0m         \u001b[1;32mtry\u001b[0m\u001b[1;33m:\u001b[0m\u001b[1;33m\u001b[0m\u001b[0m\n\u001b[1;32m--> 350\u001b[1;33m             \u001b[1;32mreturn\u001b[0m \u001b[0mself\u001b[0m\u001b[1;33m.\u001b[0m\u001b[0mfunc\u001b[0m\u001b[1;33m(\u001b[0m\u001b[1;33m*\u001b[0m\u001b[0margs\u001b[0m\u001b[1;33m,\u001b[0m \u001b[1;33m**\u001b[0m\u001b[0mkwargs\u001b[0m\u001b[1;33m)\u001b[0m\u001b[1;33m\u001b[0m\u001b[0m\n\u001b[0m\u001b[0;32m    351\u001b[0m         \u001b[1;32mexcept\u001b[0m \u001b[0mKeyboardInterrupt\u001b[0m\u001b[1;33m:\u001b[0m\u001b[1;33m\u001b[0m\u001b[0m\n",
      "\u001b[1;32m~\\Anaconda3\\envs\\py36\\lib\\site-packages\\sklearn\\externals\\joblib\\parallel.py\u001b[0m in \u001b[0;36m__call__\u001b[1;34m(self)\u001b[0m\n\u001b[0;32m    130\u001b[0m     \u001b[1;32mdef\u001b[0m \u001b[0m__call__\u001b[0m\u001b[1;33m(\u001b[0m\u001b[0mself\u001b[0m\u001b[1;33m)\u001b[0m\u001b[1;33m:\u001b[0m\u001b[1;33m\u001b[0m\u001b[0m\n\u001b[1;32m--> 131\u001b[1;33m         \u001b[1;32mreturn\u001b[0m \u001b[1;33m[\u001b[0m\u001b[0mfunc\u001b[0m\u001b[1;33m(\u001b[0m\u001b[1;33m*\u001b[0m\u001b[0margs\u001b[0m\u001b[1;33m,\u001b[0m \u001b[1;33m**\u001b[0m\u001b[0mkwargs\u001b[0m\u001b[1;33m)\u001b[0m \u001b[1;32mfor\u001b[0m \u001b[0mfunc\u001b[0m\u001b[1;33m,\u001b[0m \u001b[0margs\u001b[0m\u001b[1;33m,\u001b[0m \u001b[0mkwargs\u001b[0m \u001b[1;32min\u001b[0m \u001b[0mself\u001b[0m\u001b[1;33m.\u001b[0m\u001b[0mitems\u001b[0m\u001b[1;33m]\u001b[0m\u001b[1;33m\u001b[0m\u001b[0m\n\u001b[0m\u001b[0;32m    132\u001b[0m \u001b[1;33m\u001b[0m\u001b[0m\n",
      "\u001b[1;32m~\\Anaconda3\\envs\\py36\\lib\\site-packages\\sklearn\\externals\\joblib\\parallel.py\u001b[0m in \u001b[0;36m<listcomp>\u001b[1;34m(.0)\u001b[0m\n\u001b[0;32m    130\u001b[0m     \u001b[1;32mdef\u001b[0m \u001b[0m__call__\u001b[0m\u001b[1;33m(\u001b[0m\u001b[0mself\u001b[0m\u001b[1;33m)\u001b[0m\u001b[1;33m:\u001b[0m\u001b[1;33m\u001b[0m\u001b[0m\n\u001b[1;32m--> 131\u001b[1;33m         \u001b[1;32mreturn\u001b[0m \u001b[1;33m[\u001b[0m\u001b[0mfunc\u001b[0m\u001b[1;33m(\u001b[0m\u001b[1;33m*\u001b[0m\u001b[0margs\u001b[0m\u001b[1;33m,\u001b[0m \u001b[1;33m**\u001b[0m\u001b[0mkwargs\u001b[0m\u001b[1;33m)\u001b[0m \u001b[1;32mfor\u001b[0m \u001b[0mfunc\u001b[0m\u001b[1;33m,\u001b[0m \u001b[0margs\u001b[0m\u001b[1;33m,\u001b[0m \u001b[0mkwargs\u001b[0m \u001b[1;32min\u001b[0m \u001b[0mself\u001b[0m\u001b[1;33m.\u001b[0m\u001b[0mitems\u001b[0m\u001b[1;33m]\u001b[0m\u001b[1;33m\u001b[0m\u001b[0m\n\u001b[0m\u001b[0;32m    132\u001b[0m \u001b[1;33m\u001b[0m\u001b[0m\n",
      "\u001b[1;32m~\\Anaconda3\\envs\\py36\\lib\\site-packages\\sklearn\\ensemble\\forest.py\u001b[0m in \u001b[0;36m_parallel_build_trees\u001b[1;34m(tree, forest, X, y, sample_weight, tree_idx, n_trees, verbose, class_weight)\u001b[0m\n\u001b[0;32m    120\u001b[0m \u001b[1;33m\u001b[0m\u001b[0m\n\u001b[1;32m--> 121\u001b[1;33m         \u001b[0mtree\u001b[0m\u001b[1;33m.\u001b[0m\u001b[0mfit\u001b[0m\u001b[1;33m(\u001b[0m\u001b[0mX\u001b[0m\u001b[1;33m,\u001b[0m \u001b[0my\u001b[0m\u001b[1;33m,\u001b[0m \u001b[0msample_weight\u001b[0m\u001b[1;33m=\u001b[0m\u001b[0mcurr_sample_weight\u001b[0m\u001b[1;33m,\u001b[0m \u001b[0mcheck_input\u001b[0m\u001b[1;33m=\u001b[0m\u001b[1;32mFalse\u001b[0m\u001b[1;33m)\u001b[0m\u001b[1;33m\u001b[0m\u001b[0m\n\u001b[0m\u001b[0;32m    122\u001b[0m     \u001b[1;32melse\u001b[0m\u001b[1;33m:\u001b[0m\u001b[1;33m\u001b[0m\u001b[0m\n",
      "\u001b[1;32m~\\Anaconda3\\envs\\py36\\lib\\site-packages\\sklearn\\tree\\tree.py\u001b[0m in \u001b[0;36mfit\u001b[1;34m(self, X, y, sample_weight, check_input, X_idx_sorted)\u001b[0m\n\u001b[0;32m   1123\u001b[0m             \u001b[0mcheck_input\u001b[0m\u001b[1;33m=\u001b[0m\u001b[0mcheck_input\u001b[0m\u001b[1;33m,\u001b[0m\u001b[1;33m\u001b[0m\u001b[0m\n\u001b[1;32m-> 1124\u001b[1;33m             X_idx_sorted=X_idx_sorted)\n\u001b[0m\u001b[0;32m   1125\u001b[0m         \u001b[1;32mreturn\u001b[0m \u001b[0mself\u001b[0m\u001b[1;33m\u001b[0m\u001b[0m\n",
      "\u001b[1;32m~\\Anaconda3\\envs\\py36\\lib\\site-packages\\sklearn\\tree\\tree.py\u001b[0m in \u001b[0;36mfit\u001b[1;34m(self, X, y, sample_weight, check_input, X_idx_sorted)\u001b[0m\n\u001b[0;32m    361\u001b[0m \u001b[1;33m\u001b[0m\u001b[0m\n\u001b[1;32m--> 362\u001b[1;33m         \u001b[0mbuilder\u001b[0m\u001b[1;33m.\u001b[0m\u001b[0mbuild\u001b[0m\u001b[1;33m(\u001b[0m\u001b[0mself\u001b[0m\u001b[1;33m.\u001b[0m\u001b[0mtree_\u001b[0m\u001b[1;33m,\u001b[0m \u001b[0mX\u001b[0m\u001b[1;33m,\u001b[0m \u001b[0my\u001b[0m\u001b[1;33m,\u001b[0m \u001b[0msample_weight\u001b[0m\u001b[1;33m,\u001b[0m \u001b[0mX_idx_sorted\u001b[0m\u001b[1;33m)\u001b[0m\u001b[1;33m\u001b[0m\u001b[0m\n\u001b[0m\u001b[0;32m    363\u001b[0m \u001b[1;33m\u001b[0m\u001b[0m\n",
      "\u001b[1;32msklearn/tree/_tree.pyx\u001b[0m in \u001b[0;36msklearn.tree._tree.DepthFirstTreeBuilder.build\u001b[1;34m()\u001b[0m\n",
      "\u001b[1;32msklearn/tree/_tree.pyx\u001b[0m in \u001b[0;36msklearn.tree._tree.DepthFirstTreeBuilder.build\u001b[1;34m()\u001b[0m\n",
      "\u001b[1;32msklearn/tree/_tree.pyx\u001b[0m in \u001b[0;36msklearn.tree._tree.Tree._add_node\u001b[1;34m()\u001b[0m\n",
      "\u001b[1;32msklearn/tree/_tree.pyx\u001b[0m in \u001b[0;36msklearn.tree._tree.Tree._resize_c\u001b[1;34m()\u001b[0m\n",
      "\u001b[1;32msklearn/tree/_utils.pyx\u001b[0m in \u001b[0;36msklearn.tree._utils.safe_realloc\u001b[1;34m()\u001b[0m\n",
      "\u001b[1;31mMemoryError\u001b[0m: could not allocate 58720256 bytes",
      "\nDuring handling of the above exception, another exception occurred:\n",
      "\u001b[1;31mTransportableException\u001b[0m                    Traceback (most recent call last)",
      "\u001b[1;32m~\\Anaconda3\\envs\\py36\\lib\\site-packages\\sklearn\\externals\\joblib\\parallel.py\u001b[0m in \u001b[0;36mretrieve\u001b[1;34m(self)\u001b[0m\n\u001b[0;32m    698\u001b[0m                 \u001b[1;32mif\u001b[0m \u001b[0mgetattr\u001b[0m\u001b[1;33m(\u001b[0m\u001b[0mself\u001b[0m\u001b[1;33m.\u001b[0m\u001b[0m_backend\u001b[0m\u001b[1;33m,\u001b[0m \u001b[1;34m'supports_timeout'\u001b[0m\u001b[1;33m,\u001b[0m \u001b[1;32mFalse\u001b[0m\u001b[1;33m)\u001b[0m\u001b[1;33m:\u001b[0m\u001b[1;33m\u001b[0m\u001b[0m\n\u001b[1;32m--> 699\u001b[1;33m                     \u001b[0mself\u001b[0m\u001b[1;33m.\u001b[0m\u001b[0m_output\u001b[0m\u001b[1;33m.\u001b[0m\u001b[0mextend\u001b[0m\u001b[1;33m(\u001b[0m\u001b[0mjob\u001b[0m\u001b[1;33m.\u001b[0m\u001b[0mget\u001b[0m\u001b[1;33m(\u001b[0m\u001b[0mtimeout\u001b[0m\u001b[1;33m=\u001b[0m\u001b[0mself\u001b[0m\u001b[1;33m.\u001b[0m\u001b[0mtimeout\u001b[0m\u001b[1;33m)\u001b[0m\u001b[1;33m)\u001b[0m\u001b[1;33m\u001b[0m\u001b[0m\n\u001b[0m\u001b[0;32m    700\u001b[0m                 \u001b[1;32melse\u001b[0m\u001b[1;33m:\u001b[0m\u001b[1;33m\u001b[0m\u001b[0m\n",
      "\u001b[1;32m~\\Anaconda3\\envs\\py36\\lib\\multiprocessing\\pool.py\u001b[0m in \u001b[0;36mget\u001b[1;34m(self, timeout)\u001b[0m\n\u001b[0;32m    643\u001b[0m         \u001b[1;32melse\u001b[0m\u001b[1;33m:\u001b[0m\u001b[1;33m\u001b[0m\u001b[0m\n\u001b[1;32m--> 644\u001b[1;33m             \u001b[1;32mraise\u001b[0m \u001b[0mself\u001b[0m\u001b[1;33m.\u001b[0m\u001b[0m_value\u001b[0m\u001b[1;33m\u001b[0m\u001b[0m\n\u001b[0m\u001b[0;32m    645\u001b[0m \u001b[1;33m\u001b[0m\u001b[0m\n",
      "\u001b[1;32m~\\Anaconda3\\envs\\py36\\lib\\multiprocessing\\pool.py\u001b[0m in \u001b[0;36mworker\u001b[1;34m(inqueue, outqueue, initializer, initargs, maxtasks, wrap_exception)\u001b[0m\n\u001b[0;32m    118\u001b[0m         \u001b[1;32mtry\u001b[0m\u001b[1;33m:\u001b[0m\u001b[1;33m\u001b[0m\u001b[0m\n\u001b[1;32m--> 119\u001b[1;33m             \u001b[0mresult\u001b[0m \u001b[1;33m=\u001b[0m \u001b[1;33m(\u001b[0m\u001b[1;32mTrue\u001b[0m\u001b[1;33m,\u001b[0m \u001b[0mfunc\u001b[0m\u001b[1;33m(\u001b[0m\u001b[1;33m*\u001b[0m\u001b[0margs\u001b[0m\u001b[1;33m,\u001b[0m \u001b[1;33m**\u001b[0m\u001b[0mkwds\u001b[0m\u001b[1;33m)\u001b[0m\u001b[1;33m)\u001b[0m\u001b[1;33m\u001b[0m\u001b[0m\n\u001b[0m\u001b[0;32m    120\u001b[0m         \u001b[1;32mexcept\u001b[0m \u001b[0mException\u001b[0m \u001b[1;32mas\u001b[0m \u001b[0me\u001b[0m\u001b[1;33m:\u001b[0m\u001b[1;33m\u001b[0m\u001b[0m\n",
      "\u001b[1;32m~\\Anaconda3\\envs\\py36\\lib\\site-packages\\sklearn\\externals\\joblib\\_parallel_backends.py\u001b[0m in \u001b[0;36m__call__\u001b[1;34m(self, *args, **kwargs)\u001b[0m\n\u001b[0;32m    358\u001b[0m             \u001b[0mtext\u001b[0m \u001b[1;33m=\u001b[0m \u001b[0mformat_exc\u001b[0m\u001b[1;33m(\u001b[0m\u001b[0me_type\u001b[0m\u001b[1;33m,\u001b[0m \u001b[0me_value\u001b[0m\u001b[1;33m,\u001b[0m \u001b[0me_tb\u001b[0m\u001b[1;33m,\u001b[0m \u001b[0mcontext\u001b[0m\u001b[1;33m=\u001b[0m\u001b[1;36m10\u001b[0m\u001b[1;33m,\u001b[0m \u001b[0mtb_offset\u001b[0m\u001b[1;33m=\u001b[0m\u001b[1;36m1\u001b[0m\u001b[1;33m)\u001b[0m\u001b[1;33m\u001b[0m\u001b[0m\n\u001b[1;32m--> 359\u001b[1;33m             \u001b[1;32mraise\u001b[0m \u001b[0mTransportableException\u001b[0m\u001b[1;33m(\u001b[0m\u001b[0mtext\u001b[0m\u001b[1;33m,\u001b[0m \u001b[0me_type\u001b[0m\u001b[1;33m)\u001b[0m\u001b[1;33m\u001b[0m\u001b[0m\n\u001b[0m\u001b[0;32m    360\u001b[0m \u001b[1;33m\u001b[0m\u001b[0m\n",
      "\u001b[1;31mTransportableException\u001b[0m: TransportableException\n___________________________________________________________________________\nMemoryError                                        Thu Nov 22 19:41:39 2018\nPID: 15684  Python 3.6.6: C:\\Users\\JunHweKim\\Anaconda3\\envs\\py36\\python.exe\n...........................................................................\nC:\\Users\\JunHweKim\\Anaconda3\\envs\\py36\\lib\\site-packages\\sklearn\\externals\\joblib\\parallel.py in __call__(self=<sklearn.externals.joblib.parallel.BatchedCalls object>)\n    126     def __init__(self, iterator_slice):\n    127         self.items = list(iterator_slice)\n    128         self._size = len(self.items)\n    129 \n    130     def __call__(self):\n--> 131         return [func(*args, **kwargs) for func, args, kwargs in self.items]\n        self.items = [(<function _parallel_build_trees>, (DecisionTreeRegressor(criterion='mse', max_depth...t=False, random_state=638324832, splitter='best'), RandomForestRegressor(bootstrap=True, criterion=..., random_state=None, verbose=0, warm_start=False), array([[0.        , 5.        , 0.        , ...,... 0.5882353 ,\n        0.        ]], dtype=float32), array([[0.9896    ],\n       [0.50559998],\n      ...9999],\n       [0.81910002],\n       [0.29789999]]), None, 98, 100), {'class_weight': None, 'verbose': 0})]\n    132 \n    133     def __len__(self):\n    134         return self._size\n    135 \n\n...........................................................................\nC:\\Users\\JunHweKim\\Anaconda3\\envs\\py36\\lib\\site-packages\\sklearn\\externals\\joblib\\parallel.py in <listcomp>(.0=<list_iterator object>)\n    126     def __init__(self, iterator_slice):\n    127         self.items = list(iterator_slice)\n    128         self._size = len(self.items)\n    129 \n    130     def __call__(self):\n--> 131         return [func(*args, **kwargs) for func, args, kwargs in self.items]\n        func = <function _parallel_build_trees>\n        args = (DecisionTreeRegressor(criterion='mse', max_depth...t=False, random_state=638324832, splitter='best'), RandomForestRegressor(bootstrap=True, criterion=..., random_state=None, verbose=0, warm_start=False), array([[0.        , 5.        , 0.        , ...,... 0.5882353 ,\n        0.        ]], dtype=float32), array([[0.9896    ],\n       [0.50559998],\n      ...9999],\n       [0.81910002],\n       [0.29789999]]), None, 98, 100)\n        kwargs = {'class_weight': None, 'verbose': 0}\n    132 \n    133     def __len__(self):\n    134         return self._size\n    135 \n\n...........................................................................\nC:\\Users\\JunHweKim\\Anaconda3\\envs\\py36\\lib\\site-packages\\sklearn\\ensemble\\forest.py in _parallel_build_trees(tree=DecisionTreeRegressor(criterion='mse', max_depth...t=False, random_state=638324832, splitter='best'), forest=RandomForestRegressor(bootstrap=True, criterion=..., random_state=None, verbose=0, warm_start=False), X=array([[0.        , 5.        , 0.        , ...,... 0.5882353 ,\n        0.        ]], dtype=float32), y=array([[0.9896    ],\n       [0.50559998],\n      ...9999],\n       [0.81910002],\n       [0.29789999]]), sample_weight=None, tree_idx=98, n_trees=100, verbose=0, class_weight=None)\n    116                 warnings.simplefilter('ignore', DeprecationWarning)\n    117                 curr_sample_weight *= compute_sample_weight('auto', y, indices)\n    118         elif class_weight == 'balanced_subsample':\n    119             curr_sample_weight *= compute_sample_weight('balanced', y, indices)\n    120 \n--> 121         tree.fit(X, y, sample_weight=curr_sample_weight, check_input=False)\n        tree.fit = <bound method DecisionTreeRegressor.fit of Decis...=False, random_state=638324832, splitter='best')>\n        X = array([[0.        , 5.        , 0.        , ...,... 0.5882353 ,\n        0.        ]], dtype=float32)\n        y = array([[0.9896    ],\n       [0.50559998],\n      ...9999],\n       [0.81910002],\n       [0.29789999]])\n        sample_weight = None\n        curr_sample_weight = array([1., 1., 3., ..., 0., 2., 1.])\n    122     else:\n    123         tree.fit(X, y, sample_weight=sample_weight, check_input=False)\n    124 \n    125     return tree\n\n...........................................................................\nC:\\Users\\JunHweKim\\Anaconda3\\envs\\py36\\lib\\site-packages\\sklearn\\tree\\tree.py in fit(self=DecisionTreeRegressor(criterion='mse', max_depth...t=False, random_state=638324832, splitter='best'), X=array([[0.        , 5.        , 0.        , ...,... 0.5882353 ,\n        0.        ]], dtype=float32), y=array([[0.9896    ],\n       [0.50559998],\n      ...9999],\n       [0.81910002],\n       [0.29789999]]), sample_weight=array([1., 1., 3., ..., 0., 2., 1.]), check_input=False, X_idx_sorted=None)\n   1119 \n   1120         super(DecisionTreeRegressor, self).fit(\n   1121             X, y,\n   1122             sample_weight=sample_weight,\n   1123             check_input=check_input,\n-> 1124             X_idx_sorted=X_idx_sorted)\n        X_idx_sorted = None\n   1125         return self\n   1126 \n   1127 \n   1128 class ExtraTreeClassifier(DecisionTreeClassifier):\n\n...........................................................................\nC:\\Users\\JunHweKim\\Anaconda3\\envs\\py36\\lib\\site-packages\\sklearn\\tree\\tree.py in fit(self=DecisionTreeRegressor(criterion='mse', max_depth...t=False, random_state=638324832, splitter='best'), X=array([[0.        , 5.        , 0.        , ...,... 0.5882353 ,\n        0.        ]], dtype=float32), y=array([[0.9896    ],\n       [0.50559998],\n      ...9999],\n       [0.81910002],\n       [0.29789999]]), sample_weight=array([1., 1., 3., ..., 0., 2., 1.]), check_input=False, X_idx_sorted=None)\n    357                                            max_depth,\n    358                                            max_leaf_nodes,\n    359                                            self.min_impurity_decrease,\n    360                                            min_impurity_split)\n    361 \n--> 362         builder.build(self.tree_, X, y, sample_weight, X_idx_sorted)\n        builder.build = <built-in method build of sklearn.tree._tree.DepthFirstTreeBuilder object>\n        self.tree_ = <sklearn.tree._tree.Tree object>\n        X = array([[0.        , 5.        , 0.        , ...,... 0.5882353 ,\n        0.        ]], dtype=float32)\n        y = array([[0.9896    ],\n       [0.50559998],\n      ...9999],\n       [0.81910002],\n       [0.29789999]])\n        sample_weight = array([1., 1., 3., ..., 0., 2., 1.])\n        X_idx_sorted = None\n    363 \n    364         if self.n_outputs_ == 1:\n    365             self.n_classes_ = self.n_classes_[0]\n    366             self.classes_ = self.classes_[0]\n\n...........................................................................\nC:\\Users\\JunHweKim\\Anaconda3\\envs\\py36\\lib\\site-packages\\sklearn\\tree\\_tree.cp36-win_amd64.pyd in sklearn.tree._tree.DepthFirstTreeBuilder.build()\n\n...........................................................................\nC:\\Users\\JunHweKim\\Anaconda3\\envs\\py36\\lib\\site-packages\\sklearn\\tree\\_tree.cp36-win_amd64.pyd in sklearn.tree._tree.DepthFirstTreeBuilder.build()\n\n...........................................................................\nC:\\Users\\JunHweKim\\Anaconda3\\envs\\py36\\lib\\site-packages\\sklearn\\tree\\_tree.cp36-win_amd64.pyd in sklearn.tree._tree.Tree._add_node()\n\n...........................................................................\nC:\\Users\\JunHweKim\\Anaconda3\\envs\\py36\\lib\\site-packages\\sklearn\\tree\\_tree.cp36-win_amd64.pyd in sklearn.tree._tree.Tree._resize_c()\n\n...........................................................................\nC:\\Users\\JunHweKim\\Anaconda3\\envs\\py36\\lib\\site-packages\\sklearn\\tree\\_utils.cp36-win_amd64.pyd in sklearn.tree._utils.safe_realloc()\n\nMemoryError: could not allocate 58720256 bytes\n___________________________________________________________________________",
      "\nDuring handling of the above exception, another exception occurred:\n",
      "\u001b[1;31mJoblibMemoryError\u001b[0m                         Traceback (most recent call last)",
      "\u001b[1;32m<timed eval>\u001b[0m in \u001b[0;36m<module>\u001b[1;34m()\u001b[0m\n",
      "\u001b[1;32m~\\Anaconda3\\envs\\py36\\lib\\site-packages\\sklearn\\ensemble\\forest.py\u001b[0m in \u001b[0;36mfit\u001b[1;34m(self, X, y, sample_weight)\u001b[0m\n\u001b[0;32m    326\u001b[0m                     \u001b[0mt\u001b[0m\u001b[1;33m,\u001b[0m \u001b[0mself\u001b[0m\u001b[1;33m,\u001b[0m \u001b[0mX\u001b[0m\u001b[1;33m,\u001b[0m \u001b[0my\u001b[0m\u001b[1;33m,\u001b[0m \u001b[0msample_weight\u001b[0m\u001b[1;33m,\u001b[0m \u001b[0mi\u001b[0m\u001b[1;33m,\u001b[0m \u001b[0mlen\u001b[0m\u001b[1;33m(\u001b[0m\u001b[0mtrees\u001b[0m\u001b[1;33m)\u001b[0m\u001b[1;33m,\u001b[0m\u001b[1;33m\u001b[0m\u001b[0m\n\u001b[0;32m    327\u001b[0m                     verbose=self.verbose, class_weight=self.class_weight)\n\u001b[1;32m--> 328\u001b[1;33m                 for i, t in enumerate(trees))\n\u001b[0m\u001b[0;32m    329\u001b[0m \u001b[1;33m\u001b[0m\u001b[0m\n\u001b[0;32m    330\u001b[0m             \u001b[1;31m# Collect newly grown trees\u001b[0m\u001b[1;33m\u001b[0m\u001b[1;33m\u001b[0m\u001b[0m\n",
      "\u001b[1;32m~\\Anaconda3\\envs\\py36\\lib\\site-packages\\sklearn\\externals\\joblib\\parallel.py\u001b[0m in \u001b[0;36m__call__\u001b[1;34m(self, iterable)\u001b[0m\n\u001b[0;32m    787\u001b[0m                 \u001b[1;31m# consumption.\u001b[0m\u001b[1;33m\u001b[0m\u001b[1;33m\u001b[0m\u001b[0m\n\u001b[0;32m    788\u001b[0m                 \u001b[0mself\u001b[0m\u001b[1;33m.\u001b[0m\u001b[0m_iterating\u001b[0m \u001b[1;33m=\u001b[0m \u001b[1;32mFalse\u001b[0m\u001b[1;33m\u001b[0m\u001b[0m\n\u001b[1;32m--> 789\u001b[1;33m             \u001b[0mself\u001b[0m\u001b[1;33m.\u001b[0m\u001b[0mretrieve\u001b[0m\u001b[1;33m(\u001b[0m\u001b[1;33m)\u001b[0m\u001b[1;33m\u001b[0m\u001b[0m\n\u001b[0m\u001b[0;32m    790\u001b[0m             \u001b[1;31m# Make sure that we get a last message telling us we are done\u001b[0m\u001b[1;33m\u001b[0m\u001b[1;33m\u001b[0m\u001b[0m\n\u001b[0;32m    791\u001b[0m             \u001b[0melapsed_time\u001b[0m \u001b[1;33m=\u001b[0m \u001b[0mtime\u001b[0m\u001b[1;33m.\u001b[0m\u001b[0mtime\u001b[0m\u001b[1;33m(\u001b[0m\u001b[1;33m)\u001b[0m \u001b[1;33m-\u001b[0m \u001b[0mself\u001b[0m\u001b[1;33m.\u001b[0m\u001b[0m_start_time\u001b[0m\u001b[1;33m\u001b[0m\u001b[0m\n",
      "\u001b[1;32m~\\Anaconda3\\envs\\py36\\lib\\site-packages\\sklearn\\externals\\joblib\\parallel.py\u001b[0m in \u001b[0;36mretrieve\u001b[1;34m(self)\u001b[0m\n\u001b[0;32m    738\u001b[0m                     \u001b[0mexception\u001b[0m \u001b[1;33m=\u001b[0m \u001b[0mexception_type\u001b[0m\u001b[1;33m(\u001b[0m\u001b[0mreport\u001b[0m\u001b[1;33m)\u001b[0m\u001b[1;33m\u001b[0m\u001b[0m\n\u001b[0;32m    739\u001b[0m \u001b[1;33m\u001b[0m\u001b[0m\n\u001b[1;32m--> 740\u001b[1;33m                     \u001b[1;32mraise\u001b[0m \u001b[0mexception\u001b[0m\u001b[1;33m\u001b[0m\u001b[0m\n\u001b[0m\u001b[0;32m    741\u001b[0m \u001b[1;33m\u001b[0m\u001b[0m\n\u001b[0;32m    742\u001b[0m     \u001b[1;32mdef\u001b[0m \u001b[0m__call__\u001b[0m\u001b[1;33m(\u001b[0m\u001b[0mself\u001b[0m\u001b[1;33m,\u001b[0m \u001b[0miterable\u001b[0m\u001b[1;33m)\u001b[0m\u001b[1;33m:\u001b[0m\u001b[1;33m\u001b[0m\u001b[0m\n",
      "\u001b[1;31mJoblibMemoryError\u001b[0m: JoblibMemoryError\n___________________________________________________________________________\nMultiprocessing exception:\n...........................................................................\nC:\\Users\\JunHweKim\\Anaconda3\\envs\\py36\\lib\\runpy.py in _run_module_as_main(mod_name='ipykernel_launcher', alter_argv=1)\n    188         sys.exit(msg)\n    189     main_globals = sys.modules[\"__main__\"].__dict__\n    190     if alter_argv:\n    191         sys.argv[0] = mod_spec.origin\n    192     return _run_code(code, main_globals, None,\n--> 193                      \"__main__\", mod_spec)\n        mod_spec = ModuleSpec(name='ipykernel_launcher', loader=<_f...py36\\\\lib\\\\site-packages\\\\ipykernel_launcher.py')\n    194 \n    195 def run_module(mod_name, init_globals=None,\n    196                run_name=None, alter_sys=False):\n    197     \"\"\"Execute a module's code without importing it\n\n...........................................................................\nC:\\Users\\JunHweKim\\Anaconda3\\envs\\py36\\lib\\runpy.py in _run_code(code=<code object <module> at 0x000001707B0A5F60, fil...lib\\site-packages\\ipykernel_launcher.py\", line 5>, run_globals={'__annotations__': {}, '__builtins__': <module 'builtins' (built-in)>, '__cached__': r'C:\\Users\\JunHweKim\\Anaconda3\\envs\\py36\\lib\\site-...ges\\__pycache__\\ipykernel_launcher.cpython-36.pyc', '__doc__': 'Entry point for launching an IPython kernel.\\n\\nTh...orts until\\nafter removing the cwd from sys.path.\\n', '__file__': r'C:\\Users\\JunHweKim\\Anaconda3\\envs\\py36\\lib\\site-packages\\ipykernel_launcher.py', '__loader__': <_frozen_importlib_external.SourceFileLoader object>, '__name__': '__main__', '__package__': '', '__spec__': ModuleSpec(name='ipykernel_launcher', loader=<_f...py36\\\\lib\\\\site-packages\\\\ipykernel_launcher.py'), 'app': <module 'ipykernel.kernelapp' from 'C:\\\\Users\\\\J...36\\\\lib\\\\site-packages\\\\ipykernel\\\\kernelapp.py'>, ...}, init_globals=None, mod_name='__main__', mod_spec=ModuleSpec(name='ipykernel_launcher', loader=<_f...py36\\\\lib\\\\site-packages\\\\ipykernel_launcher.py'), pkg_name='', script_name=None)\n     80                        __cached__ = cached,\n     81                        __doc__ = None,\n     82                        __loader__ = loader,\n     83                        __package__ = pkg_name,\n     84                        __spec__ = mod_spec)\n---> 85     exec(code, run_globals)\n        code = <code object <module> at 0x000001707B0A5F60, fil...lib\\site-packages\\ipykernel_launcher.py\", line 5>\n        run_globals = {'__annotations__': {}, '__builtins__': <module 'builtins' (built-in)>, '__cached__': r'C:\\Users\\JunHweKim\\Anaconda3\\envs\\py36\\lib\\site-...ges\\__pycache__\\ipykernel_launcher.cpython-36.pyc', '__doc__': 'Entry point for launching an IPython kernel.\\n\\nTh...orts until\\nafter removing the cwd from sys.path.\\n', '__file__': r'C:\\Users\\JunHweKim\\Anaconda3\\envs\\py36\\lib\\site-packages\\ipykernel_launcher.py', '__loader__': <_frozen_importlib_external.SourceFileLoader object>, '__name__': '__main__', '__package__': '', '__spec__': ModuleSpec(name='ipykernel_launcher', loader=<_f...py36\\\\lib\\\\site-packages\\\\ipykernel_launcher.py'), 'app': <module 'ipykernel.kernelapp' from 'C:\\\\Users\\\\J...36\\\\lib\\\\site-packages\\\\ipykernel\\\\kernelapp.py'>, ...}\n     86     return run_globals\n     87 \n     88 def _run_module_code(code, init_globals=None,\n     89                     mod_name=None, mod_spec=None,\n\n...........................................................................\nC:\\Users\\JunHweKim\\Anaconda3\\envs\\py36\\lib\\site-packages\\ipykernel_launcher.py in <module>()\n     11     # This is added back by InteractiveShellApp.init_path()\n     12     if sys.path[0] == '':\n     13         del sys.path[0]\n     14 \n     15     from ipykernel import kernelapp as app\n---> 16     app.launch_new_instance()\n\n...........................................................................\nC:\\Users\\JunHweKim\\Anaconda3\\envs\\py36\\lib\\site-packages\\traitlets\\config\\application.py in launch_instance(cls=<class 'ipykernel.kernelapp.IPKernelApp'>, argv=None, **kwargs={})\n    653 \n    654         If a global instance already exists, this reinitializes and starts it\n    655         \"\"\"\n    656         app = cls.instance(**kwargs)\n    657         app.initialize(argv)\n--> 658         app.start()\n        app.start = <bound method IPKernelApp.start of <ipykernel.kernelapp.IPKernelApp object>>\n    659 \n    660 #-----------------------------------------------------------------------------\n    661 # utility functions, for convenience\n    662 #-----------------------------------------------------------------------------\n\n...........................................................................\nC:\\Users\\JunHweKim\\Anaconda3\\envs\\py36\\lib\\site-packages\\ipykernel\\kernelapp.py in start(self=<ipykernel.kernelapp.IPKernelApp object>)\n    492         if self.poller is not None:\n    493             self.poller.start()\n    494         self.kernel.start()\n    495         self.io_loop = ioloop.IOLoop.current()\n    496         try:\n--> 497             self.io_loop.start()\n        self.io_loop.start = <bound method BaseAsyncIOLoop.start of <tornado.platform.asyncio.AsyncIOMainLoop object>>\n    498         except KeyboardInterrupt:\n    499             pass\n    500 \n    501 launch_new_instance = IPKernelApp.launch_instance\n\n...........................................................................\nC:\\Users\\JunHweKim\\Anaconda3\\envs\\py36\\lib\\site-packages\\tornado\\platform\\asyncio.py in start(self=<tornado.platform.asyncio.AsyncIOMainLoop object>)\n    127         except (RuntimeError, AssertionError):\n    128             old_loop = None\n    129         try:\n    130             self._setup_logging()\n    131             asyncio.set_event_loop(self.asyncio_loop)\n--> 132             self.asyncio_loop.run_forever()\n        self.asyncio_loop.run_forever = <bound method BaseEventLoop.run_forever of <_Win...EventLoop running=True closed=False debug=False>>\n    133         finally:\n    134             asyncio.set_event_loop(old_loop)\n    135 \n    136     def stop(self):\n\n...........................................................................\nC:\\Users\\JunHweKim\\Anaconda3\\envs\\py36\\lib\\asyncio\\base_events.py in run_forever(self=<_WindowsSelectorEventLoop running=True closed=False debug=False>)\n    417             sys.set_asyncgen_hooks(firstiter=self._asyncgen_firstiter_hook,\n    418                                    finalizer=self._asyncgen_finalizer_hook)\n    419         try:\n    420             events._set_running_loop(self)\n    421             while True:\n--> 422                 self._run_once()\n        self._run_once = <bound method BaseEventLoop._run_once of <_Windo...EventLoop running=True closed=False debug=False>>\n    423                 if self._stopping:\n    424                     break\n    425         finally:\n    426             self._stopping = False\n\n...........................................................................\nC:\\Users\\JunHweKim\\Anaconda3\\envs\\py36\\lib\\asyncio\\base_events.py in _run_once(self=<_WindowsSelectorEventLoop running=True closed=False debug=False>)\n   1429                         logger.warning('Executing %s took %.3f seconds',\n   1430                                        _format_handle(handle), dt)\n   1431                 finally:\n   1432                     self._current_handle = None\n   1433             else:\n-> 1434                 handle._run()\n        handle._run = <bound method Handle._run of <Handle BaseAsyncIOLoop._handle_events(1152, 1)>>\n   1435         handle = None  # Needed to break cycles when an exception occurs.\n   1436 \n   1437     def _set_coroutine_wrapper(self, enabled):\n   1438         try:\n\n...........................................................................\nC:\\Users\\JunHweKim\\Anaconda3\\envs\\py36\\lib\\asyncio\\events.py in _run(self=<Handle BaseAsyncIOLoop._handle_events(1152, 1)>)\n    140             self._callback = None\n    141             self._args = None\n    142 \n    143     def _run(self):\n    144         try:\n--> 145             self._callback(*self._args)\n        self._callback = <bound method BaseAsyncIOLoop._handle_events of <tornado.platform.asyncio.AsyncIOMainLoop object>>\n        self._args = (1152, 1)\n    146         except Exception as exc:\n    147             cb = _format_callback_source(self._callback, self._args)\n    148             msg = 'Exception in callback {}'.format(cb)\n    149             context = {\n\n...........................................................................\nC:\\Users\\JunHweKim\\Anaconda3\\envs\\py36\\lib\\site-packages\\tornado\\platform\\asyncio.py in _handle_events(self=<tornado.platform.asyncio.AsyncIOMainLoop object>, fd=1152, events=1)\n    117             self.writers.remove(fd)\n    118         del self.handlers[fd]\n    119 \n    120     def _handle_events(self, fd, events):\n    121         fileobj, handler_func = self.handlers[fd]\n--> 122         handler_func(fileobj, events)\n        handler_func = <function wrap.<locals>.null_wrapper>\n        fileobj = <zmq.sugar.socket.Socket object>\n        events = 1\n    123 \n    124     def start(self):\n    125         try:\n    126             old_loop = asyncio.get_event_loop()\n\n...........................................................................\nC:\\Users\\JunHweKim\\Anaconda3\\envs\\py36\\lib\\site-packages\\tornado\\stack_context.py in null_wrapper(*args=(<zmq.sugar.socket.Socket object>, 1), **kwargs={})\n    295         # Fast path when there are no active contexts.\n    296         def null_wrapper(*args, **kwargs):\n    297             try:\n    298                 current_state = _state.contexts\n    299                 _state.contexts = cap_contexts[0]\n--> 300                 return fn(*args, **kwargs)\n        args = (<zmq.sugar.socket.Socket object>, 1)\n        kwargs = {}\n    301             finally:\n    302                 _state.contexts = current_state\n    303         null_wrapper._wrapped = True\n    304         return null_wrapper\n\n...........................................................................\nC:\\Users\\JunHweKim\\Anaconda3\\envs\\py36\\lib\\site-packages\\zmq\\eventloop\\zmqstream.py in _handle_events(self=<zmq.eventloop.zmqstream.ZMQStream object>, fd=<zmq.sugar.socket.Socket object>, events=1)\n    445             return\n    446         zmq_events = self.socket.EVENTS\n    447         try:\n    448             # dispatch events:\n    449             if zmq_events & zmq.POLLIN and self.receiving():\n--> 450                 self._handle_recv()\n        self._handle_recv = <bound method ZMQStream._handle_recv of <zmq.eventloop.zmqstream.ZMQStream object>>\n    451                 if not self.socket:\n    452                     return\n    453             if zmq_events & zmq.POLLOUT and self.sending():\n    454                 self._handle_send()\n\n...........................................................................\nC:\\Users\\JunHweKim\\Anaconda3\\envs\\py36\\lib\\site-packages\\zmq\\eventloop\\zmqstream.py in _handle_recv(self=<zmq.eventloop.zmqstream.ZMQStream object>)\n    475             else:\n    476                 raise\n    477         else:\n    478             if self._recv_callback:\n    479                 callback = self._recv_callback\n--> 480                 self._run_callback(callback, msg)\n        self._run_callback = <bound method ZMQStream._run_callback of <zmq.eventloop.zmqstream.ZMQStream object>>\n        callback = <function wrap.<locals>.null_wrapper>\n        msg = [<zmq.sugar.frame.Frame object>, <zmq.sugar.frame.Frame object>, <zmq.sugar.frame.Frame object>, <zmq.sugar.frame.Frame object>, <zmq.sugar.frame.Frame object>, <zmq.sugar.frame.Frame object>, <zmq.sugar.frame.Frame object>]\n    481         \n    482 \n    483     def _handle_send(self):\n    484         \"\"\"Handle a send event.\"\"\"\n\n...........................................................................\nC:\\Users\\JunHweKim\\Anaconda3\\envs\\py36\\lib\\site-packages\\zmq\\eventloop\\zmqstream.py in _run_callback(self=<zmq.eventloop.zmqstream.ZMQStream object>, callback=<function wrap.<locals>.null_wrapper>, *args=([<zmq.sugar.frame.Frame object>, <zmq.sugar.frame.Frame object>, <zmq.sugar.frame.Frame object>, <zmq.sugar.frame.Frame object>, <zmq.sugar.frame.Frame object>, <zmq.sugar.frame.Frame object>, <zmq.sugar.frame.Frame object>],), **kwargs={})\n    427         close our socket.\"\"\"\n    428         try:\n    429             # Use a NullContext to ensure that all StackContexts are run\n    430             # inside our blanket exception handler rather than outside.\n    431             with stack_context.NullContext():\n--> 432                 callback(*args, **kwargs)\n        callback = <function wrap.<locals>.null_wrapper>\n        args = ([<zmq.sugar.frame.Frame object>, <zmq.sugar.frame.Frame object>, <zmq.sugar.frame.Frame object>, <zmq.sugar.frame.Frame object>, <zmq.sugar.frame.Frame object>, <zmq.sugar.frame.Frame object>, <zmq.sugar.frame.Frame object>],)\n        kwargs = {}\n    433         except:\n    434             gen_log.error(\"Uncaught exception in ZMQStream callback\",\n    435                           exc_info=True)\n    436             # Re-raise the exception so that IOLoop.handle_callback_exception\n\n...........................................................................\nC:\\Users\\JunHweKim\\Anaconda3\\envs\\py36\\lib\\site-packages\\tornado\\stack_context.py in null_wrapper(*args=([<zmq.sugar.frame.Frame object>, <zmq.sugar.frame.Frame object>, <zmq.sugar.frame.Frame object>, <zmq.sugar.frame.Frame object>, <zmq.sugar.frame.Frame object>, <zmq.sugar.frame.Frame object>, <zmq.sugar.frame.Frame object>],), **kwargs={})\n    295         # Fast path when there are no active contexts.\n    296         def null_wrapper(*args, **kwargs):\n    297             try:\n    298                 current_state = _state.contexts\n    299                 _state.contexts = cap_contexts[0]\n--> 300                 return fn(*args, **kwargs)\n        args = ([<zmq.sugar.frame.Frame object>, <zmq.sugar.frame.Frame object>, <zmq.sugar.frame.Frame object>, <zmq.sugar.frame.Frame object>, <zmq.sugar.frame.Frame object>, <zmq.sugar.frame.Frame object>, <zmq.sugar.frame.Frame object>],)\n        kwargs = {}\n    301             finally:\n    302                 _state.contexts = current_state\n    303         null_wrapper._wrapped = True\n    304         return null_wrapper\n\n...........................................................................\nC:\\Users\\JunHweKim\\Anaconda3\\envs\\py36\\lib\\site-packages\\ipykernel\\kernelbase.py in dispatcher(msg=[<zmq.sugar.frame.Frame object>, <zmq.sugar.frame.Frame object>, <zmq.sugar.frame.Frame object>, <zmq.sugar.frame.Frame object>, <zmq.sugar.frame.Frame object>, <zmq.sugar.frame.Frame object>, <zmq.sugar.frame.Frame object>])\n    278         if self.control_stream:\n    279             self.control_stream.on_recv(self.dispatch_control, copy=False)\n    280 \n    281         def make_dispatcher(stream):\n    282             def dispatcher(msg):\n--> 283                 return self.dispatch_shell(stream, msg)\n        msg = [<zmq.sugar.frame.Frame object>, <zmq.sugar.frame.Frame object>, <zmq.sugar.frame.Frame object>, <zmq.sugar.frame.Frame object>, <zmq.sugar.frame.Frame object>, <zmq.sugar.frame.Frame object>, <zmq.sugar.frame.Frame object>]\n    284             return dispatcher\n    285 \n    286         for s in self.shell_streams:\n    287             s.on_recv(make_dispatcher(s), copy=False)\n\n...........................................................................\nC:\\Users\\JunHweKim\\Anaconda3\\envs\\py36\\lib\\site-packages\\ipykernel\\kernelbase.py in dispatch_shell(self=<ipykernel.ipkernel.IPythonKernel object>, stream=<zmq.eventloop.zmqstream.ZMQStream object>, msg={'buffers': [], 'content': {'allow_stdin': True, 'code': '%%time\\nregr.fit(train_x, train_y)', 'silent': False, 'stop_on_error': True, 'store_history': True, 'user_expressions': {}}, 'header': {'date': datetime.datetime(2018, 11, 22, 10, 39, 47, 135230, tzinfo=tzutc()), 'msg_id': 'dfe8cc7018bf44938399aad0f6e45abc', 'msg_type': 'execute_request', 'session': '7f3085c0b75b4dba86ace1713247eae6', 'username': 'username', 'version': '5.2'}, 'metadata': {}, 'msg_id': 'dfe8cc7018bf44938399aad0f6e45abc', 'msg_type': 'execute_request', 'parent_header': {}})\n    228             self.log.warning(\"Unknown message type: %r\", msg_type)\n    229         else:\n    230             self.log.debug(\"%s: %s\", msg_type, msg)\n    231             self.pre_handler_hook()\n    232             try:\n--> 233                 handler(stream, idents, msg)\n        handler = <bound method Kernel.execute_request of <ipykernel.ipkernel.IPythonKernel object>>\n        stream = <zmq.eventloop.zmqstream.ZMQStream object>\n        idents = [b'7f3085c0b75b4dba86ace1713247eae6']\n        msg = {'buffers': [], 'content': {'allow_stdin': True, 'code': '%%time\\nregr.fit(train_x, train_y)', 'silent': False, 'stop_on_error': True, 'store_history': True, 'user_expressions': {}}, 'header': {'date': datetime.datetime(2018, 11, 22, 10, 39, 47, 135230, tzinfo=tzutc()), 'msg_id': 'dfe8cc7018bf44938399aad0f6e45abc', 'msg_type': 'execute_request', 'session': '7f3085c0b75b4dba86ace1713247eae6', 'username': 'username', 'version': '5.2'}, 'metadata': {}, 'msg_id': 'dfe8cc7018bf44938399aad0f6e45abc', 'msg_type': 'execute_request', 'parent_header': {}}\n    234             except Exception:\n    235                 self.log.error(\"Exception in message handler:\", exc_info=True)\n    236             finally:\n    237                 self.post_handler_hook()\n\n...........................................................................\nC:\\Users\\JunHweKim\\Anaconda3\\envs\\py36\\lib\\site-packages\\ipykernel\\kernelbase.py in execute_request(self=<ipykernel.ipkernel.IPythonKernel object>, stream=<zmq.eventloop.zmqstream.ZMQStream object>, ident=[b'7f3085c0b75b4dba86ace1713247eae6'], parent={'buffers': [], 'content': {'allow_stdin': True, 'code': '%%time\\nregr.fit(train_x, train_y)', 'silent': False, 'stop_on_error': True, 'store_history': True, 'user_expressions': {}}, 'header': {'date': datetime.datetime(2018, 11, 22, 10, 39, 47, 135230, tzinfo=tzutc()), 'msg_id': 'dfe8cc7018bf44938399aad0f6e45abc', 'msg_type': 'execute_request', 'session': '7f3085c0b75b4dba86ace1713247eae6', 'username': 'username', 'version': '5.2'}, 'metadata': {}, 'msg_id': 'dfe8cc7018bf44938399aad0f6e45abc', 'msg_type': 'execute_request', 'parent_header': {}})\n    394         if not silent:\n    395             self.execution_count += 1\n    396             self._publish_execute_input(code, parent, self.execution_count)\n    397 \n    398         reply_content = self.do_execute(code, silent, store_history,\n--> 399                                         user_expressions, allow_stdin)\n        user_expressions = {}\n        allow_stdin = True\n    400 \n    401         # Flush output before sending the reply.\n    402         sys.stdout.flush()\n    403         sys.stderr.flush()\n\n...........................................................................\nC:\\Users\\JunHweKim\\Anaconda3\\envs\\py36\\lib\\site-packages\\ipykernel\\ipkernel.py in do_execute(self=<ipykernel.ipkernel.IPythonKernel object>, code='%%time\\nregr.fit(train_x, train_y)', silent=False, store_history=True, user_expressions={}, allow_stdin=True)\n    203 \n    204         self._forward_input(allow_stdin)\n    205 \n    206         reply_content = {}\n    207         try:\n--> 208             res = shell.run_cell(code, store_history=store_history, silent=silent)\n        res = undefined\n        shell.run_cell = <bound method ZMQInteractiveShell.run_cell of <ipykernel.zmqshell.ZMQInteractiveShell object>>\n        code = '%%time\\nregr.fit(train_x, train_y)'\n        store_history = True\n        silent = False\n    209         finally:\n    210             self._restore_input()\n    211 \n    212         if res.error_before_exec is not None:\n\n...........................................................................\nC:\\Users\\JunHweKim\\Anaconda3\\envs\\py36\\lib\\site-packages\\ipykernel\\zmqshell.py in run_cell(self=<ipykernel.zmqshell.ZMQInteractiveShell object>, *args=('%%time\\nregr.fit(train_x, train_y)',), **kwargs={'silent': False, 'store_history': True})\n    532             )\n    533         self.payload_manager.write_payload(payload)\n    534 \n    535     def run_cell(self, *args, **kwargs):\n    536         self._last_traceback = None\n--> 537         return super(ZMQInteractiveShell, self).run_cell(*args, **kwargs)\n        self.run_cell = <bound method ZMQInteractiveShell.run_cell of <ipykernel.zmqshell.ZMQInteractiveShell object>>\n        args = ('%%time\\nregr.fit(train_x, train_y)',)\n        kwargs = {'silent': False, 'store_history': True}\n    538 \n    539     def _showtraceback(self, etype, evalue, stb):\n    540         # try to preserve ordering of tracebacks and print statements\n    541         sys.stdout.flush()\n\n...........................................................................\nC:\\Users\\JunHweKim\\Anaconda3\\envs\\py36\\lib\\site-packages\\IPython\\core\\interactiveshell.py in run_cell(self=<ipykernel.zmqshell.ZMQInteractiveShell object>, raw_cell='%%time\\nregr.fit(train_x, train_y)', store_history=True, silent=False, shell_futures=True)\n   2657         -------\n   2658         result : :class:`ExecutionResult`\n   2659         \"\"\"\n   2660         try:\n   2661             result = self._run_cell(\n-> 2662                 raw_cell, store_history, silent, shell_futures)\n        raw_cell = '%%time\\nregr.fit(train_x, train_y)'\n        store_history = True\n        silent = False\n        shell_futures = True\n   2663         finally:\n   2664             self.events.trigger('post_execute')\n   2665             if not silent:\n   2666                 self.events.trigger('post_run_cell', result)\n\n...........................................................................\nC:\\Users\\JunHweKim\\Anaconda3\\envs\\py36\\lib\\site-packages\\IPython\\core\\interactiveshell.py in _run_cell(self=<ipykernel.zmqshell.ZMQInteractiveShell object>, raw_cell='%%time\\nregr.fit(train_x, train_y)', store_history=True, silent=False, shell_futures=True)\n   2780                 self.displayhook.exec_result = result\n   2781 \n   2782                 # Execute the user code\n   2783                 interactivity = 'none' if silent else self.ast_node_interactivity\n   2784                 has_raised = self.run_ast_nodes(code_ast.body, cell_name,\n-> 2785                    interactivity=interactivity, compiler=compiler, result=result)\n        interactivity = 'last_expr'\n        compiler = <IPython.core.compilerop.CachingCompiler object>\n   2786                 \n   2787                 self.last_execution_succeeded = not has_raised\n   2788                 self.last_execution_result = result\n   2789 \n\n...........................................................................\nC:\\Users\\JunHweKim\\Anaconda3\\envs\\py36\\lib\\site-packages\\IPython\\core\\interactiveshell.py in run_ast_nodes(self=<ipykernel.zmqshell.ZMQInteractiveShell object>, nodelist=[<_ast.Expr object>], cell_name='<ipython-input-29-613d76f1db56>', interactivity='last', compiler=<IPython.core.compilerop.CachingCompiler object>, result=<ExecutionResult object at 17005b6ca90, executio...rue silent=False shell_futures=True> result=None>)\n   2902                     return True\n   2903 \n   2904             for i, node in enumerate(to_run_interactive):\n   2905                 mod = ast.Interactive([node])\n   2906                 code = compiler(mod, cell_name, \"single\")\n-> 2907                 if self.run_code(code, result):\n        self.run_code = <bound method InteractiveShell.run_code of <ipykernel.zmqshell.ZMQInteractiveShell object>>\n        code = <code object <module> at 0x000001707D54C780, file \"<ipython-input-29-613d76f1db56>\", line 1>\n        result = <ExecutionResult object at 17005b6ca90, executio...rue silent=False shell_futures=True> result=None>\n   2908                     return True\n   2909 \n   2910             # Flush softspace\n   2911             if softspace(sys.stdout, 0):\n\n...........................................................................\nC:\\Users\\JunHweKim\\Anaconda3\\envs\\py36\\lib\\site-packages\\IPython\\core\\interactiveshell.py in run_code(self=<ipykernel.zmqshell.ZMQInteractiveShell object>, code_obj=<code object <module> at 0x000001707D54C780, file \"<ipython-input-29-613d76f1db56>\", line 1>, result=<ExecutionResult object at 17005b6ca90, executio...rue silent=False shell_futures=True> result=None>)\n   2956         outflag = True  # happens in more places, so it's easier as default\n   2957         try:\n   2958             try:\n   2959                 self.hooks.pre_run_code_hook()\n   2960                 #rprint('Running code', repr(code_obj)) # dbg\n-> 2961                 exec(code_obj, self.user_global_ns, self.user_ns)\n        code_obj = <code object <module> at 0x000001707D54C780, file \"<ipython-input-29-613d76f1db56>\", line 1>\n        self.user_global_ns = {'In': ['', \"raw_data = pd.read_csv('./data/final4/final4_sol...\\t\\t\\t\\t'winPlacePerc': 'float32'\\n\\n                })\", 'raw_data.describe()', \"#data = raw_data[raw_data['matchType']==1]\\ndata = raw_data.copy()\", \"slic_data = data.copy()\\n#headshotfills & headsho...groupId', 'matchType'], axis=1)\\nslic_data.head(1)\", 'import tensorflow as tf\\nimport numpy as np\\nimpor...warnings(\"ignore\")\\nfrom tqdm import tqdm_notebook', \"# dataframe display 옵션\\npd.set_option('display.ma...lumns' , 30)\\npd.set_option('display.width', None)\", \"raw_data = pd.read_csv('./data/final4/final4_sol...\\t\\t\\t\\t'winPlacePerc': 'float32'\\n\\n                })\", 'raw_data.describe()', \"#data = raw_data[raw_data['matchType']==1]\\ndata = raw_data.copy()\", \"slic_data = data.copy()\\n#headshotfills & headsho...groupId', 'matchType'], axis=1)\\nslic_data.head(1)\", 'train_df, test_df = train_test_split(slic_data, ...shape, test_x.shape, train_y.shape, test_y.shape)', 'train_df.dropna(inplace = True)\\nprint(train_df.i...place = True)\\nprint(test_df.isnull().any().any())', 'regr = RandomForestRegressor(n_estimators=80, mi...정\\n# n_jobs : 성능 관련 파라미터(-1: using all processors)', \"get_ipython().run_cell_magic('time', '', 'regr.fit(train_x, train_y)')\", \"print('mae train: ', mean_absolute_error(regr.pr...ean_absolute_error(regr.predict(test_x), test_y))\", 'regr = RandomForestRegressor(n_estimators=80, mi...정\\n# n_jobs : 성능 관련 파라미터(-1: using all processors)', \"get_ipython().run_cell_magic('time', '', 'regr.fit(train_x, train_y)')\", \"print('mae train: ', mean_absolute_error(regr.pr...ean_absolute_error(regr.predict(test_x), test_y))\", 'regr = RandomForestRegressor(n_estimators=100, m...정\\n# n_jobs : 성능 관련 파라미터(-1: using all processors)', ...], 'Out': {8:        matchType   assists_mean    boosts_mean  ...4.600000               14.500000       1.000000  , 10:    assists_mean  boosts_mean  headshotKills_mean...      0.0   \n\n   winPlacePerc  \n0        0.1875  , 14: RandomForestRegressor(bootstrap=True, criterion=..., random_state=None, verbose=0, warm_start=False), 17: RandomForestRegressor(bootstrap=True, criterion=..., random_state=None, verbose=0, warm_start=False), 20: RandomForestRegressor(bootstrap=True, criterion=..., random_state=None, verbose=0, warm_start=False), 23: RandomForestRegressor(bootstrap=True, criterion=..., random_state=None, verbose=0, warm_start=False), 26: RandomForestRegressor(bootstrap=True, criterion=..., random_state=None, verbose=0, warm_start=False)}, 'RandomForestRegressor': <class 'sklearn.ensemble.forest.RandomForestRegressor'>, '_': RandomForestRegressor(bootstrap=True, criterion=..., random_state=None, verbose=0, warm_start=False), '_10':    assists_mean  boosts_mean  headshotKills_mean...      0.0   \n\n   winPlacePerc  \n0        0.1875  , '_14': RandomForestRegressor(bootstrap=True, criterion=..., random_state=None, verbose=0, warm_start=False), '_17': RandomForestRegressor(bootstrap=True, criterion=..., random_state=None, verbose=0, warm_start=False), '_20': RandomForestRegressor(bootstrap=True, criterion=..., random_state=None, verbose=0, warm_start=False), '_23': RandomForestRegressor(bootstrap=True, criterion=..., random_state=None, verbose=0, warm_start=False), '_26': RandomForestRegressor(bootstrap=True, criterion=..., random_state=None, verbose=0, warm_start=False), ...}\n        self.user_ns = {'In': ['', \"raw_data = pd.read_csv('./data/final4/final4_sol...\\t\\t\\t\\t'winPlacePerc': 'float32'\\n\\n                })\", 'raw_data.describe()', \"#data = raw_data[raw_data['matchType']==1]\\ndata = raw_data.copy()\", \"slic_data = data.copy()\\n#headshotfills & headsho...groupId', 'matchType'], axis=1)\\nslic_data.head(1)\", 'import tensorflow as tf\\nimport numpy as np\\nimpor...warnings(\"ignore\")\\nfrom tqdm import tqdm_notebook', \"# dataframe display 옵션\\npd.set_option('display.ma...lumns' , 30)\\npd.set_option('display.width', None)\", \"raw_data = pd.read_csv('./data/final4/final4_sol...\\t\\t\\t\\t'winPlacePerc': 'float32'\\n\\n                })\", 'raw_data.describe()', \"#data = raw_data[raw_data['matchType']==1]\\ndata = raw_data.copy()\", \"slic_data = data.copy()\\n#headshotfills & headsho...groupId', 'matchType'], axis=1)\\nslic_data.head(1)\", 'train_df, test_df = train_test_split(slic_data, ...shape, test_x.shape, train_y.shape, test_y.shape)', 'train_df.dropna(inplace = True)\\nprint(train_df.i...place = True)\\nprint(test_df.isnull().any().any())', 'regr = RandomForestRegressor(n_estimators=80, mi...정\\n# n_jobs : 성능 관련 파라미터(-1: using all processors)', \"get_ipython().run_cell_magic('time', '', 'regr.fit(train_x, train_y)')\", \"print('mae train: ', mean_absolute_error(regr.pr...ean_absolute_error(regr.predict(test_x), test_y))\", 'regr = RandomForestRegressor(n_estimators=80, mi...정\\n# n_jobs : 성능 관련 파라미터(-1: using all processors)', \"get_ipython().run_cell_magic('time', '', 'regr.fit(train_x, train_y)')\", \"print('mae train: ', mean_absolute_error(regr.pr...ean_absolute_error(regr.predict(test_x), test_y))\", 'regr = RandomForestRegressor(n_estimators=100, m...정\\n# n_jobs : 성능 관련 파라미터(-1: using all processors)', ...], 'Out': {8:        matchType   assists_mean    boosts_mean  ...4.600000               14.500000       1.000000  , 10:    assists_mean  boosts_mean  headshotKills_mean...      0.0   \n\n   winPlacePerc  \n0        0.1875  , 14: RandomForestRegressor(bootstrap=True, criterion=..., random_state=None, verbose=0, warm_start=False), 17: RandomForestRegressor(bootstrap=True, criterion=..., random_state=None, verbose=0, warm_start=False), 20: RandomForestRegressor(bootstrap=True, criterion=..., random_state=None, verbose=0, warm_start=False), 23: RandomForestRegressor(bootstrap=True, criterion=..., random_state=None, verbose=0, warm_start=False), 26: RandomForestRegressor(bootstrap=True, criterion=..., random_state=None, verbose=0, warm_start=False)}, 'RandomForestRegressor': <class 'sklearn.ensemble.forest.RandomForestRegressor'>, '_': RandomForestRegressor(bootstrap=True, criterion=..., random_state=None, verbose=0, warm_start=False), '_10':    assists_mean  boosts_mean  headshotKills_mean...      0.0   \n\n   winPlacePerc  \n0        0.1875  , '_14': RandomForestRegressor(bootstrap=True, criterion=..., random_state=None, verbose=0, warm_start=False), '_17': RandomForestRegressor(bootstrap=True, criterion=..., random_state=None, verbose=0, warm_start=False), '_20': RandomForestRegressor(bootstrap=True, criterion=..., random_state=None, verbose=0, warm_start=False), '_23': RandomForestRegressor(bootstrap=True, criterion=..., random_state=None, verbose=0, warm_start=False), '_26': RandomForestRegressor(bootstrap=True, criterion=..., random_state=None, verbose=0, warm_start=False), ...}\n   2962             finally:\n   2963                 # Reset our crash handler in place\n   2964                 sys.excepthook = old_excepthook\n   2965         except SystemExit as e:\n\n...........................................................................\nC:\\Users\\JunHweKim\\PUBG\\<ipython-input-29-613d76f1db56> in <module>()\n----> 1 get_ipython().run_cell_magic('time', '', 'regr.fit(train_x, train_y)')\n\n...........................................................................\nC:\\Users\\JunHweKim\\Anaconda3\\envs\\py36\\lib\\site-packages\\IPython\\core\\interactiveshell.py in run_cell_magic(self=<ipykernel.zmqshell.ZMQInteractiveShell object>, magic_name='time', line='', cell='regr.fit(train_x, train_y)')\n   2162             # This will need to be updated if the internal calling logic gets\n   2163             # refactored, or else we'll be expanding the wrong variables.\n   2164             stack_depth = 2\n   2165             magic_arg_s = self.var_expand(line, stack_depth)\n   2166             with self.builtin_trap:\n-> 2167                 result = fn(magic_arg_s, cell)\n        result = undefined\n        fn = <bound method ExecutionMagics.time of <IPython.core.magics.execution.ExecutionMagics object>>\n        magic_arg_s = ''\n        cell = 'regr.fit(train_x, train_y)'\n   2168             return result\n   2169 \n   2170     def find_line_magic(self, magic_name):\n   2171         \"\"\"Find and return a line magic by name.\n\n...........................................................................\nC:\\Users\\JunHweKim\\PUBG\\<decorator-gen-63> in time(self=<IPython.core.magics.execution.ExecutionMagics object>, line='', cell='regr.fit(train_x, train_y)', local_ns=None)\n\n...........................................................................\nC:\\Users\\JunHweKim\\Anaconda3\\envs\\py36\\lib\\site-packages\\IPython\\core\\magic.py in <lambda>(f=<function ExecutionMagics.time>, *a=(<IPython.core.magics.execution.ExecutionMagics object>, '', 'regr.fit(train_x, train_y)', None), **k={})\n    182     validate_type(magic_kind)\n    183 \n    184     # This is a closure to capture the magic_kind.  We could also use a class,\n    185     # but it's overkill for just that one bit of state.\n    186     def magic_deco(arg):\n--> 187         call = lambda f, *a, **k: f(*a, **k)\n        f = <function ExecutionMagics.time>\n        a = (<IPython.core.magics.execution.ExecutionMagics object>, '', 'regr.fit(train_x, train_y)', None)\n        k = {}\n    188 \n    189         if callable(arg):\n    190             # \"Naked\" decorator call (just @foo, no args)\n    191             func = arg\n\n...........................................................................\nC:\\Users\\JunHweKim\\Anaconda3\\envs\\py36\\lib\\site-packages\\IPython\\core\\magics\\execution.py in time(self=<IPython.core.magics.execution.ExecutionMagics object>, line='', cell='regr.fit(train_x, train_y)', local_ns=None)\n   1224         # time execution\n   1225         wall_st = wtime()\n   1226         if mode=='eval':\n   1227             st = clock2()\n   1228             try:\n-> 1229                 out = eval(code, glob, local_ns)\n        out = undefined\n        code = <code object <module> at 0x0000017005B47DB0, file \"<timed eval>\", line 1>\n        glob = {'In': ['', \"raw_data = pd.read_csv('./data/final4/final4_sol...\\t\\t\\t\\t'winPlacePerc': 'float32'\\n\\n                })\", 'raw_data.describe()', \"#data = raw_data[raw_data['matchType']==1]\\ndata = raw_data.copy()\", \"slic_data = data.copy()\\n#headshotfills & headsho...groupId', 'matchType'], axis=1)\\nslic_data.head(1)\", 'import tensorflow as tf\\nimport numpy as np\\nimpor...warnings(\"ignore\")\\nfrom tqdm import tqdm_notebook', \"# dataframe display 옵션\\npd.set_option('display.ma...lumns' , 30)\\npd.set_option('display.width', None)\", \"raw_data = pd.read_csv('./data/final4/final4_sol...\\t\\t\\t\\t'winPlacePerc': 'float32'\\n\\n                })\", 'raw_data.describe()', \"#data = raw_data[raw_data['matchType']==1]\\ndata = raw_data.copy()\", \"slic_data = data.copy()\\n#headshotfills & headsho...groupId', 'matchType'], axis=1)\\nslic_data.head(1)\", 'train_df, test_df = train_test_split(slic_data, ...shape, test_x.shape, train_y.shape, test_y.shape)', 'train_df.dropna(inplace = True)\\nprint(train_df.i...place = True)\\nprint(test_df.isnull().any().any())', 'regr = RandomForestRegressor(n_estimators=80, mi...정\\n# n_jobs : 성능 관련 파라미터(-1: using all processors)', \"get_ipython().run_cell_magic('time', '', 'regr.fit(train_x, train_y)')\", \"print('mae train: ', mean_absolute_error(regr.pr...ean_absolute_error(regr.predict(test_x), test_y))\", 'regr = RandomForestRegressor(n_estimators=80, mi...정\\n# n_jobs : 성능 관련 파라미터(-1: using all processors)', \"get_ipython().run_cell_magic('time', '', 'regr.fit(train_x, train_y)')\", \"print('mae train: ', mean_absolute_error(regr.pr...ean_absolute_error(regr.predict(test_x), test_y))\", 'regr = RandomForestRegressor(n_estimators=100, m...정\\n# n_jobs : 성능 관련 파라미터(-1: using all processors)', ...], 'Out': {8:        matchType   assists_mean    boosts_mean  ...4.600000               14.500000       1.000000  , 10:    assists_mean  boosts_mean  headshotKills_mean...      0.0   \n\n   winPlacePerc  \n0        0.1875  , 14: RandomForestRegressor(bootstrap=True, criterion=..., random_state=None, verbose=0, warm_start=False), 17: RandomForestRegressor(bootstrap=True, criterion=..., random_state=None, verbose=0, warm_start=False), 20: RandomForestRegressor(bootstrap=True, criterion=..., random_state=None, verbose=0, warm_start=False), 23: RandomForestRegressor(bootstrap=True, criterion=..., random_state=None, verbose=0, warm_start=False), 26: RandomForestRegressor(bootstrap=True, criterion=..., random_state=None, verbose=0, warm_start=False)}, 'RandomForestRegressor': <class 'sklearn.ensemble.forest.RandomForestRegressor'>, '_': RandomForestRegressor(bootstrap=True, criterion=..., random_state=None, verbose=0, warm_start=False), '_10':    assists_mean  boosts_mean  headshotKills_mean...      0.0   \n\n   winPlacePerc  \n0        0.1875  , '_14': RandomForestRegressor(bootstrap=True, criterion=..., random_state=None, verbose=0, warm_start=False), '_17': RandomForestRegressor(bootstrap=True, criterion=..., random_state=None, verbose=0, warm_start=False), '_20': RandomForestRegressor(bootstrap=True, criterion=..., random_state=None, verbose=0, warm_start=False), '_23': RandomForestRegressor(bootstrap=True, criterion=..., random_state=None, verbose=0, warm_start=False), '_26': RandomForestRegressor(bootstrap=True, criterion=..., random_state=None, verbose=0, warm_start=False), ...}\n        local_ns = None\n   1230             except:\n   1231                 self.shell.showtraceback()\n   1232                 return\n   1233             end = clock2()\n\n...........................................................................\nC:\\Users\\JunHweKim\\PUBG\\<timed eval> in <module>()\n\n...........................................................................\nC:\\Users\\JunHweKim\\Anaconda3\\envs\\py36\\lib\\site-packages\\sklearn\\ensemble\\forest.py in fit(self=RandomForestRegressor(bootstrap=True, criterion=..., random_state=None, verbose=0, warm_start=False), X=array([[0.        , 5.        , 0.        , ...,... 0.5882353 ,\n        0.        ]], dtype=float32), y=array([[0.9896    ],\n       [0.50559998],\n      ...9999],\n       [0.81910002],\n       [0.29789999]]), sample_weight=None)\n    323             trees = Parallel(n_jobs=self.n_jobs, verbose=self.verbose,\n    324                              backend=\"threading\")(\n    325                 delayed(_parallel_build_trees)(\n    326                     t, self, X, y, sample_weight, i, len(trees),\n    327                     verbose=self.verbose, class_weight=self.class_weight)\n--> 328                 for i, t in enumerate(trees))\n        i = 99\n    329 \n    330             # Collect newly grown trees\n    331             self.estimators_.extend(trees)\n    332 \n\n...........................................................................\nC:\\Users\\JunHweKim\\Anaconda3\\envs\\py36\\lib\\site-packages\\sklearn\\externals\\joblib\\parallel.py in __call__(self=Parallel(n_jobs=-1), iterable=<generator object BaseForest.fit.<locals>.<genexpr>>)\n    784             if pre_dispatch == \"all\" or n_jobs == 1:\n    785                 # The iterable was consumed all at once by the above for loop.\n    786                 # No need to wait for async callbacks to trigger to\n    787                 # consumption.\n    788                 self._iterating = False\n--> 789             self.retrieve()\n        self.retrieve = <bound method Parallel.retrieve of Parallel(n_jobs=-1)>\n    790             # Make sure that we get a last message telling us we are done\n    791             elapsed_time = time.time() - self._start_time\n    792             self._print('Done %3i out of %3i | elapsed: %s finished',\n    793                         (len(self._output), len(self._output),\n\n---------------------------------------------------------------------------\nSub-process traceback:\n---------------------------------------------------------------------------\nMemoryError                                        Thu Nov 22 19:41:39 2018\nPID: 15684  Python 3.6.6: C:\\Users\\JunHweKim\\Anaconda3\\envs\\py36\\python.exe\n...........................................................................\nC:\\Users\\JunHweKim\\Anaconda3\\envs\\py36\\lib\\site-packages\\sklearn\\externals\\joblib\\parallel.py in __call__(self=<sklearn.externals.joblib.parallel.BatchedCalls object>)\n    126     def __init__(self, iterator_slice):\n    127         self.items = list(iterator_slice)\n    128         self._size = len(self.items)\n    129 \n    130     def __call__(self):\n--> 131         return [func(*args, **kwargs) for func, args, kwargs in self.items]\n        self.items = [(<function _parallel_build_trees>, (DecisionTreeRegressor(criterion='mse', max_depth...t=False, random_state=638324832, splitter='best'), RandomForestRegressor(bootstrap=True, criterion=..., random_state=None, verbose=0, warm_start=False), array([[0.        , 5.        , 0.        , ...,... 0.5882353 ,\n        0.        ]], dtype=float32), array([[0.9896    ],\n       [0.50559998],\n      ...9999],\n       [0.81910002],\n       [0.29789999]]), None, 98, 100), {'class_weight': None, 'verbose': 0})]\n    132 \n    133     def __len__(self):\n    134         return self._size\n    135 \n\n...........................................................................\nC:\\Users\\JunHweKim\\Anaconda3\\envs\\py36\\lib\\site-packages\\sklearn\\externals\\joblib\\parallel.py in <listcomp>(.0=<list_iterator object>)\n    126     def __init__(self, iterator_slice):\n    127         self.items = list(iterator_slice)\n    128         self._size = len(self.items)\n    129 \n    130     def __call__(self):\n--> 131         return [func(*args, **kwargs) for func, args, kwargs in self.items]\n        func = <function _parallel_build_trees>\n        args = (DecisionTreeRegressor(criterion='mse', max_depth...t=False, random_state=638324832, splitter='best'), RandomForestRegressor(bootstrap=True, criterion=..., random_state=None, verbose=0, warm_start=False), array([[0.        , 5.        , 0.        , ...,... 0.5882353 ,\n        0.        ]], dtype=float32), array([[0.9896    ],\n       [0.50559998],\n      ...9999],\n       [0.81910002],\n       [0.29789999]]), None, 98, 100)\n        kwargs = {'class_weight': None, 'verbose': 0}\n    132 \n    133     def __len__(self):\n    134         return self._size\n    135 \n\n...........................................................................\nC:\\Users\\JunHweKim\\Anaconda3\\envs\\py36\\lib\\site-packages\\sklearn\\ensemble\\forest.py in _parallel_build_trees(tree=DecisionTreeRegressor(criterion='mse', max_depth...t=False, random_state=638324832, splitter='best'), forest=RandomForestRegressor(bootstrap=True, criterion=..., random_state=None, verbose=0, warm_start=False), X=array([[0.        , 5.        , 0.        , ...,... 0.5882353 ,\n        0.        ]], dtype=float32), y=array([[0.9896    ],\n       [0.50559998],\n      ...9999],\n       [0.81910002],\n       [0.29789999]]), sample_weight=None, tree_idx=98, n_trees=100, verbose=0, class_weight=None)\n    116                 warnings.simplefilter('ignore', DeprecationWarning)\n    117                 curr_sample_weight *= compute_sample_weight('auto', y, indices)\n    118         elif class_weight == 'balanced_subsample':\n    119             curr_sample_weight *= compute_sample_weight('balanced', y, indices)\n    120 \n--> 121         tree.fit(X, y, sample_weight=curr_sample_weight, check_input=False)\n        tree.fit = <bound method DecisionTreeRegressor.fit of Decis...=False, random_state=638324832, splitter='best')>\n        X = array([[0.        , 5.        , 0.        , ...,... 0.5882353 ,\n        0.        ]], dtype=float32)\n        y = array([[0.9896    ],\n       [0.50559998],\n      ...9999],\n       [0.81910002],\n       [0.29789999]])\n        sample_weight = None\n        curr_sample_weight = array([1., 1., 3., ..., 0., 2., 1.])\n    122     else:\n    123         tree.fit(X, y, sample_weight=sample_weight, check_input=False)\n    124 \n    125     return tree\n\n...........................................................................\nC:\\Users\\JunHweKim\\Anaconda3\\envs\\py36\\lib\\site-packages\\sklearn\\tree\\tree.py in fit(self=DecisionTreeRegressor(criterion='mse', max_depth...t=False, random_state=638324832, splitter='best'), X=array([[0.        , 5.        , 0.        , ...,... 0.5882353 ,\n        0.        ]], dtype=float32), y=array([[0.9896    ],\n       [0.50559998],\n      ...9999],\n       [0.81910002],\n       [0.29789999]]), sample_weight=array([1., 1., 3., ..., 0., 2., 1.]), check_input=False, X_idx_sorted=None)\n   1119 \n   1120         super(DecisionTreeRegressor, self).fit(\n   1121             X, y,\n   1122             sample_weight=sample_weight,\n   1123             check_input=check_input,\n-> 1124             X_idx_sorted=X_idx_sorted)\n        X_idx_sorted = None\n   1125         return self\n   1126 \n   1127 \n   1128 class ExtraTreeClassifier(DecisionTreeClassifier):\n\n...........................................................................\nC:\\Users\\JunHweKim\\Anaconda3\\envs\\py36\\lib\\site-packages\\sklearn\\tree\\tree.py in fit(self=DecisionTreeRegressor(criterion='mse', max_depth...t=False, random_state=638324832, splitter='best'), X=array([[0.        , 5.        , 0.        , ...,... 0.5882353 ,\n        0.        ]], dtype=float32), y=array([[0.9896    ],\n       [0.50559998],\n      ...9999],\n       [0.81910002],\n       [0.29789999]]), sample_weight=array([1., 1., 3., ..., 0., 2., 1.]), check_input=False, X_idx_sorted=None)\n    357                                            max_depth,\n    358                                            max_leaf_nodes,\n    359                                            self.min_impurity_decrease,\n    360                                            min_impurity_split)\n    361 \n--> 362         builder.build(self.tree_, X, y, sample_weight, X_idx_sorted)\n        builder.build = <built-in method build of sklearn.tree._tree.DepthFirstTreeBuilder object>\n        self.tree_ = <sklearn.tree._tree.Tree object>\n        X = array([[0.        , 5.        , 0.        , ...,... 0.5882353 ,\n        0.        ]], dtype=float32)\n        y = array([[0.9896    ],\n       [0.50559998],\n      ...9999],\n       [0.81910002],\n       [0.29789999]])\n        sample_weight = array([1., 1., 3., ..., 0., 2., 1.])\n        X_idx_sorted = None\n    363 \n    364         if self.n_outputs_ == 1:\n    365             self.n_classes_ = self.n_classes_[0]\n    366             self.classes_ = self.classes_[0]\n\n...........................................................................\nC:\\Users\\JunHweKim\\Anaconda3\\envs\\py36\\lib\\site-packages\\sklearn\\tree\\_tree.cp36-win_amd64.pyd in sklearn.tree._tree.DepthFirstTreeBuilder.build()\n\n...........................................................................\nC:\\Users\\JunHweKim\\Anaconda3\\envs\\py36\\lib\\site-packages\\sklearn\\tree\\_tree.cp36-win_amd64.pyd in sklearn.tree._tree.DepthFirstTreeBuilder.build()\n\n...........................................................................\nC:\\Users\\JunHweKim\\Anaconda3\\envs\\py36\\lib\\site-packages\\sklearn\\tree\\_tree.cp36-win_amd64.pyd in sklearn.tree._tree.Tree._add_node()\n\n...........................................................................\nC:\\Users\\JunHweKim\\Anaconda3\\envs\\py36\\lib\\site-packages\\sklearn\\tree\\_tree.cp36-win_amd64.pyd in sklearn.tree._tree.Tree._resize_c()\n\n...........................................................................\nC:\\Users\\JunHweKim\\Anaconda3\\envs\\py36\\lib\\site-packages\\sklearn\\tree\\_utils.cp36-win_amd64.pyd in sklearn.tree._utils.safe_realloc()\n\nMemoryError: could not allocate 58720256 bytes\n___________________________________________________________________________"
     ]
    }
   ],
   "source": [
    "%%time\n",
    "regr.fit(train_x, train_y)"
   ]
  },
  {
   "cell_type": "code",
   "execution_count": 30,
   "metadata": {},
   "outputs": [
    {
     "ename": "NotFittedError",
     "evalue": "Estimator not fitted, call `fit` before exploiting the model.",
     "output_type": "error",
     "traceback": [
      "\u001b[1;31m---------------------------------------------------------------------------\u001b[0m",
      "\u001b[1;31mNotFittedError\u001b[0m                            Traceback (most recent call last)",
      "\u001b[1;32m<ipython-input-30-43a36c6c7073>\u001b[0m in \u001b[0;36m<module>\u001b[1;34m()\u001b[0m\n\u001b[1;32m----> 1\u001b[1;33m \u001b[0mprint\u001b[0m\u001b[1;33m(\u001b[0m\u001b[1;34m'mae train: '\u001b[0m\u001b[1;33m,\u001b[0m \u001b[0mmean_absolute_error\u001b[0m\u001b[1;33m(\u001b[0m\u001b[0mregr\u001b[0m\u001b[1;33m.\u001b[0m\u001b[0mpredict\u001b[0m\u001b[1;33m(\u001b[0m\u001b[0mtrain_x\u001b[0m\u001b[1;33m)\u001b[0m\u001b[1;33m,\u001b[0m \u001b[0mtrain_y\u001b[0m\u001b[1;33m)\u001b[0m\u001b[1;33m)\u001b[0m \u001b[1;31m# leaf=1, feature = 0.7, 6분, solo\u001b[0m\u001b[1;33m\u001b[0m\u001b[0m\n\u001b[0m\u001b[0;32m      2\u001b[0m \u001b[0mprint\u001b[0m\u001b[1;33m(\u001b[0m\u001b[1;34m'mae test: '\u001b[0m\u001b[1;33m,\u001b[0m \u001b[0mmean_absolute_error\u001b[0m\u001b[1;33m(\u001b[0m\u001b[0mregr\u001b[0m\u001b[1;33m.\u001b[0m\u001b[0mpredict\u001b[0m\u001b[1;33m(\u001b[0m\u001b[0mtest_x\u001b[0m\u001b[1;33m)\u001b[0m\u001b[1;33m,\u001b[0m \u001b[0mtest_y\u001b[0m\u001b[1;33m)\u001b[0m\u001b[1;33m)\u001b[0m\u001b[1;33m\u001b[0m\u001b[0m\n",
      "\u001b[1;32m~\\Anaconda3\\envs\\py36\\lib\\site-packages\\sklearn\\ensemble\\forest.py\u001b[0m in \u001b[0;36mpredict\u001b[1;34m(self, X)\u001b[0m\n\u001b[0;32m    679\u001b[0m         \u001b[0mcheck_is_fitted\u001b[0m\u001b[1;33m(\u001b[0m\u001b[0mself\u001b[0m\u001b[1;33m,\u001b[0m \u001b[1;34m'estimators_'\u001b[0m\u001b[1;33m)\u001b[0m\u001b[1;33m\u001b[0m\u001b[0m\n\u001b[0;32m    680\u001b[0m         \u001b[1;31m# Check data\u001b[0m\u001b[1;33m\u001b[0m\u001b[1;33m\u001b[0m\u001b[0m\n\u001b[1;32m--> 681\u001b[1;33m         \u001b[0mX\u001b[0m \u001b[1;33m=\u001b[0m \u001b[0mself\u001b[0m\u001b[1;33m.\u001b[0m\u001b[0m_validate_X_predict\u001b[0m\u001b[1;33m(\u001b[0m\u001b[0mX\u001b[0m\u001b[1;33m)\u001b[0m\u001b[1;33m\u001b[0m\u001b[0m\n\u001b[0m\u001b[0;32m    682\u001b[0m \u001b[1;33m\u001b[0m\u001b[0m\n\u001b[0;32m    683\u001b[0m         \u001b[1;31m# Assign chunk of trees to jobs\u001b[0m\u001b[1;33m\u001b[0m\u001b[1;33m\u001b[0m\u001b[0m\n",
      "\u001b[1;32m~\\Anaconda3\\envs\\py36\\lib\\site-packages\\sklearn\\ensemble\\forest.py\u001b[0m in \u001b[0;36m_validate_X_predict\u001b[1;34m(self, X)\u001b[0m\n\u001b[0;32m    352\u001b[0m         \u001b[1;34m\"\"\"Validate X whenever one tries to predict, apply, predict_proba\"\"\"\u001b[0m\u001b[1;33m\u001b[0m\u001b[0m\n\u001b[0;32m    353\u001b[0m         \u001b[1;32mif\u001b[0m \u001b[0mself\u001b[0m\u001b[1;33m.\u001b[0m\u001b[0mestimators_\u001b[0m \u001b[1;32mis\u001b[0m \u001b[1;32mNone\u001b[0m \u001b[1;32mor\u001b[0m \u001b[0mlen\u001b[0m\u001b[1;33m(\u001b[0m\u001b[0mself\u001b[0m\u001b[1;33m.\u001b[0m\u001b[0mestimators_\u001b[0m\u001b[1;33m)\u001b[0m \u001b[1;33m==\u001b[0m \u001b[1;36m0\u001b[0m\u001b[1;33m:\u001b[0m\u001b[1;33m\u001b[0m\u001b[0m\n\u001b[1;32m--> 354\u001b[1;33m             raise NotFittedError(\"Estimator not fitted, \"\n\u001b[0m\u001b[0;32m    355\u001b[0m                                  \"call `fit` before exploiting the model.\")\n\u001b[0;32m    356\u001b[0m \u001b[1;33m\u001b[0m\u001b[0m\n",
      "\u001b[1;31mNotFittedError\u001b[0m: Estimator not fitted, call `fit` before exploiting the model."
     ]
    }
   ],
   "source": [
    "print('mae train: ', mean_absolute_error(regr.predict(train_x), train_y)) # leaf=1, feature = 0.7, 6분, solo\n",
    "print('mae test: ', mean_absolute_error(regr.predict(test_x), test_y))"
   ]
  },
  {
   "cell_type": "code",
   "execution_count": 18,
   "metadata": {
    "scrolled": true
   },
   "outputs": [
    {
     "name": "stdout",
     "output_type": "stream",
     "text": [
      "mae train:  0.029333601961265974\n",
      "mae test:  0.061988828066232717\n"
     ]
    }
   ],
   "source": [
    "print('mae train: ', mean_absolute_error(regr.predict(train_x), train_y)) # leaf=2, feature = 0.7, 6분, solo\n",
    "print('mae test: ', mean_absolute_error(regr.predict(test_x), test_y))"
   ]
  },
  {
   "cell_type": "code",
   "execution_count": 15,
   "metadata": {},
   "outputs": [
    {
     "name": "stdout",
     "output_type": "stream",
     "text": [
      "mae train:  0.030851512574853832\n",
      "mae test:  0.06177828991533644\n"
     ]
    }
   ],
   "source": [
    "print('mae train: ', mean_absolute_error(regr.predict(train_x), train_y)) # leaf=2, feature = 0.5, 6분, solo\n",
    "print('mae test: ', mean_absolute_error(regr.predict(test_x), test_y))"
   ]
  },
  {
   "cell_type": "code",
   "execution_count": 22,
   "metadata": {},
   "outputs": [
    {
     "name": "stdout",
     "output_type": "stream",
     "text": [
      "mae train:  0.029725261419484506\n",
      "mae test:  0.0618463890532697\n"
     ]
    }
   ],
   "source": [
    "print('mae train: ', mean_absolute_error(regr.predict(train_x), train_y)) # leaf=2, feature = 0.6, 3분, solo\n",
    "print('mae test: ', mean_absolute_error(regr.predict(test_x), test_y))"
   ]
  },
  {
   "cell_type": "code",
   "execution_count": 19,
   "metadata": {
    "scrolled": true
   },
   "outputs": [
    {
     "name": "stdout",
     "output_type": "stream",
     "text": [
      "mae train:  0.03674590303174028\n",
      "mae test:  0.06168367930336537\n"
     ]
    }
   ],
   "source": [
    "print('mae train: ', mean_absolute_error(regr.predict(train_x), train_y)) # leaf=3, feature = 0.5, 2분, solo\n",
    "print('mae test: ', mean_absolute_error(regr.predict(test_x), test_y))"
   ]
  },
  {
   "cell_type": "code",
   "execution_count": 15,
   "metadata": {
    "scrolled": true
   },
   "outputs": [
    {
     "name": "stdout",
     "output_type": "stream",
     "text": [
      "mae train:  0.030775291288358157\n",
      "mae test:  0.06176320466441904\n"
     ]
    }
   ],
   "source": [
    "print('mae train: ', mean_absolute_error(regr.predict(train_x), train_y)) # leaf=2, feature = 0.5, 6분, solo\n",
    "print('mae test: ', mean_absolute_error(regr.predict(test_x), test_y))"
   ]
  },
  {
   "cell_type": "code",
   "execution_count": 10,
   "metadata": {},
   "outputs": [
    {
     "name": "stdout",
     "output_type": "stream",
     "text": [
      "mae train:  0.017647205104711072\n",
      "mae test:  0.038040549504877355\n"
     ]
    }
   ],
   "source": [
    "print('mae train: ', mean_absolute_error(regr.predict(train_x), train_y)) # leaf=2, feature = 0.5, 6분, duo\n",
    "print('mae test: ', mean_absolute_error(regr.predict(test_x), test_y))"
   ]
  },
  {
   "cell_type": "code",
   "execution_count": null,
   "metadata": {},
   "outputs": [],
   "source": []
  },
  {
   "cell_type": "code",
   "execution_count": 14,
   "metadata": {},
   "outputs": [
    {
     "name": "stdout",
     "output_type": "stream",
     "text": [
      "mae train:  0.024789576713285168\n",
      "mae test:  0.04252635397084784\n"
     ]
    }
   ],
   "source": [
    "print('mae train: ', mean_absolute_error(regr.predict(train_x), train_y)) # leaf=4, feature = None, 12분, duo\n",
    "print('mae test: ', mean_absolute_error(regr.predict(test_x), test_y))"
   ]
  },
  {
   "cell_type": "code",
   "execution_count": 11,
   "metadata": {},
   "outputs": [
    {
     "name": "stdout",
     "output_type": "stream",
     "text": [
      "mae train:  0.022882137144165666\n",
      "mae test:  0.041150939470752095\n"
     ]
    }
   ],
   "source": [
    "print('mae train: ', mean_absolute_error(regr.predict(train_x), train_y)) # leaf=3, feature = 0.5, 7분, duo\n",
    "print('mae test: ', mean_absolute_error(regr.predict(test_x), test_y))"
   ]
  },
  {
   "cell_type": "code",
   "execution_count": null,
   "metadata": {},
   "outputs": [],
   "source": []
  }
 ],
 "metadata": {
  "kernelspec": {
   "display_name": "Python 3",
   "language": "python",
   "name": "python3"
  },
  "language_info": {
   "codemirror_mode": {
    "name": "ipython",
    "version": 3
   },
   "file_extension": ".py",
   "mimetype": "text/x-python",
   "name": "python",
   "nbconvert_exporter": "python",
   "pygments_lexer": "ipython3",
   "version": "3.6.6"
  }
 },
 "nbformat": 4,
 "nbformat_minor": 2
}
