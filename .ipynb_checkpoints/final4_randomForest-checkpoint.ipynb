{
 "cells": [
  {
   "cell_type": "code",
   "execution_count": 5,
   "metadata": {},
   "outputs": [
    {
     "name": "stderr",
     "output_type": "stream",
     "text": [
      "C:\\Users\\JunHweKim\\Anaconda3\\envs\\py36\\lib\\site-packages\\sklearn\\ensemble\\weight_boosting.py:29: DeprecationWarning: numpy.core.umath_tests is an internal NumPy module and should not be imported. It will be removed in a future NumPy release.\n",
      "  from numpy.core.umath_tests import inner1d\n"
     ]
    }
   ],
   "source": [
    "import tensorflow as tf\n",
    "import numpy as np\n",
    "import pandas as pd\n",
    "import matplotlib.pyplot as plt\n",
    "import seaborn as sns\n",
    "from sklearn.model_selection import train_test_split\n",
    "import sklearn.preprocessing\n",
    "from sklearn.ensemble import RandomForestRegressor\n",
    "from sklearn.datasets import make_regression\n",
    "from sklearn.metrics import mean_squared_error,mean_absolute_error\n",
    "import warnings\n",
    "warnings.filterwarnings(\"ignore\")\n",
    "from tqdm import tqdm_notebook"
   ]
  },
  {
   "cell_type": "code",
   "execution_count": 6,
   "metadata": {},
   "outputs": [],
   "source": [
    "# dataframe display 옵션\n",
    "pd.set_option('display.max_columns' , 30)\n",
    "pd.set_option('display.width', None)"
   ]
  },
  {
   "cell_type": "code",
   "execution_count": 7,
   "metadata": {},
   "outputs": [],
   "source": [
    "raw_data = pd.read_csv('./data/final4/final4_solo_Data.csv',  dtype={         \n",
    "\n",
    "                    'matchType': 'int8',\n",
    "\t\t\t\t\t'assists_mean'   :  'float32',\n",
    "\t\t\t\t\t'boosts_mean'   :  'float32',\n",
    "\t\t\t\t\t'headshotKills_mean'   :  'float32',\n",
    "\t\t\t\t\t'heals_mean'   :  'float32',\n",
    "\t\t\t\t\t'kills_mean'   :  'float32',\n",
    "\t\t\t\t\t'killStreaks_mean'   :  'float32',\n",
    "\t\t\t\t\t'weaponsAcquired_mean'   :  'float32',\n",
    "\t\t\t\t\t'longestKill_mean_log'   :  'float32',\n",
    "\t\t\t\t\t'rideDistance_mean_log'   :  'float32',\n",
    "\t\t\t\t\t'swimDistance_mean_log'   :  'float32',\n",
    "\t\t\t\t\t'walkDistance_mean_log'   :  'float32',\n",
    "\t\t\t\t\t'match_size': 'int16',\n",
    "\t\t\t\t\t'assists_ratio': 'float32',\n",
    "\t\t\t\t\t'boosts_ratio': 'float32',\n",
    "\t\t\t\t\t'headshotKills_ratio': 'float32',\n",
    "\t\t\t\t\t'heals_ratio': 'float32',\n",
    "\t\t\t\t\t'kills_ratio': 'float32',\n",
    "\t\t\t\t\t'killStreaks_ratio': 'float32',\n",
    "\t\t\t\t\t'longestKill_ratio': 'float32',\n",
    "\t\t\t\t\t'rideDistance_ratio': 'float32',\n",
    "\t\t\t\t\t'swimDistance_ratio': 'float32',\n",
    "\t\t\t\t\t'walkDistance_ratio': 'float32',\n",
    "\t\t\t\t\t'weaponsAcquired_ratio': 'float32',\n",
    "\t\t\t\t\t'headshotKillrate_ratio': 'float32',\n",
    "\t\t\t\t\t'winPlacePerc': 'float32'\n",
    "\n",
    "                })"
   ]
  },
  {
   "cell_type": "code",
   "execution_count": 8,
   "metadata": {
    "scrolled": true
   },
   "outputs": [
    {
     "data": {
      "text/html": [
       "<div>\n",
       "<style scoped>\n",
       "    .dataframe tbody tr th:only-of-type {\n",
       "        vertical-align: middle;\n",
       "    }\n",
       "\n",
       "    .dataframe tbody tr th {\n",
       "        vertical-align: top;\n",
       "    }\n",
       "\n",
       "    .dataframe thead th {\n",
       "        text-align: right;\n",
       "    }\n",
       "</style>\n",
       "<table border=\"1\" class=\"dataframe\">\n",
       "  <thead>\n",
       "    <tr style=\"text-align: right;\">\n",
       "      <th></th>\n",
       "      <th>matchType</th>\n",
       "      <th>assists_mean</th>\n",
       "      <th>boosts_mean</th>\n",
       "      <th>headshotKills_mean</th>\n",
       "      <th>heals_mean</th>\n",
       "      <th>kills_mean</th>\n",
       "      <th>killStreaks_mean</th>\n",
       "      <th>weaponsAcquired_mean</th>\n",
       "      <th>longestKill_mean_log</th>\n",
       "      <th>rideDistance_mean_log</th>\n",
       "      <th>swimDistance_mean_log</th>\n",
       "      <th>walkDistance_mean_log</th>\n",
       "      <th>match_size</th>\n",
       "      <th>headshotKillrate_mean</th>\n",
       "      <th>assists_ratio</th>\n",
       "      <th>boosts_ratio</th>\n",
       "      <th>headshotKills_ratio</th>\n",
       "      <th>heals_ratio</th>\n",
       "      <th>kills_ratio</th>\n",
       "      <th>killStreaks_ratio</th>\n",
       "      <th>longestKill_ratio</th>\n",
       "      <th>rideDistance_ratio</th>\n",
       "      <th>swimDistance_ratio</th>\n",
       "      <th>walkDistance_ratio</th>\n",
       "      <th>weaponsAcquired_ratio</th>\n",
       "      <th>headshotKillrate_ratio</th>\n",
       "      <th>winPlacePerc</th>\n",
       "    </tr>\n",
       "  </thead>\n",
       "  <tbody>\n",
       "    <tr>\n",
       "      <th>count</th>\n",
       "      <td>699377.0</td>\n",
       "      <td>699377.000000</td>\n",
       "      <td>699377.000000</td>\n",
       "      <td>699377.000000</td>\n",
       "      <td>699377.000000</td>\n",
       "      <td>699377.000000</td>\n",
       "      <td>699377.000000</td>\n",
       "      <td>699377.000000</td>\n",
       "      <td>699377.000000</td>\n",
       "      <td>699377.000000</td>\n",
       "      <td>699377.000000</td>\n",
       "      <td>699377.000000</td>\n",
       "      <td>699377.000000</td>\n",
       "      <td>699377.000000</td>\n",
       "      <td>699377.000000</td>\n",
       "      <td>699377.000000</td>\n",
       "      <td>699377.000000</td>\n",
       "      <td>699377.000000</td>\n",
       "      <td>699377.000000</td>\n",
       "      <td>699377.000000</td>\n",
       "      <td>699377.000000</td>\n",
       "      <td>699377.000000</td>\n",
       "      <td>699377.000000</td>\n",
       "      <td>699377.000000</td>\n",
       "      <td>699377.000000</td>\n",
       "      <td>699377.000000</td>\n",
       "      <td>699376.000000</td>\n",
       "    </tr>\n",
       "    <tr>\n",
       "      <th>mean</th>\n",
       "      <td>1.0</td>\n",
       "      <td>0.050203</td>\n",
       "      <td>0.978547</td>\n",
       "      <td>0.220130</td>\n",
       "      <td>0.900145</td>\n",
       "      <td>0.853230</td>\n",
       "      <td>0.458980</td>\n",
       "      <td>3.486662</td>\n",
       "      <td>1.413859</td>\n",
       "      <td>1.369509</td>\n",
       "      <td>0.206240</td>\n",
       "      <td>5.754859</td>\n",
       "      <td>94.158121</td>\n",
       "      <td>0.110137</td>\n",
       "      <td>0.877201</td>\n",
       "      <td>0.922382</td>\n",
       "      <td>0.894295</td>\n",
       "      <td>0.907031</td>\n",
       "      <td>0.918155</td>\n",
       "      <td>0.960258</td>\n",
       "      <td>0.906918</td>\n",
       "      <td>0.935917</td>\n",
       "      <td>0.788742</td>\n",
       "      <td>0.957700</td>\n",
       "      <td>0.983585</td>\n",
       "      <td>0.415609</td>\n",
       "      <td>0.477225</td>\n",
       "    </tr>\n",
       "    <tr>\n",
       "      <th>std</th>\n",
       "      <td>0.0</td>\n",
       "      <td>0.216877</td>\n",
       "      <td>1.656345</td>\n",
       "      <td>0.546041</td>\n",
       "      <td>1.975541</td>\n",
       "      <td>1.330206</td>\n",
       "      <td>0.534062</td>\n",
       "      <td>2.267696</td>\n",
       "      <td>1.766629</td>\n",
       "      <td>2.877573</td>\n",
       "      <td>0.877543</td>\n",
       "      <td>1.913381</td>\n",
       "      <td>9.204865</td>\n",
       "      <td>0.271372</td>\n",
       "      <td>4.363016</td>\n",
       "      <td>1.565907</td>\n",
       "      <td>2.238199</td>\n",
       "      <td>1.979098</td>\n",
       "      <td>1.428162</td>\n",
       "      <td>1.126237</td>\n",
       "      <td>1.838378</td>\n",
       "      <td>3.579238</td>\n",
       "      <td>5.116230</td>\n",
       "      <td>1.055237</td>\n",
       "      <td>0.629136</td>\n",
       "      <td>1.047714</td>\n",
       "      <td>0.294851</td>\n",
       "    </tr>\n",
       "    <tr>\n",
       "      <th>min</th>\n",
       "      <td>1.0</td>\n",
       "      <td>0.000000</td>\n",
       "      <td>0.000000</td>\n",
       "      <td>0.000000</td>\n",
       "      <td>0.000000</td>\n",
       "      <td>0.000000</td>\n",
       "      <td>0.000000</td>\n",
       "      <td>0.000000</td>\n",
       "      <td>0.000000</td>\n",
       "      <td>0.000000</td>\n",
       "      <td>0.000000</td>\n",
       "      <td>0.000000</td>\n",
       "      <td>1.000000</td>\n",
       "      <td>0.000000</td>\n",
       "      <td>0.000000</td>\n",
       "      <td>0.000000</td>\n",
       "      <td>0.000000</td>\n",
       "      <td>0.000000</td>\n",
       "      <td>0.000000</td>\n",
       "      <td>0.000000</td>\n",
       "      <td>0.000000</td>\n",
       "      <td>0.000000</td>\n",
       "      <td>0.000000</td>\n",
       "      <td>0.000000</td>\n",
       "      <td>0.000000</td>\n",
       "      <td>0.000000</td>\n",
       "      <td>0.000000</td>\n",
       "    </tr>\n",
       "    <tr>\n",
       "      <th>25%</th>\n",
       "      <td>1.0</td>\n",
       "      <td>0.000000</td>\n",
       "      <td>0.000000</td>\n",
       "      <td>0.000000</td>\n",
       "      <td>0.000000</td>\n",
       "      <td>0.000000</td>\n",
       "      <td>0.000000</td>\n",
       "      <td>2.000000</td>\n",
       "      <td>0.000000</td>\n",
       "      <td>0.000000</td>\n",
       "      <td>0.000000</td>\n",
       "      <td>4.587108</td>\n",
       "      <td>94.000000</td>\n",
       "      <td>0.000000</td>\n",
       "      <td>0.000000</td>\n",
       "      <td>0.000000</td>\n",
       "      <td>0.000000</td>\n",
       "      <td>0.000000</td>\n",
       "      <td>0.000000</td>\n",
       "      <td>0.000000</td>\n",
       "      <td>0.000000</td>\n",
       "      <td>0.000000</td>\n",
       "      <td>0.000000</td>\n",
       "      <td>0.109486</td>\n",
       "      <td>0.527473</td>\n",
       "      <td>0.000000</td>\n",
       "      <td>0.221100</td>\n",
       "    </tr>\n",
       "    <tr>\n",
       "      <th>50%</th>\n",
       "      <td>1.0</td>\n",
       "      <td>0.000000</td>\n",
       "      <td>0.000000</td>\n",
       "      <td>0.000000</td>\n",
       "      <td>0.000000</td>\n",
       "      <td>0.000000</td>\n",
       "      <td>0.000000</td>\n",
       "      <td>3.000000</td>\n",
       "      <td>0.000000</td>\n",
       "      <td>0.000000</td>\n",
       "      <td>0.000000</td>\n",
       "      <td>6.156555</td>\n",
       "      <td>96.000000</td>\n",
       "      <td>0.000000</td>\n",
       "      <td>0.000000</td>\n",
       "      <td>0.000000</td>\n",
       "      <td>0.000000</td>\n",
       "      <td>0.000000</td>\n",
       "      <td>0.000000</td>\n",
       "      <td>0.000000</td>\n",
       "      <td>0.000000</td>\n",
       "      <td>0.000000</td>\n",
       "      <td>0.000000</td>\n",
       "      <td>0.511597</td>\n",
       "      <td>0.926752</td>\n",
       "      <td>0.000000</td>\n",
       "      <td>0.469100</td>\n",
       "    </tr>\n",
       "    <tr>\n",
       "      <th>75%</th>\n",
       "      <td>1.0</td>\n",
       "      <td>0.000000</td>\n",
       "      <td>1.000000</td>\n",
       "      <td>0.000000</td>\n",
       "      <td>1.000000</td>\n",
       "      <td>1.000000</td>\n",
       "      <td>1.000000</td>\n",
       "      <td>5.000000</td>\n",
       "      <td>3.011606</td>\n",
       "      <td>0.000000</td>\n",
       "      <td>0.000000</td>\n",
       "      <td>7.326466</td>\n",
       "      <td>97.000000</td>\n",
       "      <td>0.000000</td>\n",
       "      <td>0.000000</td>\n",
       "      <td>1.253333</td>\n",
       "      <td>0.000000</td>\n",
       "      <td>1.033708</td>\n",
       "      <td>1.114943</td>\n",
       "      <td>2.062500</td>\n",
       "      <td>0.934645</td>\n",
       "      <td>0.000000</td>\n",
       "      <td>0.000000</td>\n",
       "      <td>1.570616</td>\n",
       "      <td>1.361702</td>\n",
       "      <td>0.000000</td>\n",
       "      <td>0.731200</td>\n",
       "    </tr>\n",
       "    <tr>\n",
       "      <th>max</th>\n",
       "      <td>1.0</td>\n",
       "      <td>1.000000</td>\n",
       "      <td>9.000000</td>\n",
       "      <td>4.000000</td>\n",
       "      <td>17.000000</td>\n",
       "      <td>9.000000</td>\n",
       "      <td>2.000000</td>\n",
       "      <td>12.000000</td>\n",
       "      <td>5.703449</td>\n",
       "      <td>9.101084</td>\n",
       "      <td>5.688330</td>\n",
       "      <td>8.511980</td>\n",
       "      <td>100.000000</td>\n",
       "      <td>1.000000</td>\n",
       "      <td>100.000000</td>\n",
       "      <td>25.526316</td>\n",
       "      <td>28.000000</td>\n",
       "      <td>33.739132</td>\n",
       "      <td>11.675675</td>\n",
       "      <td>5.684210</td>\n",
       "      <td>19.827480</td>\n",
       "      <td>99.000000</td>\n",
       "      <td>100.000008</td>\n",
       "      <td>17.000000</td>\n",
       "      <td>4.600000</td>\n",
       "      <td>14.500000</td>\n",
       "      <td>1.000000</td>\n",
       "    </tr>\n",
       "  </tbody>\n",
       "</table>\n",
       "</div>"
      ],
      "text/plain": [
       "       matchType   assists_mean    boosts_mean  headshotKills_mean  \\\n",
       "count   699377.0  699377.000000  699377.000000       699377.000000   \n",
       "mean         1.0       0.050203       0.978547            0.220130   \n",
       "std          0.0       0.216877       1.656345            0.546041   \n",
       "min          1.0       0.000000       0.000000            0.000000   \n",
       "25%          1.0       0.000000       0.000000            0.000000   \n",
       "50%          1.0       0.000000       0.000000            0.000000   \n",
       "75%          1.0       0.000000       1.000000            0.000000   \n",
       "max          1.0       1.000000       9.000000            4.000000   \n",
       "\n",
       "          heals_mean     kills_mean  killStreaks_mean  weaponsAcquired_mean  \\\n",
       "count  699377.000000  699377.000000     699377.000000         699377.000000   \n",
       "mean        0.900145       0.853230          0.458980              3.486662   \n",
       "std         1.975541       1.330206          0.534062              2.267696   \n",
       "min         0.000000       0.000000          0.000000              0.000000   \n",
       "25%         0.000000       0.000000          0.000000              2.000000   \n",
       "50%         0.000000       0.000000          0.000000              3.000000   \n",
       "75%         1.000000       1.000000          1.000000              5.000000   \n",
       "max        17.000000       9.000000          2.000000             12.000000   \n",
       "\n",
       "       longestKill_mean_log  rideDistance_mean_log  swimDistance_mean_log  \\\n",
       "count         699377.000000          699377.000000          699377.000000   \n",
       "mean               1.413859               1.369509               0.206240   \n",
       "std                1.766629               2.877573               0.877543   \n",
       "min                0.000000               0.000000               0.000000   \n",
       "25%                0.000000               0.000000               0.000000   \n",
       "50%                0.000000               0.000000               0.000000   \n",
       "75%                3.011606               0.000000               0.000000   \n",
       "max                5.703449               9.101084               5.688330   \n",
       "\n",
       "       walkDistance_mean_log     match_size  headshotKillrate_mean  \\\n",
       "count          699377.000000  699377.000000          699377.000000   \n",
       "mean                5.754859      94.158121               0.110137   \n",
       "std                 1.913381       9.204865               0.271372   \n",
       "min                 0.000000       1.000000               0.000000   \n",
       "25%                 4.587108      94.000000               0.000000   \n",
       "50%                 6.156555      96.000000               0.000000   \n",
       "75%                 7.326466      97.000000               0.000000   \n",
       "max                 8.511980     100.000000               1.000000   \n",
       "\n",
       "       assists_ratio   boosts_ratio  headshotKills_ratio    heals_ratio  \\\n",
       "count  699377.000000  699377.000000        699377.000000  699377.000000   \n",
       "mean        0.877201       0.922382             0.894295       0.907031   \n",
       "std         4.363016       1.565907             2.238199       1.979098   \n",
       "min         0.000000       0.000000             0.000000       0.000000   \n",
       "25%         0.000000       0.000000             0.000000       0.000000   \n",
       "50%         0.000000       0.000000             0.000000       0.000000   \n",
       "75%         0.000000       1.253333             0.000000       1.033708   \n",
       "max       100.000000      25.526316            28.000000      33.739132   \n",
       "\n",
       "         kills_ratio  killStreaks_ratio  longestKill_ratio  \\\n",
       "count  699377.000000      699377.000000      699377.000000   \n",
       "mean        0.918155           0.960258           0.906918   \n",
       "std         1.428162           1.126237           1.838378   \n",
       "min         0.000000           0.000000           0.000000   \n",
       "25%         0.000000           0.000000           0.000000   \n",
       "50%         0.000000           0.000000           0.000000   \n",
       "75%         1.114943           2.062500           0.934645   \n",
       "max        11.675675           5.684210          19.827480   \n",
       "\n",
       "       rideDistance_ratio  swimDistance_ratio  walkDistance_ratio  \\\n",
       "count       699377.000000       699377.000000       699377.000000   \n",
       "mean             0.935917            0.788742            0.957700   \n",
       "std              3.579238            5.116230            1.055237   \n",
       "min              0.000000            0.000000            0.000000   \n",
       "25%              0.000000            0.000000            0.109486   \n",
       "50%              0.000000            0.000000            0.511597   \n",
       "75%              0.000000            0.000000            1.570616   \n",
       "max             99.000000          100.000008           17.000000   \n",
       "\n",
       "       weaponsAcquired_ratio  headshotKillrate_ratio   winPlacePerc  \n",
       "count          699377.000000           699377.000000  699376.000000  \n",
       "mean                0.983585                0.415609       0.477225  \n",
       "std                 0.629136                1.047714       0.294851  \n",
       "min                 0.000000                0.000000       0.000000  \n",
       "25%                 0.527473                0.000000       0.221100  \n",
       "50%                 0.926752                0.000000       0.469100  \n",
       "75%                 1.361702                0.000000       0.731200  \n",
       "max                 4.600000               14.500000       1.000000  "
      ]
     },
     "execution_count": 8,
     "metadata": {},
     "output_type": "execute_result"
    }
   ],
   "source": [
    "raw_data.describe()"
   ]
  },
  {
   "cell_type": "code",
   "execution_count": 9,
   "metadata": {},
   "outputs": [],
   "source": [
    "#data = raw_data[raw_data['matchType']==1]\n",
    "data = raw_data.copy()"
   ]
  },
  {
   "cell_type": "code",
   "execution_count": 10,
   "metadata": {},
   "outputs": [
    {
     "data": {
      "text/html": [
       "<div>\n",
       "<style scoped>\n",
       "    .dataframe tbody tr th:only-of-type {\n",
       "        vertical-align: middle;\n",
       "    }\n",
       "\n",
       "    .dataframe tbody tr th {\n",
       "        vertical-align: top;\n",
       "    }\n",
       "\n",
       "    .dataframe thead th {\n",
       "        text-align: right;\n",
       "    }\n",
       "</style>\n",
       "<table border=\"1\" class=\"dataframe\">\n",
       "  <thead>\n",
       "    <tr style=\"text-align: right;\">\n",
       "      <th></th>\n",
       "      <th>assists_mean</th>\n",
       "      <th>boosts_mean</th>\n",
       "      <th>headshotKills_mean</th>\n",
       "      <th>heals_mean</th>\n",
       "      <th>kills_mean</th>\n",
       "      <th>killStreaks_mean</th>\n",
       "      <th>weaponsAcquired_mean</th>\n",
       "      <th>longestKill_mean_log</th>\n",
       "      <th>rideDistance_mean_log</th>\n",
       "      <th>swimDistance_mean_log</th>\n",
       "      <th>walkDistance_mean_log</th>\n",
       "      <th>match_size</th>\n",
       "      <th>headshotKillrate_mean</th>\n",
       "      <th>assists_ratio</th>\n",
       "      <th>boosts_ratio</th>\n",
       "      <th>headshotKills_ratio</th>\n",
       "      <th>heals_ratio</th>\n",
       "      <th>kills_ratio</th>\n",
       "      <th>killStreaks_ratio</th>\n",
       "      <th>longestKill_ratio</th>\n",
       "      <th>rideDistance_ratio</th>\n",
       "      <th>swimDistance_ratio</th>\n",
       "      <th>walkDistance_ratio</th>\n",
       "      <th>weaponsAcquired_ratio</th>\n",
       "      <th>headshotKillrate_ratio</th>\n",
       "      <th>winPlacePerc</th>\n",
       "    </tr>\n",
       "  </thead>\n",
       "  <tbody>\n",
       "    <tr>\n",
       "      <th>0</th>\n",
       "      <td>0.0</td>\n",
       "      <td>0.0</td>\n",
       "      <td>0.0</td>\n",
       "      <td>0.0</td>\n",
       "      <td>1.0</td>\n",
       "      <td>1.0</td>\n",
       "      <td>2.0</td>\n",
       "      <td>4.08648</td>\n",
       "      <td>0.0</td>\n",
       "      <td>0.0</td>\n",
       "      <td>3.926912</td>\n",
       "      <td>97</td>\n",
       "      <td>0.0</td>\n",
       "      <td>0.0</td>\n",
       "      <td>0.0</td>\n",
       "      <td>0.0</td>\n",
       "      <td>0.0</td>\n",
       "      <td>1.065934</td>\n",
       "      <td>2.020833</td>\n",
       "      <td>2.592667</td>\n",
       "      <td>0.0</td>\n",
       "      <td>0.0</td>\n",
       "      <td>0.06145</td>\n",
       "      <td>0.591463</td>\n",
       "      <td>0.0</td>\n",
       "      <td>0.1875</td>\n",
       "    </tr>\n",
       "  </tbody>\n",
       "</table>\n",
       "</div>"
      ],
      "text/plain": [
       "   assists_mean  boosts_mean  headshotKills_mean  heals_mean  kills_mean  \\\n",
       "0           0.0          0.0                 0.0         0.0         1.0   \n",
       "\n",
       "   killStreaks_mean  weaponsAcquired_mean  longestKill_mean_log  \\\n",
       "0               1.0                   2.0               4.08648   \n",
       "\n",
       "   rideDistance_mean_log  swimDistance_mean_log  walkDistance_mean_log  \\\n",
       "0                    0.0                    0.0               3.926912   \n",
       "\n",
       "   match_size  headshotKillrate_mean  assists_ratio  boosts_ratio  \\\n",
       "0          97                    0.0            0.0           0.0   \n",
       "\n",
       "   headshotKills_ratio  heals_ratio  kills_ratio  killStreaks_ratio  \\\n",
       "0                  0.0          0.0     1.065934           2.020833   \n",
       "\n",
       "   longestKill_ratio  rideDistance_ratio  swimDistance_ratio  \\\n",
       "0           2.592667                 0.0                 0.0   \n",
       "\n",
       "   walkDistance_ratio  weaponsAcquired_ratio  headshotKillrate_ratio  \\\n",
       "0             0.06145               0.591463                     0.0   \n",
       "\n",
       "   winPlacePerc  \n",
       "0        0.1875  "
      ]
     },
     "execution_count": 10,
     "metadata": {},
     "output_type": "execute_result"
    }
   ],
   "source": [
    "slic_data = data.copy()\n",
    "#headshotfills & headshotkillrate\n",
    "slic_data = slic_data.drop(columns=[\"Id\",'matchId','groupId', 'matchType'], axis=1)\n",
    "slic_data.head(1)"
   ]
  },
  {
   "cell_type": "code",
   "execution_count": 11,
   "metadata": {},
   "outputs": [
    {
     "name": "stdout",
     "output_type": "stream",
     "text": [
      "False\n",
      "False\n",
      "(489562, 25) (209814, 25) (489562,) (209814,)\n"
     ]
    }
   ],
   "source": [
    "train_df, test_df = train_test_split(slic_data, train_size = 0.7)\n",
    "\n",
    "#train_df = reduce_mem_usage(train_df)\n",
    "#test_df = reduce_mem_usage(test_df)\n",
    "train_df.dropna(inplace = True)\n",
    "print(train_df.isnull().any().any())\n",
    "test_df.dropna(inplace = True)\n",
    "\n",
    "print(test_df.isnull().any().any())\n",
    "train_y = np.array(train_df['winPlacePerc'])\n",
    "train_x = train_df.drop(columns=['winPlacePerc'], axis=1)\n",
    "\n",
    "test_y = np.array(test_df['winPlacePerc'])\n",
    "test_x = test_df.drop(columns=['winPlacePerc'], axis=1)\n",
    "print(train_x.shape, test_x.shape, train_y.shape, test_y.shape)"
   ]
  },
  {
   "cell_type": "code",
   "execution_count": 12,
   "metadata": {
    "scrolled": true
   },
   "outputs": [
    {
     "name": "stdout",
     "output_type": "stream",
     "text": [
      "False\n",
      "False\n"
     ]
    }
   ],
   "source": [
    "train_df.dropna(inplace = True)\n",
    "print(train_df.isnull().any().any())\n",
    "test_df.dropna(inplace = True)\n",
    "print(test_df.isnull().any().any())"
   ]
  },
  {
   "cell_type": "code",
   "execution_count": 22,
   "metadata": {},
   "outputs": [],
   "source": [
    "regr = RandomForestRegressor(n_estimators=100, min_samples_leaf=1, max_features=0.7, n_jobs=-1)\n",
    "# n_estimators : 트리 개수(default=10)\n",
    "# min_samples_leaf : leaf 노드의 최소 개수\n",
    "# max_features : If float -> int(max_features * n_features)\n",
    "#                트리 feature 개수 설정\n",
    "# n_jobs : 성능 관련 파라미터(-1: using all processors)"
   ]
  },
  {
   "cell_type": "code",
   "execution_count": null,
   "metadata": {
    "scrolled": true
   },
   "outputs": [],
   "source": [
    "%%time\n",
    "regr.fit(train_x, train_y)"
   ]
  },
  {
   "cell_type": "code",
   "execution_count": null,
   "metadata": {},
   "outputs": [],
   "source": [
    "print('mae train: ', mean_absolute_error(regr.predict(train_x), train_y)) # leaf=1, feature = 0.7, 6분, solo\n",
    "print('mae test: ', mean_absolute_error(regr.predict(test_x), test_y))"
   ]
  },
  {
   "cell_type": "code",
   "execution_count": 18,
   "metadata": {
    "scrolled": true
   },
   "outputs": [
    {
     "name": "stdout",
     "output_type": "stream",
     "text": [
      "mae train:  0.029333601961265974\n",
      "mae test:  0.061988828066232717\n"
     ]
    }
   ],
   "source": [
    "print('mae train: ', mean_absolute_error(regr.predict(train_x), train_y)) # leaf=2, feature = 0.7, 6분, solo\n",
    "print('mae test: ', mean_absolute_error(regr.predict(test_x), test_y))"
   ]
  },
  {
   "cell_type": "code",
   "execution_count": 15,
   "metadata": {},
   "outputs": [
    {
     "name": "stdout",
     "output_type": "stream",
     "text": [
      "mae train:  0.030851512574853832\n",
      "mae test:  0.06177828991533644\n"
     ]
    }
   ],
   "source": [
    "print('mae train: ', mean_absolute_error(regr.predict(train_x), train_y)) # leaf=2, feature = 0.5, 6분, solo\n",
    "print('mae test: ', mean_absolute_error(regr.predict(test_x), test_y))"
   ]
  },
  {
   "cell_type": "code",
   "execution_count": 22,
   "metadata": {},
   "outputs": [
    {
     "name": "stdout",
     "output_type": "stream",
     "text": [
      "mae train:  0.029725261419484506\n",
      "mae test:  0.0618463890532697\n"
     ]
    }
   ],
   "source": [
    "print('mae train: ', mean_absolute_error(regr.predict(train_x), train_y)) # leaf=2, feature = 0.6, 3분, solo\n",
    "print('mae test: ', mean_absolute_error(regr.predict(test_x), test_y))"
   ]
  },
  {
   "cell_type": "code",
   "execution_count": 19,
   "metadata": {
    "scrolled": true
   },
   "outputs": [
    {
     "name": "stdout",
     "output_type": "stream",
     "text": [
      "mae train:  0.03674590303174028\n",
      "mae test:  0.06168367930336537\n"
     ]
    }
   ],
   "source": [
    "print('mae train: ', mean_absolute_error(regr.predict(train_x), train_y)) # leaf=3, feature = 0.5, 2분, solo\n",
    "print('mae test: ', mean_absolute_error(regr.predict(test_x), test_y))"
   ]
  },
  {
   "cell_type": "code",
   "execution_count": 15,
   "metadata": {
    "scrolled": true
   },
   "outputs": [
    {
     "name": "stdout",
     "output_type": "stream",
     "text": [
      "mae train:  0.030775291288358157\n",
      "mae test:  0.06176320466441904\n"
     ]
    }
   ],
   "source": [
    "print('mae train: ', mean_absolute_error(regr.predict(train_x), train_y)) # leaf=2, feature = 0.5, 6분, solo\n",
    "print('mae test: ', mean_absolute_error(regr.predict(test_x), test_y))"
   ]
  },
  {
   "cell_type": "code",
   "execution_count": 10,
   "metadata": {},
   "outputs": [
    {
     "name": "stdout",
     "output_type": "stream",
     "text": [
      "mae train:  0.017647205104711072\n",
      "mae test:  0.038040549504877355\n"
     ]
    }
   ],
   "source": [
    "print('mae train: ', mean_absolute_error(regr.predict(train_x), train_y)) # leaf=2, feature = 0.5, 6분, duo\n",
    "print('mae test: ', mean_absolute_error(regr.predict(test_x), test_y))"
   ]
  },
  {
   "cell_type": "code",
   "execution_count": null,
   "metadata": {},
   "outputs": [],
   "source": []
  },
  {
   "cell_type": "code",
   "execution_count": 14,
   "metadata": {},
   "outputs": [
    {
     "name": "stdout",
     "output_type": "stream",
     "text": [
      "mae train:  0.024789576713285168\n",
      "mae test:  0.04252635397084784\n"
     ]
    }
   ],
   "source": [
    "print('mae train: ', mean_absolute_error(regr.predict(train_x), train_y)) # leaf=4, feature = None, 12분, duo\n",
    "print('mae test: ', mean_absolute_error(regr.predict(test_x), test_y))"
   ]
  },
  {
   "cell_type": "code",
   "execution_count": 11,
   "metadata": {},
   "outputs": [
    {
     "name": "stdout",
     "output_type": "stream",
     "text": [
      "mae train:  0.022882137144165666\n",
      "mae test:  0.041150939470752095\n"
     ]
    }
   ],
   "source": [
    "print('mae train: ', mean_absolute_error(regr.predict(train_x), train_y)) # leaf=3, feature = 0.5, 7분, duo\n",
    "print('mae test: ', mean_absolute_error(regr.predict(test_x), test_y))"
   ]
  },
  {
   "cell_type": "code",
   "execution_count": null,
   "metadata": {},
   "outputs": [],
   "source": []
  }
 ],
 "metadata": {
  "kernelspec": {
   "display_name": "Python 3",
   "language": "python",
   "name": "python3"
  },
  "language_info": {
   "codemirror_mode": {
    "name": "ipython",
    "version": 3
   },
   "file_extension": ".py",
   "mimetype": "text/x-python",
   "name": "python",
   "nbconvert_exporter": "python",
   "pygments_lexer": "ipython3",
   "version": "3.6.6"
  }
 },
 "nbformat": 4,
 "nbformat_minor": 2
}
