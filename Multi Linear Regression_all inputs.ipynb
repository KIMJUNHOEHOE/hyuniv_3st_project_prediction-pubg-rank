{
 "cells": [
  {
   "cell_type": "code",
   "execution_count": 8,
   "metadata": {},
   "outputs": [
    {
     "data": {
      "text/plain": [
       "'3.6.7 |Anaconda, Inc.| (default, Oct 28 2018, 19:44:12) [MSC v.1915 64 bit (AMD64)]'"
      ]
     },
     "execution_count": 8,
     "metadata": {},
     "output_type": "execute_result"
    }
   ],
   "source": [
    "import sys\n",
    "sys.version"
   ]
  },
  {
   "cell_type": "code",
   "execution_count": 3,
   "metadata": {},
   "outputs": [],
   "source": [
    "import tensorflow as tf\n",
    "import numpy as np\n",
    "import pandas as pd\n",
    "import matplotlib.pyplot as plt\n",
    "import seaborn as sns\n",
    "from sklearn.model_selection import train_test_split\n",
    "import warnings\n",
    "warnings.filterwarnings(\"ignore\")"
   ]
  },
  {
   "cell_type": "code",
   "execution_count": 4,
   "metadata": {},
   "outputs": [],
   "source": [
    "data = pd.read_csv('./data/train_V2.csv')\n",
    "train, test = train_test_split(data, train_size = 0.7)"
   ]
  },
  {
   "cell_type": "code",
   "execution_count": 4,
   "metadata": {},
   "outputs": [
    {
     "name": "stdout",
     "output_type": "stream",
     "text": [
      "<class 'pandas.core.frame.DataFrame'>\n",
      "Int64Index: 3112876 entries, 4307427 to 4257903\n",
      "Data columns (total 29 columns):\n",
      "Id                 object\n",
      "groupId            object\n",
      "matchId            object\n",
      "assists            int64\n",
      "boosts             int64\n",
      "damageDealt        float64\n",
      "DBNOs              int64\n",
      "headshotKills      int64\n",
      "heals              int64\n",
      "killPlace          int64\n",
      "killPoints         int64\n",
      "kills              int64\n",
      "killStreaks        int64\n",
      "longestKill        float64\n",
      "matchDuration      int64\n",
      "matchType          object\n",
      "maxPlace           int64\n",
      "numGroups          int64\n",
      "rankPoints         int64\n",
      "revives            int64\n",
      "rideDistance       float64\n",
      "roadKills          int64\n",
      "swimDistance       float64\n",
      "teamKills          int64\n",
      "vehicleDestroys    int64\n",
      "walkDistance       float64\n",
      "weaponsAcquired    int64\n",
      "winPoints          int64\n",
      "winPlacePerc       float64\n",
      "dtypes: float64(6), int64(19), object(4)\n",
      "memory usage: 712.5+ MB\n"
     ]
    }
   ],
   "source": [
    "train.info()"
   ]
  },
  {
   "cell_type": "code",
   "execution_count": 5,
   "metadata": {},
   "outputs": [
    {
     "name": "stdout",
     "output_type": "stream",
     "text": [
      "<class 'pandas.core.frame.DataFrame'>\n",
      "Int64Index: 1334090 entries, 1753135 to 2769105\n",
      "Data columns (total 29 columns):\n",
      "Id                 1334090 non-null object\n",
      "groupId            1334090 non-null object\n",
      "matchId            1334090 non-null object\n",
      "assists            1334090 non-null int64\n",
      "boosts             1334090 non-null int64\n",
      "damageDealt        1334090 non-null float64\n",
      "DBNOs              1334090 non-null int64\n",
      "headshotKills      1334090 non-null int64\n",
      "heals              1334090 non-null int64\n",
      "killPlace          1334090 non-null int64\n",
      "killPoints         1334090 non-null int64\n",
      "kills              1334090 non-null int64\n",
      "killStreaks        1334090 non-null int64\n",
      "longestKill        1334090 non-null float64\n",
      "matchDuration      1334090 non-null int64\n",
      "matchType          1334090 non-null object\n",
      "maxPlace           1334090 non-null int64\n",
      "numGroups          1334090 non-null int64\n",
      "rankPoints         1334090 non-null int64\n",
      "revives            1334090 non-null int64\n",
      "rideDistance       1334090 non-null float64\n",
      "roadKills          1334090 non-null int64\n",
      "swimDistance       1334090 non-null float64\n",
      "teamKills          1334090 non-null int64\n",
      "vehicleDestroys    1334090 non-null int64\n",
      "walkDistance       1334090 non-null float64\n",
      "weaponsAcquired    1334090 non-null int64\n",
      "winPoints          1334090 non-null int64\n",
      "winPlacePerc       1334090 non-null float64\n",
      "dtypes: float64(6), int64(19), object(4)\n",
      "memory usage: 305.3+ MB\n"
     ]
    }
   ],
   "source": [
    "test.info()"
   ]
  },
  {
   "cell_type": "code",
   "execution_count": 5,
   "metadata": {},
   "outputs": [],
   "source": [
    "# 회귀분석을 하기 위해 문자열을 범주값으로 변환\n",
    "matchTyp = {'squad-fpp': 0, 'duo': 1, 'solo-fpp': 2, 'squad': 3, 'duo-fpp': 4, 'solo': 5,\n",
    "       'normal-squad-fpp': 6, 'crashfpp': 7, 'flaretpp': 8, 'normal-solo-fpp': 9,\n",
    "       'flarefpp': 10, 'normal-duo-fpp': 11, 'normal-duo': 12, 'normal-squad': 13,\n",
    "       'crashtpp': 14, 'normal-solo': 15 }\n",
    "\n",
    "train['matchType'] = train['matchType'].replace(matchTyp)\n",
    "test['matchType'] = test['matchType'].replace(matchTyp)"
   ]
  },
  {
   "cell_type": "code",
   "execution_count": 7,
   "metadata": {},
   "outputs": [
    {
     "name": "stdout",
     "output_type": "stream",
     "text": [
      "False\n",
      "False\n"
     ]
    }
   ],
   "source": [
    "# null값 확인 및 na가 포함된 행 제거\n",
    "# inplace=False로 하면 기존 혹은 새로운 변수에 할당해야 하고, inplace = True 하면 해당변수에 적용됨\n",
    "# na가 포함된 행을 제거하는 것은 데이터 소실이 크기 때문에 inplace=False가 default\n",
    "train.dropna(inplace = True)\n",
    "print(train.isnull().any().any())\n",
    "test.dropna(inplace = True)\n",
    "print(test.isnull().any().any())"
   ]
  },
  {
   "cell_type": "code",
   "execution_count": 8,
   "metadata": {},
   "outputs": [],
   "source": [
    "train_df = train.drop(['Id','groupId','matchId'], axis = 1)"
   ]
  },
  {
   "cell_type": "code",
   "execution_count": 9,
   "metadata": {},
   "outputs": [],
   "source": [
    "test_df = test.drop(['Id','groupId','matchId'], axis = 1)"
   ]
  },
  {
   "cell_type": "markdown",
   "metadata": {},
   "source": [
    "### 데이터 전 처리 없이 multi linear regression\n",
    "\n",
    "###### learning rate = 0.01"
   ]
  },
  {
   "cell_type": "code",
   "execution_count": 10,
   "metadata": {
    "scrolled": true
   },
   "outputs": [
    {
     "name": "stdout",
     "output_type": "stream",
     "text": [
      "pass\n",
      "pass\n",
      "0 Cost:  3192517.0 \n",
      "Prediction:\n",
      " [[1871.8335 ]\n",
      " [-186.7072 ]\n",
      " [1588.5277 ]\n",
      " ...\n",
      " [ 593.3451 ]\n",
      " [ 825.23926]\n",
      " [-188.75899]]\n",
      "5 Cost:  3192194.0 \n",
      "Prediction:\n",
      " [[1871.75   ]\n",
      " [-186.75667]\n",
      " [1588.4492 ]\n",
      " ...\n",
      " [ 593.22424]\n",
      " [ 825.1378 ]\n",
      " [-188.79408]]\n",
      "10 Cost:  3191866.8 \n",
      "Prediction:\n",
      " [[1871.6665 ]\n",
      " [-186.80603]\n",
      " [1588.371  ]\n",
      " ...\n",
      " [ 593.10345]\n",
      " [ 825.0363 ]\n",
      " [-188.82912]]\n",
      "15 Cost:  3191539.0 \n",
      "Prediction:\n",
      " [[1871.5829 ]\n",
      " [-186.85538]\n",
      " [1588.2927 ]\n",
      " ...\n",
      " [ 592.9827 ]\n",
      " [ 824.93494]\n",
      " [-188.86415]]\n",
      "20 Cost:  3191216.5 \n",
      "Prediction:\n",
      " [[1871.4995 ]\n",
      " [-186.90475]\n",
      " [1588.2144 ]\n",
      " ...\n",
      " [ 592.8619 ]\n",
      " [ 824.83356]\n",
      " [-188.89932]]\n",
      "25 Cost:  3190893.0 \n",
      "Prediction:\n",
      " [[1871.416  ]\n",
      " [-186.95396]\n",
      " [1588.1359 ]\n",
      " ...\n",
      " [ 592.74115]\n",
      " [ 824.7319 ]\n",
      " [-188.93423]]\n",
      "30 Cost:  3190568.2 \n",
      "Prediction:\n",
      " [[1871.3325 ]\n",
      " [-187.00331]\n",
      " [1588.0575 ]\n",
      " ...\n",
      " [ 592.6204 ]\n",
      " [ 824.6305 ]\n",
      " [-188.9693 ]]\n",
      "35 Cost:  3190242.2 \n",
      "Prediction:\n",
      " [[1871.249  ]\n",
      " [-187.05263]\n",
      " [1587.9791 ]\n",
      " ...\n",
      " [ 592.4997 ]\n",
      " [ 824.5291 ]\n",
      " [-189.00436]]\n",
      "40 Cost:  3189924.0 \n",
      "Prediction:\n",
      " [[1871.1655 ]\n",
      " [-187.10199]\n",
      " [1587.9008 ]\n",
      " ...\n",
      " [ 592.37885]\n",
      " [ 824.4275 ]\n",
      " [-189.03941]]\n",
      "45 Cost:  3189604.2 \n",
      "Prediction:\n",
      " [[1871.0819 ]\n",
      " [-187.15134]\n",
      " [1587.8224 ]\n",
      " ...\n",
      " [ 592.258  ]\n",
      " [ 824.3262 ]\n",
      " [-189.07445]]\n",
      "50 Cost:  3189278.8 \n",
      "Prediction:\n",
      " [[1870.9984 ]\n",
      " [-187.20084]\n",
      " [1587.744  ]\n",
      " ...\n",
      " [ 592.13715]\n",
      " [ 824.2247 ]\n",
      " [-189.10954]]\n",
      "[[ 0.12987146]\n",
      " [ 0.83894295]\n",
      " [ 0.74787104]\n",
      " [-1.102799  ]\n",
      " [-0.08771838]\n",
      " [ 0.7014309 ]\n",
      " [-1.1040452 ]\n",
      " [-0.94765776]\n",
      " [ 1.1599993 ]\n",
      " [-0.12947361]\n",
      " [ 0.05038094]\n",
      " [ 0.5093654 ]\n",
      " [ 0.7049657 ]\n",
      " [ 0.28196633]\n",
      " [-0.87663436]\n",
      " [ 0.60553455]\n",
      " [ 0.07964784]\n",
      " [ 0.2423883 ]\n",
      " [ 0.8338428 ]\n",
      " [ 0.23567396]\n",
      " [-1.1412296 ]\n",
      " [ 1.5380809 ]\n",
      " [ 0.21768479]\n",
      " [-0.5676145 ]\n",
      " [ 0.12624066]]\n",
      "[[-184.11957]\n",
      " [2131.219  ]\n",
      " [  88.88596]\n",
      " ...\n",
      " [-266.00552]\n",
      " [1709.2792 ]\n",
      " [ 246.72627]]\n"
     ]
    }
   ],
   "source": [
    "train_np = np.array(train_df)\n",
    "test_np = np.array(test_df)\n",
    "\n",
    "x_train = train_np[:,0:-1] # id, groupId, matchid 제외\n",
    "y_train = train_np[:, [-1]]\n",
    "print('pass')\n",
    "\n",
    "x_test = test_np[:,:-1] # id, groupId, matchid 제외\n",
    "y_test = test_np[:,[-1]]\n",
    "print('pass')\n",
    "\n",
    "# placeholders for a tensor that will be always fed.\n",
    "X = tf.placeholder(tf.float32, shape=[None, 25]) # 총 29개 칼럼에서 3개 빼면 26, y값 까지 빼면 25\n",
    "Y = tf.placeholder(tf.float32, shape=[None, 1])\n",
    "\n",
    "W = tf.Variable(tf.random_normal([25, 1]), name='weight')\n",
    "b = tf.Variable(tf.random_normal([1]), name='bias')\n",
    "\n",
    "# Hypothesis(model)\n",
    "hypothesis = tf.matmul(X, W) + b\n",
    "\n",
    "# Simplified cost/loss function\n",
    "cost = tf.reduce_mean(tf.square(hypothesis - Y))\n",
    "\n",
    "# Minimize\n",
    "optimizer = tf.train.GradientDescentOptimizer(learning_rate=0.000000000001) # 0.01로 할 시에 발산..\n",
    "train = optimizer.minimize(cost)\n",
    "\n",
    "# Launch the graph in a session.\n",
    "with tf.Session() as sess:\n",
    "    # Initializes global variables in the graph.\n",
    "    sess.run(tf.global_variables_initializer())\n",
    "\n",
    "    for step in range(51):\n",
    "        cost_val, hy_val, _ = sess.run(\n",
    "            [cost, hypothesis, train], feed_dict={X: x_train, Y: y_train})\n",
    "        if step % 5 == 0:\n",
    "            print(step, \"Cost: \", cost_val, \"\\nPrediction:\\n\", hy_val)\n",
    "    Weight = sess.run(W)\n",
    "    print(Weight)\n",
    "    y_predict = sess.run(hypothesis, feed_dict={X:x_test})\n",
    "    print(y_predict)\n",
    "    \n",
    "# 계속 발산 문제가 발생하는데, 단위가 다른 killpoint, rankpoint 때문이거나, learning rate가 높거나"
   ]
  },
  {
   "cell_type": "code",
   "execution_count": 14,
   "metadata": {},
   "outputs": [
    {
     "name": "stdout",
     "output_type": "stream",
     "text": [
      "                     Id  winPlacePerc      predict         diff         MAE\n",
      "399423   b9afa39d984a72        0.6735  -184.119568   184.793068  1465.89581\n",
      "254232   258779308864c1        0.1852  2131.218994 -2131.033794  1465.89581\n",
      "140019   0953bdd466ba40        0.2000    88.885963   -88.685963  1465.89581\n",
      "1461802  50abe5de009ba5        0.2500  1891.363403 -1891.113403  1465.89581\n",
      "4301593  e7245481830af5        0.0000  -221.331985   221.331985  1465.89581\n",
      "Mae\t :  1465.895809973223\n"
     ]
    }
   ],
   "source": [
    "test_id = pd.DataFrame(test['Id'])\n",
    "test_winPlacePerc = pd.DataFrame(test['winPlacePerc'])\n",
    "y_predict_df = pd.DataFrame(y_predict,index = test_id.index,columns=['predict'])\n",
    "diff = pd.DataFrame(test['winPlacePerc']-y_predict_df['predict'],\n",
    "                   columns=['diff'])\n",
    "\n",
    "mae = sum(abs(diff['diff']))/diff['diff'].count() # Mean absolute error\n",
    "\n",
    "result = pd.DataFrame({'Id':test_id['Id'],'winPlacePerc':test_winPlacePerc['winPlacePerc'], \n",
    "                       'predict':y_predict_df['predict'],'diff':diff['diff'],'MAE':mae})\n",
    "result.to_csv('./result/Multi_Linear_Regression_all_inputs.csv',sep=',', encoding='utf-8')\n",
    "print(result.head())\n",
    "print('Mae\\t : ', mae)"
   ]
  },
  {
   "cell_type": "markdown",
   "metadata": {},
   "source": [
    "### 문제\n",
    "> - 예측변수인 winPlacePerc는 0~1 사이의 값인데 반해, x변수값 중에서는 단위가 큰 값이 존재하므로, 단위의 normalization or MinMaxSaler 함수를 적용해야 함"
   ]
  },
  {
   "cell_type": "code",
   "execution_count": null,
   "metadata": {},
   "outputs": [],
   "source": []
  }
 ],
 "metadata": {
  "kernelspec": {
   "display_name": "Python 3",
   "language": "python",
   "name": "python3"
  },
  "language_info": {
   "codemirror_mode": {
    "name": "ipython",
    "version": 3
   },
   "file_extension": ".py",
   "mimetype": "text/x-python",
   "name": "python",
   "nbconvert_exporter": "python",
   "pygments_lexer": "ipython3",
   "version": "3.6.7"
  }
 },
 "nbformat": 4,
 "nbformat_minor": 2
}
