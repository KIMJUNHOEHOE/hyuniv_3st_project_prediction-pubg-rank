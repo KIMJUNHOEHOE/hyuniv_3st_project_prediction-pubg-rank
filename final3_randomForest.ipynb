{
 "cells": [
  {
   "cell_type": "code",
   "execution_count": 1,
   "metadata": {},
   "outputs": [
    {
     "name": "stderr",
     "output_type": "stream",
     "text": [
      "C:\\Users\\JunHweKim\\Anaconda3\\envs\\py36\\lib\\site-packages\\sklearn\\ensemble\\weight_boosting.py:29: DeprecationWarning: numpy.core.umath_tests is an internal NumPy module and should not be imported. It will be removed in a future NumPy release.\n",
      "  from numpy.core.umath_tests import inner1d\n"
     ]
    }
   ],
   "source": [
    "import tensorflow as tf\n",
    "import numpy as np\n",
    "import pandas as pd\n",
    "import matplotlib.pyplot as plt\n",
    "import seaborn as sns\n",
    "from sklearn.model_selection import train_test_split\n",
    "import sklearn.preprocessing\n",
    "from sklearn.ensemble import RandomForestRegressor\n",
    "from sklearn.datasets import make_regression\n",
    "from sklearn.metrics import mean_squared_error,mean_absolute_error\n",
    "import warnings\n",
    "warnings.filterwarnings(\"ignore\")\n",
    "from tqdm import tqdm_notebook"
   ]
  },
  {
   "cell_type": "code",
   "execution_count": 2,
   "metadata": {},
   "outputs": [],
   "source": [
    "# dataframe display 옵션\n",
    "pd.set_option('display.max_columns' , 30)\n",
    "pd.set_option('display.width', None)"
   ]
  },
  {
   "cell_type": "code",
   "execution_count": 3,
   "metadata": {},
   "outputs": [],
   "source": [
    "raw_data = pd.read_csv('./data/final3/final3_solo_Data.csv',  dtype={         \n",
    "\n",
    "                            \n",
    "                            'matchType': 'int8',\n",
    "                            'match_size': 'int16',\n",
    "                            'assists_ratio': 'float32',\n",
    "                            'boosts_ratio': 'float32',\n",
    "                            'headshotKills_ratio': 'float32',\n",
    "                            'heals_ratio': 'float32',\n",
    "                            'kills_ratio': 'float32',\n",
    "                            'killStreaks_ratio': 'float32',\n",
    "                            'longestKill_ratio': 'float32',\n",
    "                            'rideDistance_ratio': 'float32',\n",
    "                            'swimDistance_ratio': 'float32',\n",
    "                            'walkDistance_ratio': 'float32',\n",
    "                            'weaponsAcquired_ratio': 'float32',\n",
    "                            'headshotKillrate_ratio': 'float32',\n",
    "                            'DBNOs_ratio': 'float32',\n",
    "                            'revives_ratio': 'float32',\n",
    "                            'winPlacePerc': 'float32'\n",
    "\n",
    "                })"
   ]
  },
  {
   "cell_type": "code",
   "execution_count": 4,
   "metadata": {},
   "outputs": [],
   "source": [
    "#data = raw_data[raw_data['matchType']==1]\n",
    "data = raw_data.copy()"
   ]
  },
  {
   "cell_type": "code",
   "execution_count": 5,
   "metadata": {},
   "outputs": [
    {
     "data": {
      "text/html": [
       "<div>\n",
       "<style scoped>\n",
       "    .dataframe tbody tr th:only-of-type {\n",
       "        vertical-align: middle;\n",
       "    }\n",
       "\n",
       "    .dataframe tbody tr th {\n",
       "        vertical-align: top;\n",
       "    }\n",
       "\n",
       "    .dataframe thead th {\n",
       "        text-align: right;\n",
       "    }\n",
       "</style>\n",
       "<table border=\"1\" class=\"dataframe\">\n",
       "  <thead>\n",
       "    <tr style=\"text-align: right;\">\n",
       "      <th></th>\n",
       "      <th>match_size</th>\n",
       "      <th>assists_ratio</th>\n",
       "      <th>boosts_ratio</th>\n",
       "      <th>heals_ratio</th>\n",
       "      <th>kills_ratio</th>\n",
       "      <th>killStreaks_ratio</th>\n",
       "      <th>longestKill_ratio</th>\n",
       "      <th>rideDistance_ratio</th>\n",
       "      <th>swimDistance_ratio</th>\n",
       "      <th>walkDistance_ratio</th>\n",
       "      <th>weaponsAcquired_ratio</th>\n",
       "      <th>winPlacePerc</th>\n",
       "    </tr>\n",
       "  </thead>\n",
       "  <tbody>\n",
       "    <tr>\n",
       "      <th>0</th>\n",
       "      <td>97</td>\n",
       "      <td>0.0</td>\n",
       "      <td>0.0</td>\n",
       "      <td>0.0</td>\n",
       "      <td>1.065934</td>\n",
       "      <td>2.020833</td>\n",
       "      <td>2.592667</td>\n",
       "      <td>0.0</td>\n",
       "      <td>0.0</td>\n",
       "      <td>0.06145</td>\n",
       "      <td>0.591463</td>\n",
       "      <td>0.1875</td>\n",
       "    </tr>\n",
       "  </tbody>\n",
       "</table>\n",
       "</div>"
      ],
      "text/plain": [
       "   match_size  assists_ratio  boosts_ratio  heals_ratio  kills_ratio  \\\n",
       "0          97            0.0           0.0          0.0     1.065934   \n",
       "\n",
       "   killStreaks_ratio  longestKill_ratio  rideDistance_ratio  \\\n",
       "0           2.020833           2.592667                 0.0   \n",
       "\n",
       "   swimDistance_ratio  walkDistance_ratio  weaponsAcquired_ratio  winPlacePerc  \n",
       "0                 0.0             0.06145               0.591463        0.1875  "
      ]
     },
     "execution_count": 5,
     "metadata": {},
     "output_type": "execute_result"
    }
   ],
   "source": [
    "slic_data = data.copy()\n",
    "#headshotfills & headshotkillrate\n",
    "slic_data = slic_data.drop(columns=[\"Id\",'matchId','groupId', 'matchType', 'headshotKills_ratio', 'headshotKillrate_ratio'], axis=1)\n",
    "slic_data.head(1)"
   ]
  },
  {
   "cell_type": "code",
   "execution_count": 6,
   "metadata": {},
   "outputs": [
    {
     "name": "stdout",
     "output_type": "stream",
     "text": [
      "(483733, 11) (207315, 11) (483733,) (207315,)\n"
     ]
    }
   ],
   "source": [
    "train_df, test_df = train_test_split(slic_data, train_size = 0.7)\n",
    "\n",
    "#train_df = reduce_mem_usage(train_df)\n",
    "#test_df = reduce_mem_usage(test_df)\n",
    "\n",
    "train_y = np.array(train_df['winPlacePerc'])\n",
    "train_x = train_df.drop(columns=['winPlacePerc'], axis=1)\n",
    "\n",
    "test_y = np.array(test_df['winPlacePerc'])\n",
    "test_x = test_df.drop(columns=['winPlacePerc'], axis=1)\n",
    "print(train_x.shape, test_x.shape, train_y.shape, test_y.shape)"
   ]
  },
  {
   "cell_type": "code",
   "execution_count": 33,
   "metadata": {},
   "outputs": [],
   "source": [
    "regr = RandomForestRegressor(n_estimators=80, min_samples_leaf=2, max_features=0.5, n_jobs=-1)\n",
    "# n_estimators : 트리 개수(default=10)\n",
    "# min_samples_leaf : leaf 노드의 최소 개수\n",
    "# max_features : If float -> int(max_features * n_features)\n",
    "#                트리 feature 개수 설정\n",
    "# n_jobs : 성능 관련 파라미터(-1: using all processors)"
   ]
  },
  {
   "cell_type": "code",
   "execution_count": 34,
   "metadata": {},
   "outputs": [
    {
     "name": "stdout",
     "output_type": "stream",
     "text": [
      "Wall time: 1min 23s\n"
     ]
    },
    {
     "data": {
      "text/plain": [
       "RandomForestRegressor(bootstrap=True, criterion='mse', max_depth=None,\n",
       "           max_features=0.5, max_leaf_nodes=None,\n",
       "           min_impurity_decrease=0.0, min_impurity_split=None,\n",
       "           min_samples_leaf=2, min_samples_split=2,\n",
       "           min_weight_fraction_leaf=0.0, n_estimators=80, n_jobs=-1,\n",
       "           oob_score=False, random_state=None, verbose=0, warm_start=False)"
      ]
     },
     "execution_count": 34,
     "metadata": {},
     "output_type": "execute_result"
    }
   ],
   "source": [
    "%%time\n",
    "regr.fit(train_x, train_y)"
   ]
  },
  {
   "cell_type": "code",
   "execution_count": 36,
   "metadata": {},
   "outputs": [
    {
     "name": "stdout",
     "output_type": "stream",
     "text": [
      "mae train:  0.03522851071674583\n",
      "mae test:  0.0638623128401683\n"
     ]
    }
   ],
   "source": [
    "print('mae train: ', mean_absolute_error(regr.predict(train_x), train_y)) # n_esti=90, leaf=2, feature = 0.7, 1분, solo, final3\n",
    "print('mae test: ', mean_absolute_error(regr.predict(test_x), test_y))"
   ]
  },
  {
   "cell_type": "code",
   "execution_count": 20,
   "metadata": {},
   "outputs": [
    {
     "name": "stdout",
     "output_type": "stream",
     "text": [
      "mae train:  0.03194050136486256\n",
      "mae test:  0.06426813715800758\n"
     ]
    }
   ],
   "source": [
    "print('mae train: ', mean_absolute_error(regr.predict(train_x), train_y)) # leaf=2, feature = 0.8, 1분, solo, final3\n",
    "print('mae test: ', mean_absolute_error(regr.predict(test_x), test_y))"
   ]
  },
  {
   "cell_type": "code",
   "execution_count": 15,
   "metadata": {
    "scrolled": true
   },
   "outputs": [
    {
     "name": "stdout",
     "output_type": "stream",
     "text": [
      "mae train:  0.06131839471124505\n",
      "mae test:  0.06989965578822849\n"
     ]
    }
   ],
   "source": [
    "print('mae train: ', mean_absolute_error(regr.predict(train_x), train_y)) # leaf=3, feature = 1, 1분, solo, final3\n",
    "print('mae test: ', mean_absolute_error(regr.predict(test_x), test_y))"
   ]
  },
  {
   "cell_type": "code",
   "execution_count": 12,
   "metadata": {},
   "outputs": [
    {
     "name": "stdout",
     "output_type": "stream",
     "text": [
      "mae train:  0.03518094393791923\n",
      "mae test:  0.06377197077449683\n"
     ]
    }
   ],
   "source": [
    "print('mae train: ', mean_absolute_error(regr.predict(train_x), train_y)) # leaf=2, feature = 0.5, 1분, solo, final3\n",
    "print('mae test: ', mean_absolute_error(regr.predict(test_x), test_y))"
   ]
  },
  {
   "cell_type": "code",
   "execution_count": 37,
   "metadata": {},
   "outputs": [
    {
     "name": "stdout",
     "output_type": "stream",
     "text": [
      "mae train:  0.017992216336593526\n",
      "mae test:  0.03915567841779923\n"
     ]
    }
   ],
   "source": [
    "print('mae train: ', mean_absolute_error(regr.predict(train_x), train_y)) # leaf=2, feature = 0.9, 6분, duo, final3\n",
    "print('mae test: ', mean_absolute_error(regr.predict(test_x), test_y))"
   ]
  },
  {
   "cell_type": "code",
   "execution_count": 29,
   "metadata": {},
   "outputs": [
    {
     "name": "stdout",
     "output_type": "stream",
     "text": [
      "mae train:  0.018201933065927982\n",
      "mae test:  0.039304875118693655\n"
     ]
    }
   ],
   "source": [
    "print('mae train: ', mean_absolute_error(regr.predict(train_x), train_y)) # leaf=2, feature = 0.8, 8분, duo, final3\n",
    "print('mae test: ', mean_absolute_error(regr.predict(test_x), test_y))"
   ]
  },
  {
   "cell_type": "code",
   "execution_count": 26,
   "metadata": {},
   "outputs": [
    {
     "name": "stdout",
     "output_type": "stream",
     "text": [
      "mae train:  0.01848229208676697\n",
      "mae test:  0.03946084655468023\n"
     ]
    }
   ],
   "source": [
    "print('mae train: ', mean_absolute_error(regr.predict(train_x), train_y)) # leaf=2, feature = 0.7, 5분, duo, final3\n",
    "print('mae test: ', mean_absolute_error(regr.predict(test_x), test_y))"
   ]
  },
  {
   "cell_type": "code",
   "execution_count": 23,
   "metadata": {},
   "outputs": [
    {
     "name": "stdout",
     "output_type": "stream",
     "text": [
      "mae train:  0.019343548494971618\n",
      "mae test:  0.040036374302964854\n"
     ]
    }
   ],
   "source": [
    "print('mae train: ', mean_absolute_error(regr.predict(train_x), train_y)) # leaf=2, feature = 0.6, 4분, duo, final3\n",
    "print('mae test: ', mean_absolute_error(regr.predict(test_x), test_y))"
   ]
  },
  {
   "cell_type": "code",
   "execution_count": 20,
   "metadata": {
    "scrolled": true
   },
   "outputs": [
    {
     "name": "stdout",
     "output_type": "stream",
     "text": [
      "mae train:  0.024919361956727337\n",
      "mae test:  0.043446964695371355\n"
     ]
    }
   ],
   "source": [
    "print('mae train: ', mean_absolute_error(regr.predict(train_x), train_y)) # leaf=2, feature = 0.3, 2분, duo, final3\n",
    "print('mae test: ', mean_absolute_error(regr.predict(test_x), test_y))"
   ]
  },
  {
   "cell_type": "code",
   "execution_count": 17,
   "metadata": {},
   "outputs": [
    {
     "name": "stdout",
     "output_type": "stream",
     "text": [
      "mae train:  0.037230018316457225\n",
      "mae test:  0.052087742423614254\n"
     ]
    }
   ],
   "source": [
    "print('mae train: ', mean_absolute_error(regr.predict(train_x), train_y)) # leaf=2, feature = 1, 2분, duo, final3\n",
    "print('mae test: ', mean_absolute_error(regr.predict(test_x), test_y))"
   ]
  },
  {
   "cell_type": "code",
   "execution_count": 14,
   "metadata": {},
   "outputs": [
    {
     "name": "stdout",
     "output_type": "stream",
     "text": [
      "mae train:  0.020044053591276336\n",
      "mae test:  0.04048098975447371\n"
     ]
    }
   ],
   "source": [
    "print('mae train: ', mean_absolute_error(regr.predict(train_x), train_y)) # leaf=2, feature = 0.5, 2분, duo, final3\n",
    "print('mae test: ', mean_absolute_error(regr.predict(test_x), test_y))"
   ]
  },
  {
   "cell_type": "code",
   "execution_count": 36,
   "metadata": {},
   "outputs": [
    {
     "name": "stdout",
     "output_type": "stream",
     "text": [
      "mae train:  0.02622966462278863\n",
      "mae test:  0.044194074952824146\n"
     ]
    }
   ],
   "source": [
    "print('mae train: ', mean_absolute_error(regr.predict(train_x), train_y)) # leaf=3, feature = 0.5, 2분, duo, final3\n",
    "print('mae test: ', mean_absolute_error(regr.predict(test_x), test_y))"
   ]
  },
  {
   "cell_type": "code",
   "execution_count": null,
   "metadata": {},
   "outputs": [],
   "source": []
  }
 ],
 "metadata": {
  "kernelspec": {
   "display_name": "Python 3",
   "language": "python",
   "name": "python3"
  },
  "language_info": {
   "codemirror_mode": {
    "name": "ipython",
    "version": 3
   },
   "file_extension": ".py",
   "mimetype": "text/x-python",
   "name": "python",
   "nbconvert_exporter": "python",
   "pygments_lexer": "ipython3",
   "version": "3.6.6"
  }
 },
 "nbformat": 4,
 "nbformat_minor": 2
}
