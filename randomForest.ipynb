{
 "cells": [
  {
   "cell_type": "code",
   "execution_count": 1,
   "metadata": {},
   "outputs": [
    {
     "name": "stderr",
     "output_type": "stream",
     "text": [
      "C:\\Users\\JunHweKim\\Anaconda3\\envs\\py36\\lib\\site-packages\\sklearn\\ensemble\\weight_boosting.py:29: DeprecationWarning: numpy.core.umath_tests is an internal NumPy module and should not be imported. It will be removed in a future NumPy release.\n",
      "  from numpy.core.umath_tests import inner1d\n",
      "C:\\Users\\JunHweKim\\Anaconda3\\envs\\py36\\lib\\site-packages\\sklearn\\cross_validation.py:41: DeprecationWarning: This module was deprecated in version 0.18 in favor of the model_selection module into which all the refactored classes and functions are moved. Also note that the interface of the new CV iterators are different from that of this module. This module will be removed in 0.20.\n",
      "  \"This module will be removed in 0.20.\", DeprecationWarning)\n",
      "C:\\Users\\JunHweKim\\Anaconda3\\envs\\py36\\lib\\site-packages\\sklearn\\grid_search.py:42: DeprecationWarning: This module was deprecated in version 0.18 in favor of the model_selection module into which all the refactored classes and functions are moved. This module will be removed in 0.20.\n",
      "  DeprecationWarning)\n"
     ]
    }
   ],
   "source": [
    "import tensorflow as tf\n",
    "import numpy as np\n",
    "import pandas as pd\n",
    "import matplotlib.pyplot as plt\n",
    "import seaborn as sns\n",
    "from sklearn.model_selection import train_test_split\n",
    "import sklearn.preprocessing\n",
    "from sklearn.ensemble import RandomForestRegressor\n",
    "from sklearn.datasets import make_regression\n",
    "from sklearn.metrics import mean_squared_error,mean_absolute_error\n",
    "from sklearn.grid_search import GridSearchCV\n",
    "import warnings\n",
    "warnings.filterwarnings(\"ignore\")\n",
    "from tqdm import tqdm_notebook"
   ]
  },
  {
   "cell_type": "code",
   "execution_count": 2,
   "metadata": {},
   "outputs": [],
   "source": [
    "# dataframe display 옵션\n",
    "pd.set_option('display.max_columns' , 30)\n",
    "pd.set_option('display.width', None)"
   ]
  },
  {
   "cell_type": "code",
   "execution_count": 3,
   "metadata": {},
   "outputs": [],
   "source": [
    "raw_data = pd.read_csv('./data/final3/final3_Data(version3).csv', dtype={                  \n",
    "\t\t\t\t\t'matchType'                         : 'int16',\n",
    "            'DBNOs_max'                         : 'float32',\n",
    "            'assists_max'                       : 'float32',\n",
    "            'boosts_max'                        : 'float32',\n",
    "            'damageDealt_max'                   : 'float32',\n",
    "            'headshotKills_max'                 : 'float32',\n",
    "            'heals_max'                         : 'float32',\n",
    "            'killStreaks_max'                   : 'float32',\n",
    "            'kills_max'                         : 'float32',\n",
    "            'longestKill_max'                   : 'float32',\n",
    "            'revives_max'                       : 'float32',\n",
    "            'roadKills_max'                     : 'float32',\n",
    "            'teamKills_max'                     : 'float32',\n",
    "            'vehicleDestroys_max'               : 'float32',\n",
    "            'weaponsAcquired_max'               : 'float32',\n",
    "            'DBNOs_min'                         : 'float32',\n",
    "            'assists_min'                       : 'float32',\n",
    "            'boosts_min'                        : 'float32',\n",
    "            'damageDealt_min'                   : 'float32',\n",
    "            'headshotKills_min'                 : 'float32',\n",
    "            'heals_min'                         : 'float32',\n",
    "            'killStreaks_min'                   : 'float32',\n",
    "            'kills_min'                         : 'float32',\n",
    "            'longestKill_min'                   : 'float32',\n",
    "            'revives_min'                       : 'float32',\n",
    "            'roadKills_min'                     : 'float32',\n",
    "            'teamKills_min'                     : 'float32',\n",
    "            'vehicleDestroys_min'               : 'float32',\n",
    "            'weaponsAcquired_min'               : 'float32',\n",
    "            'assists_mean'                      : 'float32',\n",
    "            'boosts_mean'                       : 'float32',\n",
    "            'damageDealt_mean'                  : 'float32',\n",
    "            'DBNOs_mean'                        : 'float32',\n",
    "            'headshotKills_mean'                : 'float32',\n",
    "            'heals_mean'                        : 'float32',\n",
    "            'kills_mean'                        : 'float32',\n",
    "            'killStreaks_mean'                  : 'float32',\n",
    "            'longestKill_mean'                  : 'float32',\n",
    "            'revives_mean'                      : 'float32',\n",
    "            'roadKills_mean'                    : 'float32',\n",
    "            'teamKills_mean'                    : 'float32',\n",
    "            'vehicleDestroys_mean'              : 'float32',\n",
    "            'weaponsAcquired_mean'              : 'float32',\n",
    "            'assists_match_mean'                : 'float32',\n",
    "            'boosts_match_mean'                 : 'float32',\n",
    "            'damageDealt_match_mean'            : 'float32',\n",
    "            'DBNOs_match_mean'                  : 'float32',\n",
    "            'headshotKills_match_mean'          : 'float32',\n",
    "            'heals_match_mean'                  : 'float32',\n",
    "            'kills_match_mean'                  : 'float32',\n",
    "            'killStreaks_match_mean'            : 'float32',\n",
    "            'longestKill_match_mean'            : 'float32',\n",
    "            'revives_match_mean'                : 'float32',\n",
    "            'roadKills_match_mean'              : 'float32',\n",
    "            'teamKills_match_mean'              : 'float32',\n",
    "            'vehicleDestroys_match_mean'        : 'float32',\n",
    "            'weaponsAcquired_match_mean'        : 'float32',\n",
    "            'match_size'                        : 'int16',\n",
    "            'total_distance_max'                : 'float32',\n",
    "            'total_distance_min'                : 'float32',\n",
    "            'total_distance_mean'               : 'float32',\n",
    "            'total_distance_match_mean'         : 'float32',\n",
    "            'winPlacePerc'                      : 'float32'\n",
    "                })"
   ]
  },
  {
   "cell_type": "code",
   "execution_count": 4,
   "metadata": {},
   "outputs": [],
   "source": [
    "data = raw_data.copy()"
   ]
  },
  {
   "cell_type": "code",
   "execution_count": 5,
   "metadata": {},
   "outputs": [
    {
     "data": {
      "text/html": [
       "<div>\n",
       "<style scoped>\n",
       "    .dataframe tbody tr th:only-of-type {\n",
       "        vertical-align: middle;\n",
       "    }\n",
       "\n",
       "    .dataframe tbody tr th {\n",
       "        vertical-align: top;\n",
       "    }\n",
       "\n",
       "    .dataframe thead th {\n",
       "        text-align: right;\n",
       "    }\n",
       "</style>\n",
       "<table border=\"1\" class=\"dataframe\">\n",
       "  <thead>\n",
       "    <tr style=\"text-align: right;\">\n",
       "      <th></th>\n",
       "      <th>DBNOs_max</th>\n",
       "      <th>assists_max</th>\n",
       "      <th>boosts_max</th>\n",
       "      <th>headshotKills_max</th>\n",
       "      <th>heals_max</th>\n",
       "      <th>killStreaks_max</th>\n",
       "      <th>kills_max</th>\n",
       "      <th>longestKill_max</th>\n",
       "      <th>revives_max</th>\n",
       "      <th>roadKills_max</th>\n",
       "      <th>teamKills_max</th>\n",
       "      <th>vehicleDestroys_max</th>\n",
       "      <th>weaponsAcquired_max</th>\n",
       "      <th>DBNOs_min</th>\n",
       "      <th>assists_min</th>\n",
       "      <th>...</th>\n",
       "      <th>heals_match_mean</th>\n",
       "      <th>kills_match_mean</th>\n",
       "      <th>killStreaks_match_mean</th>\n",
       "      <th>longestKill_match_mean</th>\n",
       "      <th>revives_match_mean</th>\n",
       "      <th>roadKills_match_mean</th>\n",
       "      <th>teamKills_match_mean</th>\n",
       "      <th>vehicleDestroys_match_mean</th>\n",
       "      <th>weaponsAcquired_match_mean</th>\n",
       "      <th>match_size</th>\n",
       "      <th>total_distance_max</th>\n",
       "      <th>total_distance_min</th>\n",
       "      <th>total_distance_mean</th>\n",
       "      <th>total_distance_match_mean</th>\n",
       "      <th>winPlacePerc</th>\n",
       "    </tr>\n",
       "  </thead>\n",
       "  <tbody>\n",
       "    <tr>\n",
       "      <th>0</th>\n",
       "      <td>2.0</td>\n",
       "      <td>0.0</td>\n",
       "      <td>0.0</td>\n",
       "      <td>1.0</td>\n",
       "      <td>0.0</td>\n",
       "      <td>1.0</td>\n",
       "      <td>4.0</td>\n",
       "      <td>27.66</td>\n",
       "      <td>0.0</td>\n",
       "      <td>0.0</td>\n",
       "      <td>0.0</td>\n",
       "      <td>0.0</td>\n",
       "      <td>2.0</td>\n",
       "      <td>0.0</td>\n",
       "      <td>0.0</td>\n",
       "      <td>...</td>\n",
       "      <td>0.5625</td>\n",
       "      <td>0.875</td>\n",
       "      <td>0.5208</td>\n",
       "      <td>13.1891</td>\n",
       "      <td>0.1458</td>\n",
       "      <td>0.0</td>\n",
       "      <td>0.0417</td>\n",
       "      <td>0.0</td>\n",
       "      <td>3.0104</td>\n",
       "      <td>96</td>\n",
       "      <td>342.799988</td>\n",
       "      <td>48.279999</td>\n",
       "      <td>182.990005</td>\n",
       "      <td>1017.849915</td>\n",
       "      <td>0.4444</td>\n",
       "    </tr>\n",
       "  </tbody>\n",
       "</table>\n",
       "<p>1 rows × 58 columns</p>\n",
       "</div>"
      ],
      "text/plain": [
       "   DBNOs_max  assists_max  boosts_max  headshotKills_max  heals_max  \\\n",
       "0        2.0          0.0         0.0                1.0        0.0   \n",
       "\n",
       "   killStreaks_max  kills_max  longestKill_max  revives_max  roadKills_max  \\\n",
       "0              1.0        4.0            27.66          0.0            0.0   \n",
       "\n",
       "   teamKills_max  vehicleDestroys_max  weaponsAcquired_max  DBNOs_min  \\\n",
       "0            0.0                  0.0                  2.0        0.0   \n",
       "\n",
       "   assists_min      ...       heals_match_mean  kills_match_mean  \\\n",
       "0          0.0      ...                 0.5625             0.875   \n",
       "\n",
       "   killStreaks_match_mean  longestKill_match_mean  revives_match_mean  \\\n",
       "0                  0.5208                 13.1891              0.1458   \n",
       "\n",
       "   roadKills_match_mean  teamKills_match_mean  vehicleDestroys_match_mean  \\\n",
       "0                   0.0                0.0417                         0.0   \n",
       "\n",
       "   weaponsAcquired_match_mean  match_size  total_distance_max  \\\n",
       "0                      3.0104          96          342.799988   \n",
       "\n",
       "   total_distance_min  total_distance_mean  total_distance_match_mean  \\\n",
       "0           48.279999           182.990005                1017.849915   \n",
       "\n",
       "   winPlacePerc  \n",
       "0        0.4444  \n",
       "\n",
       "[1 rows x 58 columns]"
      ]
     },
     "execution_count": 5,
     "metadata": {},
     "output_type": "execute_result"
    }
   ],
   "source": [
    "slic_data = data.copy()\n",
    "slic_data = slic_data.drop(columns=[\"Id\",'matchId','groupId', 'matchType','damageDealt_mean','damageDealt_max','damageDealt_min','damageDealt_match_mean'], axis=1)\n",
    "slic_data.head(1)"
   ]
  },
  {
   "cell_type": "code",
   "execution_count": 6,
   "metadata": {},
   "outputs": [
    {
     "name": "stdout",
     "output_type": "stream",
     "text": [
      "(3026368, 57) (1297015, 57) (3026368,) (1297015,)\n"
     ]
    }
   ],
   "source": [
    "train_df, test_df = train_test_split(slic_data, train_size = 0.7)\n",
    "\n",
    "scaler = sklearn.preprocessing.minmax_scale\n",
    "\n",
    "train_y = np.array(train_df['winPlacePerc'])\n",
    "train_x = scaler(train_df.drop(columns=['winPlacePerc'], axis=1))\n",
    "\n",
    "test_y = np.array(test_df['winPlacePerc'])\n",
    "test_x = scaler(test_df.drop(columns=['winPlacePerc'], axis=1))\n",
    "print(train_x.shape, test_x.shape, train_y.shape, test_y.shape)"
   ]
  },
  {
   "cell_type": "code",
   "execution_count": 7,
   "metadata": {
    "scrolled": true
   },
   "outputs": [
    {
     "name": "stdout",
     "output_type": "stream",
     "text": [
      "False\n",
      "False\n"
     ]
    }
   ],
   "source": [
    "train_df.dropna(inplace = True)\n",
    "print(train_df.isnull().any().any())\n",
    "test_df.dropna(inplace = True)\n",
    "print(test_df.isnull().any().any())"
   ]
  },
  {
   "cell_type": "code",
   "execution_count": 11,
   "metadata": {},
   "outputs": [],
   "source": [
    "regr = RandomForestRegressor(n_estimators=100, min_samples_leaf=2, max_features=0.7, n_jobs=-1,max_depth=50)\n",
    "# n_estimators : 트리 개수(default=10\n",
    "# min_samples_leaf : leaf 노드의 최소 개수\n",
    "# max_features : If float -> int(max_features * n_features)\n",
    "#                트리 feature 개수 설정\n",
    "# n_jobs : 성능 관련 파라미터(-1: using all processors)"
   ]
  },
  {
   "cell_type": "code",
   "execution_count": null,
   "metadata": {},
   "outputs": [],
   "source": [
    "%%time\n",
    "regr.fit(train_x, train_y)"
   ]
  },
  {
   "cell_type": "code",
   "execution_count": null,
   "metadata": {},
   "outputs": [],
   "source": [
    "print('mae train: ', mean_absolute_error(regr.predict(train_x), train_y)) # 100, 2, 0.7,50\n",
    "print('mae test: ', mean_absolute_error(regr.predict(test_x), test_y))"
   ]
  },
  {
   "cell_type": "code",
   "execution_count": 10,
   "metadata": {},
   "outputs": [
    {
     "name": "stdout",
     "output_type": "stream",
     "text": [
      "mae train:  0.014644514788586185\n",
      "mae test:  0.044195839683463634\n"
     ]
    }
   ],
   "source": [
    "print('mae train: ', mean_absolute_error(regr.predict(train_x), train_y)) # 100, 2, 0.7,100\n",
    "print('mae test: ', mean_absolute_error(regr.predict(test_x), test_y))"
   ]
  },
  {
   "cell_type": "code",
   "execution_count": 10,
   "metadata": {},
   "outputs": [
    {
     "name": "stdout",
     "output_type": "stream",
     "text": [
      "mae train:  0.014936601774823961\n",
      "mae test:  0.052921071564795835\n"
     ]
    }
   ],
   "source": [
    "print('mae train: ', mean_absolute_error(regr.predict(train_x), train_y)) # 100, 2, 0.5, 70\n",
    "print('mae test: ', mean_absolute_error(regr.predict(test_x), test_y))"
   ]
  },
  {
   "cell_type": "code",
   "execution_count": 12,
   "metadata": {},
   "outputs": [
    {
     "name": "stdout",
     "output_type": "stream",
     "text": [
      "mae train:  0.03936046654168393\n",
      "mae test:  0.060682321694404504\n"
     ]
    }
   ],
   "source": [
    "print('mae train: ', mean_absolute_error(regr.predict(train_x), train_y)) # 100, 2, 0.7, 20\n",
    "print('mae test: ', mean_absolute_error(regr.predict(test_x), test_y))"
   ]
  },
  {
   "cell_type": "code",
   "execution_count": 10,
   "metadata": {},
   "outputs": [
    {
     "name": "stdout",
     "output_type": "stream",
     "text": [
      "mae train:  0.014642157054311003\n",
      "mae test:  0.05053937675047791\n"
     ]
    }
   ],
   "source": [
    "print('mae train: ', mean_absolute_error(regr.predict(train_x), train_y)) # 100, 2, 0.7, 70\n",
    "print('mae test: ', mean_absolute_error(regr.predict(test_x), test_y))"
   ]
  },
  {
   "cell_type": "code",
   "execution_count": 14,
   "metadata": {},
   "outputs": [
    {
     "name": "stdout",
     "output_type": "stream",
     "text": [
      "mae train:  0.01493315982996057\n",
      "mae test:  0.034938198855522996\n"
     ]
    }
   ],
   "source": [
    "print('mae train: ', mean_absolute_error(regr.predict(train_x), train_y)) # 100, 2, 0.5, 50\n",
    "print('mae test: ', mean_absolute_error(regr.predict(test_x), test_y))"
   ]
  },
  {
   "cell_type": "code",
   "execution_count": 10,
   "metadata": {},
   "outputs": [
    {
     "name": "stdout",
     "output_type": "stream",
     "text": [
      "mae train:  0.018600626430326565\n",
      "mae test:  0.05516105910091987\n"
     ]
    }
   ],
   "source": [
    "print('mae train: ', mean_absolute_error(regr.predict(train_x), train_y)) # 100, 3, 0.5\n",
    "print('mae test: ', mean_absolute_error(regr.predict(test_x), test_y))"
   ]
  },
  {
   "cell_type": "code",
   "execution_count": 10,
   "metadata": {},
   "outputs": [
    {
     "name": "stdout",
     "output_type": "stream",
     "text": [
      "mae train:  0.014634568791349232\n",
      "mae test:  0.050810893814568325\n"
     ]
    }
   ],
   "source": [
    "print('mae train: ', mean_absolute_error(regr.predict(train_x), train_y)) # 100, 2, 0.7\n",
    "print('mae test: ', mean_absolute_error(regr.predict(test_x), test_y))"
   ]
  },
  {
   "cell_type": "code",
   "execution_count": 27,
   "metadata": {},
   "outputs": [
    {
     "name": "stdout",
     "output_type": "stream",
     "text": [
      "mae train:  0.02713400654636574\n",
      "mae test:  0.739951011870463\n"
     ]
    }
   ],
   "source": [
    "print('mae train: ', mean_absolute_error(regr.predict(train_x), train_y)) # 100, 2, 0.7\n",
    "print('mae test: ', mean_absolute_error(regr.predict(test_x), test_y))"
   ]
  },
  {
   "cell_type": "code",
   "execution_count": 22,
   "metadata": {},
   "outputs": [
    {
     "name": "stdout",
     "output_type": "stream",
     "text": [
      "mae train:  0.028458961355457772\n",
      "mae test:  0.7329331499019792\n"
     ]
    }
   ],
   "source": [
    "print('mae train: ', mean_absolute_error(regr.predict(train_x), train_y)) # 100, 2, 0.3\n",
    "print('mae test: ', mean_absolute_error(regr.predict(test_x), test_y))"
   ]
  },
  {
   "cell_type": "code",
   "execution_count": 19,
   "metadata": {},
   "outputs": [
    {
     "name": "stdout",
     "output_type": "stream",
     "text": [
      "mae train:  0.04904916396395539\n",
      "mae test:  0.7710277819125936\n"
     ]
    }
   ],
   "source": [
    "print('mae train: ', mean_absolute_error(regr.predict(train_x), train_y)) # 100, 3, 2\n",
    "print('mae test: ', mean_absolute_error(regr.predict(test_x), test_y))"
   ]
  },
  {
   "cell_type": "code",
   "execution_count": 16,
   "metadata": {},
   "outputs": [
    {
     "name": "stdout",
     "output_type": "stream",
     "text": [
      "mae train:  0.026486985512584518\n",
      "mae test:  0.7056412756889169\n"
     ]
    }
   ],
   "source": [
    "print('mae train: ', mean_absolute_error(regr.predict(train_x), train_y)) # 100, 3, 0.8, leaf 개수를 늘릴수록 과적합됨\n",
    "print('mae test: ', mean_absolute_error(regr.predict(test_x), test_y))"
   ]
  },
  {
   "cell_type": "code",
   "execution_count": 11,
   "metadata": {},
   "outputs": [
    {
     "name": "stdout",
     "output_type": "stream",
     "text": [
      "mae train:  0.09026902624051832\n",
      "mae test:  0.22370336004896982\n"
     ]
    }
   ],
   "source": [
    "print('mae train: ', mean_absolute_error(regr.predict(train_x), train_y)) # 100, 2, 0.7\n",
    "print('mae test: ', mean_absolute_error(regr.predict(test_x), test_y))"
   ]
  },
  {
   "cell_type": "code",
   "execution_count": null,
   "metadata": {},
   "outputs": [],
   "source": []
  }
 ],
 "metadata": {
  "kernelspec": {
   "display_name": "Python 3",
   "language": "python",
   "name": "python3"
  },
  "language_info": {
   "codemirror_mode": {
    "name": "ipython",
    "version": 3
   },
   "file_extension": ".py",
   "mimetype": "text/x-python",
   "name": "python",
   "nbconvert_exporter": "python",
   "pygments_lexer": "ipython3",
   "version": "3.6.6"
  }
 },
 "nbformat": 4,
 "nbformat_minor": 2
}
